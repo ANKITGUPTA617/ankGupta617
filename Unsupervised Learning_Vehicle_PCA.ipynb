{
 "cells": [
  {
   "cell_type": "markdown",
   "metadata": {},
   "source": [
    "#### Purpose\n",
    "- To classify a given silhouette as one of four different types of vehicle, using a set of features extracted from the silhouette. The vehicle may be viewed from one of many different angles.\n",
    "- Four \"Corgie\" model vehicles were used for the experiment: a double decker bus, Cheverolet-van, Saab 9000 and an Opel Manta 400 cars. This particular combination of vehicles was chosen with the expectation that the bus, van and either one of the cars would be readily distinguishable, but it would be more difficult to distinguish between the cars.\n",
    "- The purpose is to classify a given silhouette as one of three types of vehicle, using a set of features extracted from the silhouette. The vehicle may be viewed from one of many different angles.\n",
    "\n",
    "#### The points distribution for this case is as follows:\n",
    "1. Data pre-processing - Understand the data and treat missing values (Use box plot), outliers (5 points)\n",
    "2. Understanding the attributes - Find relationship between different attributes (Independent variables) and choose carefully which all attributes have to be a part of the analysis and why (5 points)\n",
    "3. Use PCA from scikit learn and elbow plot to find out reduced number of dimension (which covers more than 95% of the variance) - 10 points\n",
    "4. Use Support vector machines and use grid search (try C values - 0.01, 0.05, 0.5, 1 and kernel = linear, rbf) and find out the best hyper parameters and do cross validation to find the accuracy. (10 points)"
   ]
  },
  {
   "cell_type": "code",
   "execution_count": 497,
   "metadata": {},
   "outputs": [],
   "source": [
    "import numpy as np\n",
    "import pandas as pd\n",
    "import seaborn as sns\n",
    "from matplotlib import pyplot as plt\n",
    "from sklearn.preprocessing import StandardScaler, MinMaxScaler\n",
    "from sklearn.decomposition import PCA\n",
    "from sklearn.model_selection import train_test_split, KFold, cross_val_score\n",
    "from sklearn import metrics"
   ]
  },
  {
   "cell_type": "code",
   "execution_count": 498,
   "metadata": {},
   "outputs": [],
   "source": [
    "vehicle_df = pd.read_csv('vehicle.csv')"
   ]
  },
  {
   "cell_type": "code",
   "execution_count": 499,
   "metadata": {},
   "outputs": [
    {
     "data": {
      "text/html": [
       "<div>\n",
       "<style scoped>\n",
       "    .dataframe tbody tr th:only-of-type {\n",
       "        vertical-align: middle;\n",
       "    }\n",
       "\n",
       "    .dataframe tbody tr th {\n",
       "        vertical-align: top;\n",
       "    }\n",
       "\n",
       "    .dataframe thead th {\n",
       "        text-align: right;\n",
       "    }\n",
       "</style>\n",
       "<table border=\"1\" class=\"dataframe\">\n",
       "  <thead>\n",
       "    <tr style=\"text-align: right;\">\n",
       "      <th></th>\n",
       "      <th>compactness</th>\n",
       "      <th>circularity</th>\n",
       "      <th>distance_circularity</th>\n",
       "      <th>radius_ratio</th>\n",
       "      <th>pr.axis_aspect_ratio</th>\n",
       "      <th>max.length_aspect_ratio</th>\n",
       "      <th>scatter_ratio</th>\n",
       "      <th>elongatedness</th>\n",
       "      <th>pr.axis_rectangularity</th>\n",
       "      <th>max.length_rectangularity</th>\n",
       "      <th>scaled_variance</th>\n",
       "      <th>scaled_variance.1</th>\n",
       "      <th>scaled_radius_of_gyration</th>\n",
       "      <th>scaled_radius_of_gyration.1</th>\n",
       "      <th>skewness_about</th>\n",
       "      <th>skewness_about.1</th>\n",
       "      <th>skewness_about.2</th>\n",
       "      <th>hollows_ratio</th>\n",
       "      <th>class</th>\n",
       "    </tr>\n",
       "  </thead>\n",
       "  <tbody>\n",
       "    <tr>\n",
       "      <td>0</td>\n",
       "      <td>95</td>\n",
       "      <td>48.0</td>\n",
       "      <td>83.0</td>\n",
       "      <td>178.0</td>\n",
       "      <td>72.0</td>\n",
       "      <td>10</td>\n",
       "      <td>162.0</td>\n",
       "      <td>42.0</td>\n",
       "      <td>20.0</td>\n",
       "      <td>159</td>\n",
       "      <td>176.0</td>\n",
       "      <td>379.0</td>\n",
       "      <td>184.0</td>\n",
       "      <td>70.0</td>\n",
       "      <td>6.0</td>\n",
       "      <td>16.0</td>\n",
       "      <td>187.0</td>\n",
       "      <td>197</td>\n",
       "      <td>van</td>\n",
       "    </tr>\n",
       "    <tr>\n",
       "      <td>1</td>\n",
       "      <td>91</td>\n",
       "      <td>41.0</td>\n",
       "      <td>84.0</td>\n",
       "      <td>141.0</td>\n",
       "      <td>57.0</td>\n",
       "      <td>9</td>\n",
       "      <td>149.0</td>\n",
       "      <td>45.0</td>\n",
       "      <td>19.0</td>\n",
       "      <td>143</td>\n",
       "      <td>170.0</td>\n",
       "      <td>330.0</td>\n",
       "      <td>158.0</td>\n",
       "      <td>72.0</td>\n",
       "      <td>9.0</td>\n",
       "      <td>14.0</td>\n",
       "      <td>189.0</td>\n",
       "      <td>199</td>\n",
       "      <td>van</td>\n",
       "    </tr>\n",
       "    <tr>\n",
       "      <td>2</td>\n",
       "      <td>104</td>\n",
       "      <td>50.0</td>\n",
       "      <td>106.0</td>\n",
       "      <td>209.0</td>\n",
       "      <td>66.0</td>\n",
       "      <td>10</td>\n",
       "      <td>207.0</td>\n",
       "      <td>32.0</td>\n",
       "      <td>23.0</td>\n",
       "      <td>158</td>\n",
       "      <td>223.0</td>\n",
       "      <td>635.0</td>\n",
       "      <td>220.0</td>\n",
       "      <td>73.0</td>\n",
       "      <td>14.0</td>\n",
       "      <td>9.0</td>\n",
       "      <td>188.0</td>\n",
       "      <td>196</td>\n",
       "      <td>car</td>\n",
       "    </tr>\n",
       "    <tr>\n",
       "      <td>3</td>\n",
       "      <td>93</td>\n",
       "      <td>41.0</td>\n",
       "      <td>82.0</td>\n",
       "      <td>159.0</td>\n",
       "      <td>63.0</td>\n",
       "      <td>9</td>\n",
       "      <td>144.0</td>\n",
       "      <td>46.0</td>\n",
       "      <td>19.0</td>\n",
       "      <td>143</td>\n",
       "      <td>160.0</td>\n",
       "      <td>309.0</td>\n",
       "      <td>127.0</td>\n",
       "      <td>63.0</td>\n",
       "      <td>6.0</td>\n",
       "      <td>10.0</td>\n",
       "      <td>199.0</td>\n",
       "      <td>207</td>\n",
       "      <td>van</td>\n",
       "    </tr>\n",
       "    <tr>\n",
       "      <td>4</td>\n",
       "      <td>85</td>\n",
       "      <td>44.0</td>\n",
       "      <td>70.0</td>\n",
       "      <td>205.0</td>\n",
       "      <td>103.0</td>\n",
       "      <td>52</td>\n",
       "      <td>149.0</td>\n",
       "      <td>45.0</td>\n",
       "      <td>19.0</td>\n",
       "      <td>144</td>\n",
       "      <td>241.0</td>\n",
       "      <td>325.0</td>\n",
       "      <td>188.0</td>\n",
       "      <td>127.0</td>\n",
       "      <td>9.0</td>\n",
       "      <td>11.0</td>\n",
       "      <td>180.0</td>\n",
       "      <td>183</td>\n",
       "      <td>bus</td>\n",
       "    </tr>\n",
       "  </tbody>\n",
       "</table>\n",
       "</div>"
      ],
      "text/plain": [
       "   compactness  circularity  distance_circularity  radius_ratio  \\\n",
       "0           95         48.0                  83.0         178.0   \n",
       "1           91         41.0                  84.0         141.0   \n",
       "2          104         50.0                 106.0         209.0   \n",
       "3           93         41.0                  82.0         159.0   \n",
       "4           85         44.0                  70.0         205.0   \n",
       "\n",
       "   pr.axis_aspect_ratio  max.length_aspect_ratio  scatter_ratio  \\\n",
       "0                  72.0                       10          162.0   \n",
       "1                  57.0                        9          149.0   \n",
       "2                  66.0                       10          207.0   \n",
       "3                  63.0                        9          144.0   \n",
       "4                 103.0                       52          149.0   \n",
       "\n",
       "   elongatedness  pr.axis_rectangularity  max.length_rectangularity  \\\n",
       "0           42.0                    20.0                        159   \n",
       "1           45.0                    19.0                        143   \n",
       "2           32.0                    23.0                        158   \n",
       "3           46.0                    19.0                        143   \n",
       "4           45.0                    19.0                        144   \n",
       "\n",
       "   scaled_variance  scaled_variance.1  scaled_radius_of_gyration  \\\n",
       "0            176.0              379.0                      184.0   \n",
       "1            170.0              330.0                      158.0   \n",
       "2            223.0              635.0                      220.0   \n",
       "3            160.0              309.0                      127.0   \n",
       "4            241.0              325.0                      188.0   \n",
       "\n",
       "   scaled_radius_of_gyration.1  skewness_about  skewness_about.1  \\\n",
       "0                         70.0             6.0              16.0   \n",
       "1                         72.0             9.0              14.0   \n",
       "2                         73.0            14.0               9.0   \n",
       "3                         63.0             6.0              10.0   \n",
       "4                        127.0             9.0              11.0   \n",
       "\n",
       "   skewness_about.2  hollows_ratio class  \n",
       "0             187.0            197   van  \n",
       "1             189.0            199   van  \n",
       "2             188.0            196   car  \n",
       "3             199.0            207   van  \n",
       "4             180.0            183   bus  "
      ]
     },
     "execution_count": 499,
     "metadata": {},
     "output_type": "execute_result"
    }
   ],
   "source": [
    "vehicle_df.head()"
   ]
  },
  {
   "cell_type": "code",
   "execution_count": 500,
   "metadata": {},
   "outputs": [
    {
     "name": "stdout",
     "output_type": "stream",
     "text": [
      "<class 'pandas.core.frame.DataFrame'>\n",
      "RangeIndex: 846 entries, 0 to 845\n",
      "Data columns (total 19 columns):\n",
      "compactness                    846 non-null int64\n",
      "circularity                    841 non-null float64\n",
      "distance_circularity           842 non-null float64\n",
      "radius_ratio                   840 non-null float64\n",
      "pr.axis_aspect_ratio           844 non-null float64\n",
      "max.length_aspect_ratio        846 non-null int64\n",
      "scatter_ratio                  845 non-null float64\n",
      "elongatedness                  845 non-null float64\n",
      "pr.axis_rectangularity         843 non-null float64\n",
      "max.length_rectangularity      846 non-null int64\n",
      "scaled_variance                843 non-null float64\n",
      "scaled_variance.1              844 non-null float64\n",
      "scaled_radius_of_gyration      844 non-null float64\n",
      "scaled_radius_of_gyration.1    842 non-null float64\n",
      "skewness_about                 840 non-null float64\n",
      "skewness_about.1               845 non-null float64\n",
      "skewness_about.2               845 non-null float64\n",
      "hollows_ratio                  846 non-null int64\n",
      "class                          846 non-null object\n",
      "dtypes: float64(14), int64(4), object(1)\n",
      "memory usage: 125.7+ KB\n"
     ]
    }
   ],
   "source": [
    "vehicle_df.info()"
   ]
  },
  {
   "cell_type": "code",
   "execution_count": 501,
   "metadata": {},
   "outputs": [
    {
     "name": "stdout",
     "output_type": "stream",
     "text": [
      "1. There seems to be lots of missing values in various columns\n",
      "2. Also, no column is of type object except target column. It means there are non-numeric data in these columns\n"
     ]
    }
   ],
   "source": [
    "print(\"1. There seems to be lots of missing values in various columns\")\n",
    "print(\"2. Also, no column is of type object except target column. It means there are non-numeric data in these columns\")"
   ]
  },
  {
   "cell_type": "markdown",
   "metadata": {},
   "source": [
    "### Data Preprocessing"
   ]
  },
  {
   "cell_type": "code",
   "execution_count": 502,
   "metadata": {},
   "outputs": [
    {
     "data": {
      "text/plain": [
       "compactness                    0\n",
       "circularity                    5\n",
       "distance_circularity           4\n",
       "radius_ratio                   6\n",
       "pr.axis_aspect_ratio           2\n",
       "max.length_aspect_ratio        0\n",
       "scatter_ratio                  1\n",
       "elongatedness                  1\n",
       "pr.axis_rectangularity         3\n",
       "max.length_rectangularity      0\n",
       "scaled_variance                3\n",
       "scaled_variance.1              2\n",
       "scaled_radius_of_gyration      2\n",
       "scaled_radius_of_gyration.1    4\n",
       "skewness_about                 6\n",
       "skewness_about.1               1\n",
       "skewness_about.2               1\n",
       "hollows_ratio                  0\n",
       "class                          0\n",
       "dtype: int64"
      ]
     },
     "execution_count": 502,
     "metadata": {},
     "output_type": "execute_result"
    }
   ],
   "source": [
    "#Checking for missing values\n",
    "columns_with_missing_values = vehicle_df.columns[vehicle_df.isna().any()]\n",
    "vehicle_df.isna().sum()"
   ]
  },
  {
   "cell_type": "code",
   "execution_count": 503,
   "metadata": {},
   "outputs": [
    {
     "name": "stdout",
     "output_type": "stream",
     "text": [
      "We can see below columns has missing values:\n",
      "Index(['circularity', 'distance_circularity', 'radius_ratio',\n",
      "       'pr.axis_aspect_ratio', 'scatter_ratio', 'elongatedness',\n",
      "       'pr.axis_rectangularity', 'scaled_variance', 'scaled_variance.1',\n",
      "       'scaled_radius_of_gyration', 'scaled_radius_of_gyration.1',\n",
      "       'skewness_about', 'skewness_about.1', 'skewness_about.2'],\n",
      "      dtype='object')\n",
      "\n",
      "There are around 846 entries and below 2% are missing. So, we can drop some of the entries or replace them with a suitable value.\n"
     ]
    }
   ],
   "source": [
    "print(\"We can see below columns has missing values:\")\n",
    "print(columns_with_missing_values)\n",
    "print()\n",
    "print(\"There are around 846 entries and below 2% are missing. So, \\\n",
    "we can drop some of the entries or replace them with a suitable value.\")"
   ]
  },
  {
   "cell_type": "code",
   "execution_count": 504,
   "metadata": {},
   "outputs": [],
   "source": [
    "#Treating missing values (Replacing missing values with median)\n",
    "for column in columns_with_missing_values:\n",
    "    vehicle_df[column] = pd.to_numeric(vehicle_df[column].fillna(vehicle_df[column].median()))"
   ]
  },
  {
   "cell_type": "code",
   "execution_count": 505,
   "metadata": {},
   "outputs": [
    {
     "name": "stdout",
     "output_type": "stream",
     "text": [
      "<class 'pandas.core.frame.DataFrame'>\n",
      "RangeIndex: 846 entries, 0 to 845\n",
      "Data columns (total 19 columns):\n",
      "compactness                    846 non-null int64\n",
      "circularity                    846 non-null float64\n",
      "distance_circularity           846 non-null float64\n",
      "radius_ratio                   846 non-null float64\n",
      "pr.axis_aspect_ratio           846 non-null float64\n",
      "max.length_aspect_ratio        846 non-null int64\n",
      "scatter_ratio                  846 non-null float64\n",
      "elongatedness                  846 non-null float64\n",
      "pr.axis_rectangularity         846 non-null float64\n",
      "max.length_rectangularity      846 non-null int64\n",
      "scaled_variance                846 non-null float64\n",
      "scaled_variance.1              846 non-null float64\n",
      "scaled_radius_of_gyration      846 non-null float64\n",
      "scaled_radius_of_gyration.1    846 non-null float64\n",
      "skewness_about                 846 non-null float64\n",
      "skewness_about.1               846 non-null float64\n",
      "skewness_about.2               846 non-null float64\n",
      "hollows_ratio                  846 non-null int64\n",
      "class                          846 non-null object\n",
      "dtypes: float64(14), int64(4), object(1)\n",
      "memory usage: 125.7+ KB\n"
     ]
    }
   ],
   "source": [
    "#Check data types and missing values\n",
    "vehicle_df.info()"
   ]
  },
  {
   "cell_type": "code",
   "execution_count": 506,
   "metadata": {},
   "outputs": [
    {
     "data": {
      "text/plain": [
       "compactness                    0\n",
       "circularity                    0\n",
       "distance_circularity           0\n",
       "radius_ratio                   0\n",
       "pr.axis_aspect_ratio           0\n",
       "max.length_aspect_ratio        0\n",
       "scatter_ratio                  0\n",
       "elongatedness                  0\n",
       "pr.axis_rectangularity         0\n",
       "max.length_rectangularity      0\n",
       "scaled_variance                0\n",
       "scaled_variance.1              0\n",
       "scaled_radius_of_gyration      0\n",
       "scaled_radius_of_gyration.1    0\n",
       "skewness_about                 0\n",
       "skewness_about.1               0\n",
       "skewness_about.2               0\n",
       "hollows_ratio                  0\n",
       "class                          0\n",
       "dtype: int64"
      ]
     },
     "execution_count": 506,
     "metadata": {},
     "output_type": "execute_result"
    }
   ],
   "source": [
    "#Checking for missing values again\n",
    "vehicle_df.isna().sum()"
   ]
  },
  {
   "cell_type": "code",
   "execution_count": 507,
   "metadata": {},
   "outputs": [
    {
     "name": "stdout",
     "output_type": "stream",
     "text": [
      "We can see that all missing values have been replacee successfully with its median\n"
     ]
    }
   ],
   "source": [
    "print(\"We can see that all missing values have been replacee successfully with its median\")"
   ]
  },
  {
   "cell_type": "markdown",
   "metadata": {},
   "source": [
    "### Statistical Analysis"
   ]
  },
  {
   "cell_type": "code",
   "execution_count": 508,
   "metadata": {},
   "outputs": [
    {
     "data": {
      "text/html": [
       "<div>\n",
       "<style scoped>\n",
       "    .dataframe tbody tr th:only-of-type {\n",
       "        vertical-align: middle;\n",
       "    }\n",
       "\n",
       "    .dataframe tbody tr th {\n",
       "        vertical-align: top;\n",
       "    }\n",
       "\n",
       "    .dataframe thead th {\n",
       "        text-align: right;\n",
       "    }\n",
       "</style>\n",
       "<table border=\"1\" class=\"dataframe\">\n",
       "  <thead>\n",
       "    <tr style=\"text-align: right;\">\n",
       "      <th></th>\n",
       "      <th>count</th>\n",
       "      <th>mean</th>\n",
       "      <th>std</th>\n",
       "      <th>min</th>\n",
       "      <th>25%</th>\n",
       "      <th>50%</th>\n",
       "      <th>75%</th>\n",
       "      <th>max</th>\n",
       "    </tr>\n",
       "  </thead>\n",
       "  <tbody>\n",
       "    <tr>\n",
       "      <td>compactness</td>\n",
       "      <td>846.0</td>\n",
       "      <td>93.678487</td>\n",
       "      <td>8.234474</td>\n",
       "      <td>73.0</td>\n",
       "      <td>87.00</td>\n",
       "      <td>93.0</td>\n",
       "      <td>100.00</td>\n",
       "      <td>119.0</td>\n",
       "    </tr>\n",
       "    <tr>\n",
       "      <td>circularity</td>\n",
       "      <td>846.0</td>\n",
       "      <td>44.823877</td>\n",
       "      <td>6.134272</td>\n",
       "      <td>33.0</td>\n",
       "      <td>40.00</td>\n",
       "      <td>44.0</td>\n",
       "      <td>49.00</td>\n",
       "      <td>59.0</td>\n",
       "    </tr>\n",
       "    <tr>\n",
       "      <td>distance_circularity</td>\n",
       "      <td>846.0</td>\n",
       "      <td>82.100473</td>\n",
       "      <td>15.741569</td>\n",
       "      <td>40.0</td>\n",
       "      <td>70.00</td>\n",
       "      <td>80.0</td>\n",
       "      <td>98.00</td>\n",
       "      <td>112.0</td>\n",
       "    </tr>\n",
       "    <tr>\n",
       "      <td>radius_ratio</td>\n",
       "      <td>846.0</td>\n",
       "      <td>168.874704</td>\n",
       "      <td>33.401356</td>\n",
       "      <td>104.0</td>\n",
       "      <td>141.00</td>\n",
       "      <td>167.0</td>\n",
       "      <td>195.00</td>\n",
       "      <td>333.0</td>\n",
       "    </tr>\n",
       "    <tr>\n",
       "      <td>pr.axis_aspect_ratio</td>\n",
       "      <td>846.0</td>\n",
       "      <td>61.677305</td>\n",
       "      <td>7.882188</td>\n",
       "      <td>47.0</td>\n",
       "      <td>57.00</td>\n",
       "      <td>61.0</td>\n",
       "      <td>65.00</td>\n",
       "      <td>138.0</td>\n",
       "    </tr>\n",
       "    <tr>\n",
       "      <td>max.length_aspect_ratio</td>\n",
       "      <td>846.0</td>\n",
       "      <td>8.567376</td>\n",
       "      <td>4.601217</td>\n",
       "      <td>2.0</td>\n",
       "      <td>7.00</td>\n",
       "      <td>8.0</td>\n",
       "      <td>10.00</td>\n",
       "      <td>55.0</td>\n",
       "    </tr>\n",
       "    <tr>\n",
       "      <td>scatter_ratio</td>\n",
       "      <td>846.0</td>\n",
       "      <td>168.887707</td>\n",
       "      <td>33.197710</td>\n",
       "      <td>112.0</td>\n",
       "      <td>147.00</td>\n",
       "      <td>157.0</td>\n",
       "      <td>198.00</td>\n",
       "      <td>265.0</td>\n",
       "    </tr>\n",
       "    <tr>\n",
       "      <td>elongatedness</td>\n",
       "      <td>846.0</td>\n",
       "      <td>40.936170</td>\n",
       "      <td>7.811882</td>\n",
       "      <td>26.0</td>\n",
       "      <td>33.00</td>\n",
       "      <td>43.0</td>\n",
       "      <td>46.00</td>\n",
       "      <td>61.0</td>\n",
       "    </tr>\n",
       "    <tr>\n",
       "      <td>pr.axis_rectangularity</td>\n",
       "      <td>846.0</td>\n",
       "      <td>20.580378</td>\n",
       "      <td>2.588558</td>\n",
       "      <td>17.0</td>\n",
       "      <td>19.00</td>\n",
       "      <td>20.0</td>\n",
       "      <td>23.00</td>\n",
       "      <td>29.0</td>\n",
       "    </tr>\n",
       "    <tr>\n",
       "      <td>max.length_rectangularity</td>\n",
       "      <td>846.0</td>\n",
       "      <td>147.998818</td>\n",
       "      <td>14.515652</td>\n",
       "      <td>118.0</td>\n",
       "      <td>137.00</td>\n",
       "      <td>146.0</td>\n",
       "      <td>159.00</td>\n",
       "      <td>188.0</td>\n",
       "    </tr>\n",
       "    <tr>\n",
       "      <td>scaled_variance</td>\n",
       "      <td>846.0</td>\n",
       "      <td>188.596927</td>\n",
       "      <td>31.360427</td>\n",
       "      <td>130.0</td>\n",
       "      <td>167.00</td>\n",
       "      <td>179.0</td>\n",
       "      <td>217.00</td>\n",
       "      <td>320.0</td>\n",
       "    </tr>\n",
       "    <tr>\n",
       "      <td>scaled_variance.1</td>\n",
       "      <td>846.0</td>\n",
       "      <td>439.314421</td>\n",
       "      <td>176.496341</td>\n",
       "      <td>184.0</td>\n",
       "      <td>318.25</td>\n",
       "      <td>363.5</td>\n",
       "      <td>586.75</td>\n",
       "      <td>1018.0</td>\n",
       "    </tr>\n",
       "    <tr>\n",
       "      <td>scaled_radius_of_gyration</td>\n",
       "      <td>846.0</td>\n",
       "      <td>174.706856</td>\n",
       "      <td>32.546277</td>\n",
       "      <td>109.0</td>\n",
       "      <td>149.00</td>\n",
       "      <td>173.5</td>\n",
       "      <td>198.00</td>\n",
       "      <td>268.0</td>\n",
       "    </tr>\n",
       "    <tr>\n",
       "      <td>scaled_radius_of_gyration.1</td>\n",
       "      <td>846.0</td>\n",
       "      <td>72.443262</td>\n",
       "      <td>7.468734</td>\n",
       "      <td>59.0</td>\n",
       "      <td>67.00</td>\n",
       "      <td>71.5</td>\n",
       "      <td>75.00</td>\n",
       "      <td>135.0</td>\n",
       "    </tr>\n",
       "    <tr>\n",
       "      <td>skewness_about</td>\n",
       "      <td>846.0</td>\n",
       "      <td>6.361702</td>\n",
       "      <td>4.903244</td>\n",
       "      <td>0.0</td>\n",
       "      <td>2.00</td>\n",
       "      <td>6.0</td>\n",
       "      <td>9.00</td>\n",
       "      <td>22.0</td>\n",
       "    </tr>\n",
       "    <tr>\n",
       "      <td>skewness_about.1</td>\n",
       "      <td>846.0</td>\n",
       "      <td>12.600473</td>\n",
       "      <td>8.930962</td>\n",
       "      <td>0.0</td>\n",
       "      <td>5.00</td>\n",
       "      <td>11.0</td>\n",
       "      <td>19.00</td>\n",
       "      <td>41.0</td>\n",
       "    </tr>\n",
       "    <tr>\n",
       "      <td>skewness_about.2</td>\n",
       "      <td>846.0</td>\n",
       "      <td>188.918440</td>\n",
       "      <td>6.152247</td>\n",
       "      <td>176.0</td>\n",
       "      <td>184.00</td>\n",
       "      <td>188.0</td>\n",
       "      <td>193.00</td>\n",
       "      <td>206.0</td>\n",
       "    </tr>\n",
       "    <tr>\n",
       "      <td>hollows_ratio</td>\n",
       "      <td>846.0</td>\n",
       "      <td>195.632388</td>\n",
       "      <td>7.438797</td>\n",
       "      <td>181.0</td>\n",
       "      <td>190.25</td>\n",
       "      <td>197.0</td>\n",
       "      <td>201.00</td>\n",
       "      <td>211.0</td>\n",
       "    </tr>\n",
       "  </tbody>\n",
       "</table>\n",
       "</div>"
      ],
      "text/plain": [
       "                             count        mean         std    min     25%  \\\n",
       "compactness                  846.0   93.678487    8.234474   73.0   87.00   \n",
       "circularity                  846.0   44.823877    6.134272   33.0   40.00   \n",
       "distance_circularity         846.0   82.100473   15.741569   40.0   70.00   \n",
       "radius_ratio                 846.0  168.874704   33.401356  104.0  141.00   \n",
       "pr.axis_aspect_ratio         846.0   61.677305    7.882188   47.0   57.00   \n",
       "max.length_aspect_ratio      846.0    8.567376    4.601217    2.0    7.00   \n",
       "scatter_ratio                846.0  168.887707   33.197710  112.0  147.00   \n",
       "elongatedness                846.0   40.936170    7.811882   26.0   33.00   \n",
       "pr.axis_rectangularity       846.0   20.580378    2.588558   17.0   19.00   \n",
       "max.length_rectangularity    846.0  147.998818   14.515652  118.0  137.00   \n",
       "scaled_variance              846.0  188.596927   31.360427  130.0  167.00   \n",
       "scaled_variance.1            846.0  439.314421  176.496341  184.0  318.25   \n",
       "scaled_radius_of_gyration    846.0  174.706856   32.546277  109.0  149.00   \n",
       "scaled_radius_of_gyration.1  846.0   72.443262    7.468734   59.0   67.00   \n",
       "skewness_about               846.0    6.361702    4.903244    0.0    2.00   \n",
       "skewness_about.1             846.0   12.600473    8.930962    0.0    5.00   \n",
       "skewness_about.2             846.0  188.918440    6.152247  176.0  184.00   \n",
       "hollows_ratio                846.0  195.632388    7.438797  181.0  190.25   \n",
       "\n",
       "                               50%     75%     max  \n",
       "compactness                   93.0  100.00   119.0  \n",
       "circularity                   44.0   49.00    59.0  \n",
       "distance_circularity          80.0   98.00   112.0  \n",
       "radius_ratio                 167.0  195.00   333.0  \n",
       "pr.axis_aspect_ratio          61.0   65.00   138.0  \n",
       "max.length_aspect_ratio        8.0   10.00    55.0  \n",
       "scatter_ratio                157.0  198.00   265.0  \n",
       "elongatedness                 43.0   46.00    61.0  \n",
       "pr.axis_rectangularity        20.0   23.00    29.0  \n",
       "max.length_rectangularity    146.0  159.00   188.0  \n",
       "scaled_variance              179.0  217.00   320.0  \n",
       "scaled_variance.1            363.5  586.75  1018.0  \n",
       "scaled_radius_of_gyration    173.5  198.00   268.0  \n",
       "scaled_radius_of_gyration.1   71.5   75.00   135.0  \n",
       "skewness_about                 6.0    9.00    22.0  \n",
       "skewness_about.1              11.0   19.00    41.0  \n",
       "skewness_about.2             188.0  193.00   206.0  \n",
       "hollows_ratio                197.0  201.00   211.0  "
      ]
     },
     "execution_count": 508,
     "metadata": {},
     "output_type": "execute_result"
    }
   ],
   "source": [
    "vehicle_df.describe().T"
   ]
  },
  {
   "cell_type": "code",
   "execution_count": 509,
   "metadata": {},
   "outputs": [
    {
     "name": "stdout",
     "output_type": "stream",
     "text": [
      "Few columns seems to have some skewness i.e data is not normalized\n"
     ]
    }
   ],
   "source": [
    "print(\"Few columns seems to have some skewness i.e data is not normalized\")"
   ]
  },
  {
   "cell_type": "code",
   "execution_count": 510,
   "metadata": {},
   "outputs": [
    {
     "data": {
      "text/plain": [
       "compactness                    0.381271\n",
       "circularity                    0.264928\n",
       "distance_circularity           0.108718\n",
       "radius_ratio                   0.397572\n",
       "pr.axis_aspect_ratio           3.835392\n",
       "max.length_aspect_ratio        6.778394\n",
       "scatter_ratio                  0.608710\n",
       "elongatedness                  0.046951\n",
       "pr.axis_rectangularity         0.774406\n",
       "max.length_rectangularity      0.256359\n",
       "scaled_variance                0.655598\n",
       "scaled_variance.1              0.845345\n",
       "scaled_radius_of_gyration      0.279910\n",
       "scaled_radius_of_gyration.1    2.089979\n",
       "skewness_about                 0.780813\n",
       "skewness_about.1               0.689014\n",
       "skewness_about.2               0.249985\n",
       "hollows_ratio                 -0.226341\n",
       "dtype: float64"
      ]
     },
     "execution_count": 510,
     "metadata": {},
     "output_type": "execute_result"
    }
   ],
   "source": [
    "#Checking skewness\n",
    "vehicle_df.skew()"
   ]
  },
  {
   "cell_type": "code",
   "execution_count": 511,
   "metadata": {},
   "outputs": [
    {
     "name": "stdout",
     "output_type": "stream",
     "text": [
      "We can see that some columns are highly skewed. It means they have lots of inormation on the tails\n",
      "e.g. 'max.length_aspect_ratio', 'pr.axis_aspect_ratio' and 'scaled_radius_of_gyration.1'\n"
     ]
    }
   ],
   "source": [
    "print(\"We can see that some columns are highly skewed. It means they have lots of inormation on the tails\")\n",
    "print(\"e.g. 'max.length_aspect_ratio', 'pr.axis_aspect_ratio' and 'scaled_radius_of_gyration.1'\")"
   ]
  },
  {
   "cell_type": "code",
   "execution_count": 512,
   "metadata": {},
   "outputs": [
    {
     "data": {
      "text/plain": [
       "<matplotlib.axes._subplots.AxesSubplot at 0x1c20d533dd8>"
      ]
     },
     "execution_count": 512,
     "metadata": {},
     "output_type": "execute_result"
    },
    {
     "data": {
      "image/png": "[encoded data removed]",
      "text/plain": [
       "<Figure size 432x288 with 1 Axes>"
      ]
     },
     "metadata": {
      "needs_background": "light"
     },
     "output_type": "display_data"
    }
   ],
   "source": [
    "sns.distplot(vehicle_df['max.length_aspect_ratio'], hist=False)"
   ]
  },
  {
   "cell_type": "code",
   "execution_count": 513,
   "metadata": {},
   "outputs": [
    {
     "data": {
      "text/plain": [
       "<matplotlib.axes._subplots.AxesSubplot at 0x1c27e880eb8>"
      ]
     },
     "execution_count": 513,
     "metadata": {},
     "output_type": "execute_result"
    },
    {
     "data": {
      "image/png": "[encoded data removed]",
      "text/plain": [
       "<Figure size 432x288 with 1 Axes>"
      ]
     },
     "metadata": {
      "needs_background": "light"
     },
     "output_type": "display_data"
    }
   ],
   "source": [
    "sns.distplot(vehicle_df['pr.axis_aspect_ratio'], hist=False)"
   ]
  },
  {
   "cell_type": "code",
   "execution_count": 514,
   "metadata": {},
   "outputs": [
    {
     "data": {
      "text/plain": [
       "<matplotlib.axes._subplots.AxesSubplot at 0x1c20d5fb4e0>"
      ]
     },
     "execution_count": 514,
     "metadata": {},
     "output_type": "execute_result"
    },
    {
     "data": {
      "image/png": "[encoded data removed]",
      "text/plain": [
       "<Figure size 432x288 with 1 Axes>"
      ]
     },
     "metadata": {
      "needs_background": "light"
     },
     "output_type": "display_data"
    }
   ],
   "source": [
    "sns.distplot(vehicle_df['scaled_radius_of_gyration.1'], hist=False)"
   ]
  },
  {
   "cell_type": "code",
   "execution_count": 515,
   "metadata": {},
   "outputs": [],
   "source": [
    "#Scaling the Data\n",
    "scalar = StandardScaler()\n",
    "X = vehicle_df.drop('class', axis=1)\n",
    "vehicle_df_scaled = pd.DataFrame(scalar.fit_transform(X), columns=X.columns)\n",
    "vehicle_df_scaled['class'] = vehicle_df['class']"
   ]
  },
  {
   "cell_type": "code",
   "execution_count": 516,
   "metadata": {},
   "outputs": [
    {
     "data": {
      "text/html": [
       "<div>\n",
       "<style scoped>\n",
       "    .dataframe tbody tr th:only-of-type {\n",
       "        vertical-align: middle;\n",
       "    }\n",
       "\n",
       "    .dataframe tbody tr th {\n",
       "        vertical-align: top;\n",
       "    }\n",
       "\n",
       "    .dataframe thead th {\n",
       "        text-align: right;\n",
       "    }\n",
       "</style>\n",
       "<table border=\"1\" class=\"dataframe\">\n",
       "  <thead>\n",
       "    <tr style=\"text-align: right;\">\n",
       "      <th></th>\n",
       "      <th>compactness</th>\n",
       "      <th>circularity</th>\n",
       "      <th>distance_circularity</th>\n",
       "      <th>radius_ratio</th>\n",
       "      <th>pr.axis_aspect_ratio</th>\n",
       "      <th>max.length_aspect_ratio</th>\n",
       "      <th>scatter_ratio</th>\n",
       "      <th>elongatedness</th>\n",
       "      <th>pr.axis_rectangularity</th>\n",
       "      <th>max.length_rectangularity</th>\n",
       "      <th>scaled_variance</th>\n",
       "      <th>scaled_variance.1</th>\n",
       "      <th>scaled_radius_of_gyration</th>\n",
       "      <th>scaled_radius_of_gyration.1</th>\n",
       "      <th>skewness_about</th>\n",
       "      <th>skewness_about.1</th>\n",
       "      <th>skewness_about.2</th>\n",
       "      <th>hollows_ratio</th>\n",
       "      <th>class</th>\n",
       "    </tr>\n",
       "  </thead>\n",
       "  <tbody>\n",
       "    <tr>\n",
       "      <td>0</td>\n",
       "      <td>0.160580</td>\n",
       "      <td>0.518073</td>\n",
       "      <td>0.057177</td>\n",
       "      <td>0.273363</td>\n",
       "      <td>1.310398</td>\n",
       "      <td>0.311542</td>\n",
       "      <td>-0.207598</td>\n",
       "      <td>0.136262</td>\n",
       "      <td>-0.224342</td>\n",
       "      <td>0.758332</td>\n",
       "      <td>-0.401920</td>\n",
       "      <td>-0.341934</td>\n",
       "      <td>0.285705</td>\n",
       "      <td>-0.327326</td>\n",
       "      <td>-0.073812</td>\n",
       "      <td>0.380870</td>\n",
       "      <td>-0.312012</td>\n",
       "      <td>0.183957</td>\n",
       "      <td>van</td>\n",
       "    </tr>\n",
       "    <tr>\n",
       "      <td>1</td>\n",
       "      <td>-0.325470</td>\n",
       "      <td>-0.623732</td>\n",
       "      <td>0.120741</td>\n",
       "      <td>-0.835032</td>\n",
       "      <td>-0.593753</td>\n",
       "      <td>0.094079</td>\n",
       "      <td>-0.599423</td>\n",
       "      <td>0.520519</td>\n",
       "      <td>-0.610886</td>\n",
       "      <td>-0.344578</td>\n",
       "      <td>-0.593357</td>\n",
       "      <td>-0.619724</td>\n",
       "      <td>-0.513630</td>\n",
       "      <td>-0.059384</td>\n",
       "      <td>0.538390</td>\n",
       "      <td>0.156798</td>\n",
       "      <td>0.013265</td>\n",
       "      <td>0.452977</td>\n",
       "      <td>van</td>\n",
       "    </tr>\n",
       "    <tr>\n",
       "      <td>2</td>\n",
       "      <td>1.254193</td>\n",
       "      <td>0.844303</td>\n",
       "      <td>1.519141</td>\n",
       "      <td>1.202018</td>\n",
       "      <td>0.548738</td>\n",
       "      <td>0.311542</td>\n",
       "      <td>1.148719</td>\n",
       "      <td>-1.144597</td>\n",
       "      <td>0.935290</td>\n",
       "      <td>0.689401</td>\n",
       "      <td>1.097671</td>\n",
       "      <td>1.109379</td>\n",
       "      <td>1.392477</td>\n",
       "      <td>0.074587</td>\n",
       "      <td>1.558727</td>\n",
       "      <td>-0.403383</td>\n",
       "      <td>-0.149374</td>\n",
       "      <td>0.049447</td>\n",
       "      <td>car</td>\n",
       "    </tr>\n",
       "    <tr>\n",
       "      <td>3</td>\n",
       "      <td>-0.082445</td>\n",
       "      <td>-0.623732</td>\n",
       "      <td>-0.006386</td>\n",
       "      <td>-0.295813</td>\n",
       "      <td>0.167907</td>\n",
       "      <td>0.094079</td>\n",
       "      <td>-0.750125</td>\n",
       "      <td>0.648605</td>\n",
       "      <td>-0.610886</td>\n",
       "      <td>-0.344578</td>\n",
       "      <td>-0.912419</td>\n",
       "      <td>-0.738777</td>\n",
       "      <td>-1.466683</td>\n",
       "      <td>-1.265121</td>\n",
       "      <td>-0.073812</td>\n",
       "      <td>-0.291347</td>\n",
       "      <td>1.639649</td>\n",
       "      <td>1.529056</td>\n",
       "      <td>van</td>\n",
       "    </tr>\n",
       "    <tr>\n",
       "      <td>4</td>\n",
       "      <td>-1.054545</td>\n",
       "      <td>-0.134387</td>\n",
       "      <td>-0.769150</td>\n",
       "      <td>1.082192</td>\n",
       "      <td>5.245643</td>\n",
       "      <td>9.444962</td>\n",
       "      <td>-0.599423</td>\n",
       "      <td>0.520519</td>\n",
       "      <td>-0.610886</td>\n",
       "      <td>-0.275646</td>\n",
       "      <td>1.671982</td>\n",
       "      <td>-0.648070</td>\n",
       "      <td>0.408680</td>\n",
       "      <td>7.309005</td>\n",
       "      <td>0.538390</td>\n",
       "      <td>-0.179311</td>\n",
       "      <td>-1.450481</td>\n",
       "      <td>-1.699181</td>\n",
       "      <td>bus</td>\n",
       "    </tr>\n",
       "  </tbody>\n",
       "</table>\n",
       "</div>"
      ],
      "text/plain": [
       "   compactness  circularity  distance_circularity  radius_ratio  \\\n",
       "0     0.160580     0.518073              0.057177      0.273363   \n",
       "1    -0.325470    -0.623732              0.120741     -0.835032   \n",
       "2     1.254193     0.844303              1.519141      1.202018   \n",
       "3    -0.082445    -0.623732             -0.006386     -0.295813   \n",
       "4    -1.054545    -0.134387             -0.769150      1.082192   \n",
       "\n",
       "   pr.axis_aspect_ratio  max.length_aspect_ratio  scatter_ratio  \\\n",
       "0              1.310398                 0.311542      -0.207598   \n",
       "1             -0.593753                 0.094079      -0.599423   \n",
       "2              0.548738                 0.311542       1.148719   \n",
       "3              0.167907                 0.094079      -0.750125   \n",
       "4              5.245643                 9.444962      -0.599423   \n",
       "\n",
       "   elongatedness  pr.axis_rectangularity  max.length_rectangularity  \\\n",
       "0       0.136262               -0.224342                   0.758332   \n",
       "1       0.520519               -0.610886                  -0.344578   \n",
       "2      -1.144597                0.935290                   0.689401   \n",
       "3       0.648605               -0.610886                  -0.344578   \n",
       "4       0.520519               -0.610886                  -0.275646   \n",
       "\n",
       "   scaled_variance  scaled_variance.1  scaled_radius_of_gyration  \\\n",
       "0        -0.401920          -0.341934                   0.285705   \n",
       "1        -0.593357          -0.619724                  -0.513630   \n",
       "2         1.097671           1.109379                   1.392477   \n",
       "3        -0.912419          -0.738777                  -1.466683   \n",
       "4         1.671982          -0.648070                   0.408680   \n",
       "\n",
       "   scaled_radius_of_gyration.1  skewness_about  skewness_about.1  \\\n",
       "0                    -0.327326       -0.073812          0.380870   \n",
       "1                    -0.059384        0.538390          0.156798   \n",
       "2                     0.074587        1.558727         -0.403383   \n",
       "3                    -1.265121       -0.073812         -0.291347   \n",
       "4                     7.309005        0.538390         -0.179311   \n",
       "\n",
       "   skewness_about.2  hollows_ratio class  \n",
       "0         -0.312012       0.183957   van  \n",
       "1          0.013265       0.452977   van  \n",
       "2         -0.149374       0.049447   car  \n",
       "3          1.639649       1.529056   van  \n",
       "4         -1.450481      -1.699181   bus  "
      ]
     },
     "execution_count": 516,
     "metadata": {},
     "output_type": "execute_result"
    }
   ],
   "source": [
    "vehicle_df_scaled.head()"
   ]
  },
  {
   "cell_type": "code",
   "execution_count": 517,
   "metadata": {},
   "outputs": [
    {
     "data": {
      "text/plain": [
       "<matplotlib.axes._subplots.AxesSubplot at 0x1c20d652f98>"
      ]
     },
     "execution_count": 517,
     "metadata": {},
     "output_type": "execute_result"
    },
    {
     "data": {
      "image/png": "[encoded data removed]",
      "text/plain": [
       "<Figure size 1800x1440 with 1 Axes>"
      ]
     },
     "metadata": {
      "needs_background": "light"
     },
     "output_type": "display_data"
    }
   ],
   "source": [
    "#Checking for Outliers\n",
    "vehicle_df_scaled.boxplot(figsize=(25,20))"
   ]
  },
  {
   "cell_type": "code",
   "execution_count": 518,
   "metadata": {},
   "outputs": [
    {
     "name": "stdout",
     "output_type": "stream",
     "text": [
      "We can see that lots of columns have outliers\n"
     ]
    }
   ],
   "source": [
    "print(\"We can see that lots of columns have outliers\")"
   ]
  },
  {
   "cell_type": "code",
   "execution_count": 519,
   "metadata": {},
   "outputs": [],
   "source": [
    "#Identifying columns with outlier\n",
    "list_count_outlier_above = list()\n",
    "list_count_outlier_below = list()\n",
    "list_column = list()\n",
    "def identifyAndTreatOutliers(column, data):\n",
    "    Q3 = np.quantile(data, 0.75)\n",
    "    Q1 = np.quantile(data, 0.25)\n",
    "    IQR = Q3 -Q1\n",
    "    above = Q3 + 1.5*IQR\n",
    "    below = Q1 - 1.5*IQR\n",
    "    \n",
    "    count_outlier_above = data.loc[data > above].count()\n",
    "    count_outlier_below = data.loc[data < below].count()\n",
    "    if (count_outlier_above == 0 & count_outlier_below == 0) :\n",
    "        return 0\n",
    "    else :\n",
    "        list_count_outlier_above.append(count_outlier_above)\n",
    "        list_count_outlier_below.append(count_outlier_below)\n",
    "        list_column.append(column)\n",
    "        # Treat Ouliers\n",
    "        data.loc[data > above] = data.median()\n",
    "        data.loc[data < below] = data.median()"
   ]
  },
  {
   "cell_type": "code",
   "execution_count": 520,
   "metadata": {},
   "outputs": [
    {
     "name": "stderr",
     "output_type": "stream",
     "text": [
      "d:\\Profiles\\ankGupta\\AppData\\Local\\Continuum\\anaconda3\\lib\\site-packages\\pandas\\core\\indexing.py:205: SettingWithCopyWarning: \n",
      "A value is trying to be set on a copy of a slice from a DataFrame\n",
      "\n",
      "See the caveats in the documentation: http://pandas.pydata.org/pandas-docs/stable/user_guide/indexing.html#returning-a-view-versus-a-copy\n",
      "  self._setitem_with_indexer(indexer, value)\n"
     ]
    }
   ],
   "source": [
    "for column in X.columns:\n",
    "    identifyAndTreatOutliers(column, vehicle_df_scaled[column])\n",
    "# Outlier DataFrame\n",
    "outlier_df = pd.DataFrame()\n",
    "outlier_df['Column'] = list_column\n",
    "outlier_df['Count_outlier_above'] = list_count_outlier_above\n",
    "outlier_df['Count_outlier_below'] = list_count_outlier_below"
   ]
  },
  {
   "cell_type": "code",
   "execution_count": 521,
   "metadata": {},
   "outputs": [
    {
     "data": {
      "text/html": [
       "<div>\n",
       "<style scoped>\n",
       "    .dataframe tbody tr th:only-of-type {\n",
       "        vertical-align: middle;\n",
       "    }\n",
       "\n",
       "    .dataframe tbody tr th {\n",
       "        vertical-align: top;\n",
       "    }\n",
       "\n",
       "    .dataframe thead th {\n",
       "        text-align: right;\n",
       "    }\n",
       "</style>\n",
       "<table border=\"1\" class=\"dataframe\">\n",
       "  <thead>\n",
       "    <tr style=\"text-align: right;\">\n",
       "      <th></th>\n",
       "      <th>Column</th>\n",
       "      <th>Count_outlier_above</th>\n",
       "      <th>Count_outlier_below</th>\n",
       "    </tr>\n",
       "  </thead>\n",
       "  <tbody>\n",
       "    <tr>\n",
       "      <td>0</td>\n",
       "      <td>radius_ratio</td>\n",
       "      <td>3</td>\n",
       "      <td>0</td>\n",
       "    </tr>\n",
       "    <tr>\n",
       "      <td>1</td>\n",
       "      <td>pr.axis_aspect_ratio</td>\n",
       "      <td>8</td>\n",
       "      <td>0</td>\n",
       "    </tr>\n",
       "    <tr>\n",
       "      <td>2</td>\n",
       "      <td>max.length_aspect_ratio</td>\n",
       "      <td>12</td>\n",
       "      <td>1</td>\n",
       "    </tr>\n",
       "    <tr>\n",
       "      <td>3</td>\n",
       "      <td>scaled_variance</td>\n",
       "      <td>1</td>\n",
       "      <td>0</td>\n",
       "    </tr>\n",
       "    <tr>\n",
       "      <td>4</td>\n",
       "      <td>scaled_variance.1</td>\n",
       "      <td>2</td>\n",
       "      <td>0</td>\n",
       "    </tr>\n",
       "    <tr>\n",
       "      <td>5</td>\n",
       "      <td>scaled_radius_of_gyration.1</td>\n",
       "      <td>15</td>\n",
       "      <td>0</td>\n",
       "    </tr>\n",
       "    <tr>\n",
       "      <td>6</td>\n",
       "      <td>skewness_about</td>\n",
       "      <td>12</td>\n",
       "      <td>0</td>\n",
       "    </tr>\n",
       "    <tr>\n",
       "      <td>7</td>\n",
       "      <td>skewness_about.1</td>\n",
       "      <td>1</td>\n",
       "      <td>0</td>\n",
       "    </tr>\n",
       "  </tbody>\n",
       "</table>\n",
       "</div>"
      ],
      "text/plain": [
       "                        Column  Count_outlier_above  Count_outlier_below\n",
       "0                 radius_ratio                    3                    0\n",
       "1         pr.axis_aspect_ratio                    8                    0\n",
       "2      max.length_aspect_ratio                   12                    1\n",
       "3              scaled_variance                    1                    0\n",
       "4            scaled_variance.1                    2                    0\n",
       "5  scaled_radius_of_gyration.1                   15                    0\n",
       "6               skewness_about                   12                    0\n",
       "7             skewness_about.1                    1                    0"
      ]
     },
     "execution_count": 521,
     "metadata": {},
     "output_type": "execute_result"
    }
   ],
   "source": [
    "outlier_df"
   ]
  },
  {
   "cell_type": "code",
   "execution_count": 522,
   "metadata": {},
   "outputs": [
    {
     "data": {
      "text/plain": [
       "<matplotlib.axes._subplots.AxesSubplot at 0x1c20716f438>"
      ]
     },
     "execution_count": 522,
     "metadata": {},
     "output_type": "execute_result"
    },
    {
     "data": {
      "image/png": "[encoded data removed]",
      "text/plain": [
       "<Figure size 1800x1440 with 1 Axes>"
      ]
     },
     "metadata": {
      "needs_background": "light"
     },
     "output_type": "display_data"
    }
   ],
   "source": [
    "#Checking again Outliers using boxplot\n",
    "vehicle_df_scaled.boxplot(figsize=(25,20))"
   ]
  },
  {
   "cell_type": "code",
   "execution_count": 523,
   "metadata": {},
   "outputs": [
    {
     "name": "stdout",
     "output_type": "stream",
     "text": [
      "We can see that Ouliers have been habndled now and data is well spread now\n"
     ]
    }
   ],
   "source": [
    "print(\"We can see that Ouliers have been habndled now and data is well spread now\")"
   ]
  },
  {
   "cell_type": "code",
   "execution_count": 524,
   "metadata": {},
   "outputs": [
    {
     "data": {
      "text/plain": [
       "<matplotlib.axes._subplots.AxesSubplot at 0x1c2098a67b8>"
      ]
     },
     "execution_count": 524,
     "metadata": {},
     "output_type": "execute_result"
    },
    {
     "data": {
      "image/png": "[encoded data removed]",
      "text/plain": [
       "<Figure size 432x288 with 1 Axes>"
      ]
     },
     "metadata": {
      "needs_background": "light"
     },
     "output_type": "display_data"
    }
   ],
   "source": [
    "sns.distplot(vehicle_df_scaled['scaled_radius_of_gyration.1'], hist=False)\n",
    "sns.distplot(vehicle_df_scaled['scaled_variance.1'], hist=False)\n",
    "sns.distplot(vehicle_df_scaled['max.length_aspect_ratio'], hist=False)"
   ]
  },
  {
   "cell_type": "code",
   "execution_count": 525,
   "metadata": {},
   "outputs": [
    {
     "data": {
      "text/plain": [
       "compactness                    0.381271\n",
       "circularity                    0.264928\n",
       "distance_circularity           0.108718\n",
       "radius_ratio                   0.118680\n",
       "pr.axis_aspect_ratio           0.161223\n",
       "max.length_aspect_ratio        0.090367\n",
       "scatter_ratio                  0.608710\n",
       "elongatedness                  0.046951\n",
       "pr.axis_rectangularity         0.774406\n",
       "max.length_rectangularity      0.256359\n",
       "scaled_variance                0.602557\n",
       "scaled_variance.1              0.820685\n",
       "scaled_radius_of_gyration      0.279910\n",
       "scaled_radius_of_gyration.1    0.535057\n",
       "skewness_about                 0.624590\n",
       "skewness_about.1               0.674715\n",
       "skewness_about.2               0.249985\n",
       "hollows_ratio                 -0.226341\n",
       "dtype: float64"
      ]
     },
     "execution_count": 525,
     "metadata": {},
     "output_type": "execute_result"
    }
   ],
   "source": [
    "#Checking Skewness again\n",
    "vehicle_df_scaled.skew()"
   ]
  },
  {
   "cell_type": "code",
   "execution_count": 526,
   "metadata": {},
   "outputs": [
    {
     "name": "stdout",
     "output_type": "stream",
     "text": [
      "We can see that is now data is more normalized and less skewed\n"
     ]
    }
   ],
   "source": [
    "print(\"We can see that is now data is more normalized and less skewed\")"
   ]
  },
  {
   "cell_type": "markdown",
   "metadata": {},
   "source": [
    "### Understanding Attributes"
   ]
  },
  {
   "cell_type": "code",
   "execution_count": 527,
   "metadata": {},
   "outputs": [
    {
     "data": {
      "text/html": [
       "<div>\n",
       "<style scoped>\n",
       "    .dataframe tbody tr th:only-of-type {\n",
       "        vertical-align: middle;\n",
       "    }\n",
       "\n",
       "    .dataframe tbody tr th {\n",
       "        vertical-align: top;\n",
       "    }\n",
       "\n",
       "    .dataframe thead th {\n",
       "        text-align: right;\n",
       "    }\n",
       "</style>\n",
       "<table border=\"1\" class=\"dataframe\">\n",
       "  <thead>\n",
       "    <tr style=\"text-align: right;\">\n",
       "      <th></th>\n",
       "      <th>compactness</th>\n",
       "      <th>circularity</th>\n",
       "      <th>distance_circularity</th>\n",
       "      <th>radius_ratio</th>\n",
       "      <th>pr.axis_aspect_ratio</th>\n",
       "      <th>max.length_aspect_ratio</th>\n",
       "      <th>scatter_ratio</th>\n",
       "      <th>elongatedness</th>\n",
       "      <th>pr.axis_rectangularity</th>\n",
       "      <th>max.length_rectangularity</th>\n",
       "      <th>scaled_variance</th>\n",
       "      <th>scaled_variance.1</th>\n",
       "      <th>scaled_radius_of_gyration</th>\n",
       "      <th>scaled_radius_of_gyration.1</th>\n",
       "      <th>skewness_about</th>\n",
       "      <th>skewness_about.1</th>\n",
       "      <th>skewness_about.2</th>\n",
       "      <th>hollows_ratio</th>\n",
       "    </tr>\n",
       "  </thead>\n",
       "  <tbody>\n",
       "    <tr>\n",
       "      <td>compactness</td>\n",
       "      <td>1.000000</td>\n",
       "      <td>0.684887</td>\n",
       "      <td>0.789928</td>\n",
       "      <td>0.721925</td>\n",
       "      <td>0.192864</td>\n",
       "      <td>0.499928</td>\n",
       "      <td>0.812620</td>\n",
       "      <td>-0.788750</td>\n",
       "      <td>0.813694</td>\n",
       "      <td>0.676143</td>\n",
       "      <td>0.769871</td>\n",
       "      <td>0.806170</td>\n",
       "      <td>0.585243</td>\n",
       "      <td>-0.246681</td>\n",
       "      <td>0.197308</td>\n",
       "      <td>0.156348</td>\n",
       "      <td>0.298537</td>\n",
       "      <td>0.365552</td>\n",
       "    </tr>\n",
       "    <tr>\n",
       "      <td>circularity</td>\n",
       "      <td>0.684887</td>\n",
       "      <td>1.000000</td>\n",
       "      <td>0.792320</td>\n",
       "      <td>0.638280</td>\n",
       "      <td>0.203253</td>\n",
       "      <td>0.560470</td>\n",
       "      <td>0.847938</td>\n",
       "      <td>-0.821472</td>\n",
       "      <td>0.843400</td>\n",
       "      <td>0.961318</td>\n",
       "      <td>0.802768</td>\n",
       "      <td>0.827462</td>\n",
       "      <td>0.925816</td>\n",
       "      <td>0.068745</td>\n",
       "      <td>0.136351</td>\n",
       "      <td>-0.009666</td>\n",
       "      <td>-0.104426</td>\n",
       "      <td>0.046351</td>\n",
       "    </tr>\n",
       "    <tr>\n",
       "      <td>distance_circularity</td>\n",
       "      <td>0.789928</td>\n",
       "      <td>0.792320</td>\n",
       "      <td>1.000000</td>\n",
       "      <td>0.794222</td>\n",
       "      <td>0.244332</td>\n",
       "      <td>0.666809</td>\n",
       "      <td>0.905076</td>\n",
       "      <td>-0.911307</td>\n",
       "      <td>0.893025</td>\n",
       "      <td>0.774527</td>\n",
       "      <td>0.869584</td>\n",
       "      <td>0.883943</td>\n",
       "      <td>0.705771</td>\n",
       "      <td>-0.229353</td>\n",
       "      <td>0.099107</td>\n",
       "      <td>0.262345</td>\n",
       "      <td>0.146098</td>\n",
       "      <td>0.332732</td>\n",
       "    </tr>\n",
       "    <tr>\n",
       "      <td>radius_ratio</td>\n",
       "      <td>0.721925</td>\n",
       "      <td>0.638280</td>\n",
       "      <td>0.794222</td>\n",
       "      <td>1.000000</td>\n",
       "      <td>0.650554</td>\n",
       "      <td>0.463958</td>\n",
       "      <td>0.769941</td>\n",
       "      <td>-0.825392</td>\n",
       "      <td>0.744139</td>\n",
       "      <td>0.579468</td>\n",
       "      <td>0.786183</td>\n",
       "      <td>0.760257</td>\n",
       "      <td>0.550774</td>\n",
       "      <td>-0.390459</td>\n",
       "      <td>0.035755</td>\n",
       "      <td>0.179601</td>\n",
       "      <td>0.405849</td>\n",
       "      <td>0.491758</td>\n",
       "    </tr>\n",
       "    <tr>\n",
       "      <td>pr.axis_aspect_ratio</td>\n",
       "      <td>0.192864</td>\n",
       "      <td>0.203253</td>\n",
       "      <td>0.244332</td>\n",
       "      <td>0.650554</td>\n",
       "      <td>1.000000</td>\n",
       "      <td>0.150295</td>\n",
       "      <td>0.194195</td>\n",
       "      <td>-0.298144</td>\n",
       "      <td>0.163047</td>\n",
       "      <td>0.147592</td>\n",
       "      <td>0.207101</td>\n",
       "      <td>0.196401</td>\n",
       "      <td>0.148591</td>\n",
       "      <td>-0.321070</td>\n",
       "      <td>-0.056030</td>\n",
       "      <td>-0.021088</td>\n",
       "      <td>0.400882</td>\n",
       "      <td>0.415734</td>\n",
       "    </tr>\n",
       "    <tr>\n",
       "      <td>max.length_aspect_ratio</td>\n",
       "      <td>0.499928</td>\n",
       "      <td>0.560470</td>\n",
       "      <td>0.666809</td>\n",
       "      <td>0.463958</td>\n",
       "      <td>0.150295</td>\n",
       "      <td>1.000000</td>\n",
       "      <td>0.490759</td>\n",
       "      <td>-0.504181</td>\n",
       "      <td>0.487931</td>\n",
       "      <td>0.642713</td>\n",
       "      <td>0.401391</td>\n",
       "      <td>0.463249</td>\n",
       "      <td>0.397397</td>\n",
       "      <td>-0.335444</td>\n",
       "      <td>0.081898</td>\n",
       "      <td>0.141664</td>\n",
       "      <td>0.083794</td>\n",
       "      <td>0.413174</td>\n",
       "    </tr>\n",
       "    <tr>\n",
       "      <td>scatter_ratio</td>\n",
       "      <td>0.812620</td>\n",
       "      <td>0.847938</td>\n",
       "      <td>0.905076</td>\n",
       "      <td>0.769941</td>\n",
       "      <td>0.194195</td>\n",
       "      <td>0.490759</td>\n",
       "      <td>1.000000</td>\n",
       "      <td>-0.971601</td>\n",
       "      <td>0.989751</td>\n",
       "      <td>0.809083</td>\n",
       "      <td>0.960883</td>\n",
       "      <td>0.980447</td>\n",
       "      <td>0.799875</td>\n",
       "      <td>0.011314</td>\n",
       "      <td>0.064242</td>\n",
       "      <td>0.211647</td>\n",
       "      <td>0.005628</td>\n",
       "      <td>0.118817</td>\n",
       "    </tr>\n",
       "    <tr>\n",
       "      <td>elongatedness</td>\n",
       "      <td>-0.788750</td>\n",
       "      <td>-0.821472</td>\n",
       "      <td>-0.911307</td>\n",
       "      <td>-0.825392</td>\n",
       "      <td>-0.298144</td>\n",
       "      <td>-0.504181</td>\n",
       "      <td>-0.971601</td>\n",
       "      <td>1.000000</td>\n",
       "      <td>-0.948996</td>\n",
       "      <td>-0.775854</td>\n",
       "      <td>-0.947644</td>\n",
       "      <td>-0.948851</td>\n",
       "      <td>-0.766314</td>\n",
       "      <td>0.078391</td>\n",
       "      <td>-0.046943</td>\n",
       "      <td>-0.183642</td>\n",
       "      <td>-0.115126</td>\n",
       "      <td>-0.216905</td>\n",
       "    </tr>\n",
       "    <tr>\n",
       "      <td>pr.axis_rectangularity</td>\n",
       "      <td>0.813694</td>\n",
       "      <td>0.843400</td>\n",
       "      <td>0.893025</td>\n",
       "      <td>0.744139</td>\n",
       "      <td>0.163047</td>\n",
       "      <td>0.487931</td>\n",
       "      <td>0.989751</td>\n",
       "      <td>-0.948996</td>\n",
       "      <td>1.000000</td>\n",
       "      <td>0.810934</td>\n",
       "      <td>0.947329</td>\n",
       "      <td>0.973606</td>\n",
       "      <td>0.796690</td>\n",
       "      <td>0.027545</td>\n",
       "      <td>0.073127</td>\n",
       "      <td>0.213801</td>\n",
       "      <td>-0.018649</td>\n",
       "      <td>0.099286</td>\n",
       "    </tr>\n",
       "    <tr>\n",
       "      <td>max.length_rectangularity</td>\n",
       "      <td>0.676143</td>\n",
       "      <td>0.961318</td>\n",
       "      <td>0.774527</td>\n",
       "      <td>0.579468</td>\n",
       "      <td>0.147592</td>\n",
       "      <td>0.642713</td>\n",
       "      <td>0.809083</td>\n",
       "      <td>-0.775854</td>\n",
       "      <td>0.810934</td>\n",
       "      <td>1.000000</td>\n",
       "      <td>0.750222</td>\n",
       "      <td>0.789632</td>\n",
       "      <td>0.866450</td>\n",
       "      <td>0.053856</td>\n",
       "      <td>0.130702</td>\n",
       "      <td>0.004129</td>\n",
       "      <td>-0.103948</td>\n",
       "      <td>0.076770</td>\n",
       "    </tr>\n",
       "    <tr>\n",
       "      <td>scaled_variance</td>\n",
       "      <td>0.769871</td>\n",
       "      <td>0.802768</td>\n",
       "      <td>0.869584</td>\n",
       "      <td>0.786183</td>\n",
       "      <td>0.207101</td>\n",
       "      <td>0.401391</td>\n",
       "      <td>0.960883</td>\n",
       "      <td>-0.947644</td>\n",
       "      <td>0.947329</td>\n",
       "      <td>0.750222</td>\n",
       "      <td>1.000000</td>\n",
       "      <td>0.943780</td>\n",
       "      <td>0.785073</td>\n",
       "      <td>0.025828</td>\n",
       "      <td>0.024693</td>\n",
       "      <td>0.197122</td>\n",
       "      <td>0.015171</td>\n",
       "      <td>0.086330</td>\n",
       "    </tr>\n",
       "    <tr>\n",
       "      <td>scaled_variance.1</td>\n",
       "      <td>0.806170</td>\n",
       "      <td>0.827462</td>\n",
       "      <td>0.883943</td>\n",
       "      <td>0.760257</td>\n",
       "      <td>0.196401</td>\n",
       "      <td>0.463249</td>\n",
       "      <td>0.980447</td>\n",
       "      <td>-0.948851</td>\n",
       "      <td>0.973606</td>\n",
       "      <td>0.789632</td>\n",
       "      <td>0.943780</td>\n",
       "      <td>1.000000</td>\n",
       "      <td>0.782972</td>\n",
       "      <td>0.009386</td>\n",
       "      <td>0.065731</td>\n",
       "      <td>0.204941</td>\n",
       "      <td>0.017557</td>\n",
       "      <td>0.119642</td>\n",
       "    </tr>\n",
       "    <tr>\n",
       "      <td>scaled_radius_of_gyration</td>\n",
       "      <td>0.585243</td>\n",
       "      <td>0.925816</td>\n",
       "      <td>0.705771</td>\n",
       "      <td>0.550774</td>\n",
       "      <td>0.148591</td>\n",
       "      <td>0.397397</td>\n",
       "      <td>0.799875</td>\n",
       "      <td>-0.766314</td>\n",
       "      <td>0.796690</td>\n",
       "      <td>0.866450</td>\n",
       "      <td>0.785073</td>\n",
       "      <td>0.782972</td>\n",
       "      <td>1.000000</td>\n",
       "      <td>0.215279</td>\n",
       "      <td>0.162970</td>\n",
       "      <td>-0.055667</td>\n",
       "      <td>-0.224450</td>\n",
       "      <td>-0.118002</td>\n",
       "    </tr>\n",
       "    <tr>\n",
       "      <td>scaled_radius_of_gyration.1</td>\n",
       "      <td>-0.246681</td>\n",
       "      <td>0.068745</td>\n",
       "      <td>-0.229353</td>\n",
       "      <td>-0.390459</td>\n",
       "      <td>-0.321070</td>\n",
       "      <td>-0.335444</td>\n",
       "      <td>0.011314</td>\n",
       "      <td>0.078391</td>\n",
       "      <td>0.027545</td>\n",
       "      <td>0.053856</td>\n",
       "      <td>0.025828</td>\n",
       "      <td>0.009386</td>\n",
       "      <td>0.215279</td>\n",
       "      <td>1.000000</td>\n",
       "      <td>-0.057755</td>\n",
       "      <td>-0.123996</td>\n",
       "      <td>-0.832738</td>\n",
       "      <td>-0.901332</td>\n",
       "    </tr>\n",
       "    <tr>\n",
       "      <td>skewness_about</td>\n",
       "      <td>0.197308</td>\n",
       "      <td>0.136351</td>\n",
       "      <td>0.099107</td>\n",
       "      <td>0.035755</td>\n",
       "      <td>-0.056030</td>\n",
       "      <td>0.081898</td>\n",
       "      <td>0.064242</td>\n",
       "      <td>-0.046943</td>\n",
       "      <td>0.073127</td>\n",
       "      <td>0.130702</td>\n",
       "      <td>0.024693</td>\n",
       "      <td>0.065731</td>\n",
       "      <td>0.162970</td>\n",
       "      <td>-0.057755</td>\n",
       "      <td>1.000000</td>\n",
       "      <td>-0.041734</td>\n",
       "      <td>0.086661</td>\n",
       "      <td>0.062619</td>\n",
       "    </tr>\n",
       "    <tr>\n",
       "      <td>skewness_about.1</td>\n",
       "      <td>0.156348</td>\n",
       "      <td>-0.009666</td>\n",
       "      <td>0.262345</td>\n",
       "      <td>0.179601</td>\n",
       "      <td>-0.021088</td>\n",
       "      <td>0.141664</td>\n",
       "      <td>0.211647</td>\n",
       "      <td>-0.183642</td>\n",
       "      <td>0.213801</td>\n",
       "      <td>0.004129</td>\n",
       "      <td>0.197122</td>\n",
       "      <td>0.204941</td>\n",
       "      <td>-0.055667</td>\n",
       "      <td>-0.123996</td>\n",
       "      <td>-0.041734</td>\n",
       "      <td>1.000000</td>\n",
       "      <td>0.074473</td>\n",
       "      <td>0.200651</td>\n",
       "    </tr>\n",
       "    <tr>\n",
       "      <td>skewness_about.2</td>\n",
       "      <td>0.298537</td>\n",
       "      <td>-0.104426</td>\n",
       "      <td>0.146098</td>\n",
       "      <td>0.405849</td>\n",
       "      <td>0.400882</td>\n",
       "      <td>0.083794</td>\n",
       "      <td>0.005628</td>\n",
       "      <td>-0.115126</td>\n",
       "      <td>-0.018649</td>\n",
       "      <td>-0.103948</td>\n",
       "      <td>0.015171</td>\n",
       "      <td>0.017557</td>\n",
       "      <td>-0.224450</td>\n",
       "      <td>-0.832738</td>\n",
       "      <td>0.086661</td>\n",
       "      <td>0.074473</td>\n",
       "      <td>1.000000</td>\n",
       "      <td>0.892581</td>\n",
       "    </tr>\n",
       "    <tr>\n",
       "      <td>hollows_ratio</td>\n",
       "      <td>0.365552</td>\n",
       "      <td>0.046351</td>\n",
       "      <td>0.332732</td>\n",
       "      <td>0.491758</td>\n",
       "      <td>0.415734</td>\n",
       "      <td>0.413174</td>\n",
       "      <td>0.118817</td>\n",
       "      <td>-0.216905</td>\n",
       "      <td>0.099286</td>\n",
       "      <td>0.076770</td>\n",
       "      <td>0.086330</td>\n",
       "      <td>0.119642</td>\n",
       "      <td>-0.118002</td>\n",
       "      <td>-0.901332</td>\n",
       "      <td>0.062619</td>\n",
       "      <td>0.200651</td>\n",
       "      <td>0.892581</td>\n",
       "      <td>1.000000</td>\n",
       "    </tr>\n",
       "  </tbody>\n",
       "</table>\n",
       "</div>"
      ],
      "text/plain": [
       "                             compactness  circularity  distance_circularity  \\\n",
       "compactness                     1.000000     0.684887              0.789928   \n",
       "circularity                     0.684887     1.000000              0.792320   \n",
       "distance_circularity            0.789928     0.792320              1.000000   \n",
       "radius_ratio                    0.721925     0.638280              0.794222   \n",
       "pr.axis_aspect_ratio            0.192864     0.203253              0.244332   \n",
       "max.length_aspect_ratio         0.499928     0.560470              0.666809   \n",
       "scatter_ratio                   0.812620     0.847938              0.905076   \n",
       "elongatedness                  -0.788750    -0.821472             -0.911307   \n",
       "pr.axis_rectangularity          0.813694     0.843400              0.893025   \n",
       "max.length_rectangularity       0.676143     0.961318              0.774527   \n",
       "scaled_variance                 0.769871     0.802768              0.869584   \n",
       "scaled_variance.1               0.806170     0.827462              0.883943   \n",
       "scaled_radius_of_gyration       0.585243     0.925816              0.705771   \n",
       "scaled_radius_of_gyration.1    -0.246681     0.068745             -0.229353   \n",
       "skewness_about                  0.197308     0.136351              0.099107   \n",
       "skewness_about.1                0.156348    -0.009666              0.262345   \n",
       "skewness_about.2                0.298537    -0.104426              0.146098   \n",
       "hollows_ratio                   0.365552     0.046351              0.332732   \n",
       "\n",
       "                             radius_ratio  pr.axis_aspect_ratio  \\\n",
       "compactness                      0.721925              0.192864   \n",
       "circularity                      0.638280              0.203253   \n",
       "distance_circularity             0.794222              0.244332   \n",
       "radius_ratio                     1.000000              0.650554   \n",
       "pr.axis_aspect_ratio             0.650554              1.000000   \n",
       "max.length_aspect_ratio          0.463958              0.150295   \n",
       "scatter_ratio                    0.769941              0.194195   \n",
       "elongatedness                   -0.825392             -0.298144   \n",
       "pr.axis_rectangularity           0.744139              0.163047   \n",
       "max.length_rectangularity        0.579468              0.147592   \n",
       "scaled_variance                  0.786183              0.207101   \n",
       "scaled_variance.1                0.760257              0.196401   \n",
       "scaled_radius_of_gyration        0.550774              0.148591   \n",
       "scaled_radius_of_gyration.1     -0.390459             -0.321070   \n",
       "skewness_about                   0.035755             -0.056030   \n",
       "skewness_about.1                 0.179601             -0.021088   \n",
       "skewness_about.2                 0.405849              0.400882   \n",
       "hollows_ratio                    0.491758              0.415734   \n",
       "\n",
       "                             max.length_aspect_ratio  scatter_ratio  \\\n",
       "compactness                                 0.499928       0.812620   \n",
       "circularity                                 0.560470       0.847938   \n",
       "distance_circularity                        0.666809       0.905076   \n",
       "radius_ratio                                0.463958       0.769941   \n",
       "pr.axis_aspect_ratio                        0.150295       0.194195   \n",
       "max.length_aspect_ratio                     1.000000       0.490759   \n",
       "scatter_ratio                               0.490759       1.000000   \n",
       "elongatedness                              -0.504181      -0.971601   \n",
       "pr.axis_rectangularity                      0.487931       0.989751   \n",
       "max.length_rectangularity                   0.642713       0.809083   \n",
       "scaled_variance                             0.401391       0.960883   \n",
       "scaled_variance.1                           0.463249       0.980447   \n",
       "scaled_radius_of_gyration                   0.397397       0.799875   \n",
       "scaled_radius_of_gyration.1                -0.335444       0.011314   \n",
       "skewness_about                              0.081898       0.064242   \n",
       "skewness_about.1                            0.141664       0.211647   \n",
       "skewness_about.2                            0.083794       0.005628   \n",
       "hollows_ratio                               0.413174       0.118817   \n",
       "\n",
       "                             elongatedness  pr.axis_rectangularity  \\\n",
       "compactness                      -0.788750                0.813694   \n",
       "circularity                      -0.821472                0.843400   \n",
       "distance_circularity             -0.911307                0.893025   \n",
       "radius_ratio                     -0.825392                0.744139   \n",
       "pr.axis_aspect_ratio             -0.298144                0.163047   \n",
       "max.length_aspect_ratio          -0.504181                0.487931   \n",
       "scatter_ratio                    -0.971601                0.989751   \n",
       "elongatedness                     1.000000               -0.948996   \n",
       "pr.axis_rectangularity           -0.948996                1.000000   \n",
       "max.length_rectangularity        -0.775854                0.810934   \n",
       "scaled_variance                  -0.947644                0.947329   \n",
       "scaled_variance.1                -0.948851                0.973606   \n",
       "scaled_radius_of_gyration        -0.766314                0.796690   \n",
       "scaled_radius_of_gyration.1       0.078391                0.027545   \n",
       "skewness_about                   -0.046943                0.073127   \n",
       "skewness_about.1                 -0.183642                0.213801   \n",
       "skewness_about.2                 -0.115126               -0.018649   \n",
       "hollows_ratio                    -0.216905                0.099286   \n",
       "\n",
       "                             max.length_rectangularity  scaled_variance  \\\n",
       "compactness                                   0.676143         0.769871   \n",
       "circularity                                   0.961318         0.802768   \n",
       "distance_circularity                          0.774527         0.869584   \n",
       "radius_ratio                                  0.579468         0.786183   \n",
       "pr.axis_aspect_ratio                          0.147592         0.207101   \n",
       "max.length_aspect_ratio                       0.642713         0.401391   \n",
       "scatter_ratio                                 0.809083         0.960883   \n",
       "elongatedness                                -0.775854        -0.947644   \n",
       "pr.axis_rectangularity                        0.810934         0.947329   \n",
       "max.length_rectangularity                     1.000000         0.750222   \n",
       "scaled_variance                               0.750222         1.000000   \n",
       "scaled_variance.1                             0.789632         0.943780   \n",
       "scaled_radius_of_gyration                     0.866450         0.785073   \n",
       "scaled_radius_of_gyration.1                   0.053856         0.025828   \n",
       "skewness_about                                0.130702         0.024693   \n",
       "skewness_about.1                              0.004129         0.197122   \n",
       "skewness_about.2                             -0.103948         0.015171   \n",
       "hollows_ratio                                 0.076770         0.086330   \n",
       "\n",
       "                             scaled_variance.1  scaled_radius_of_gyration  \\\n",
       "compactness                           0.806170                   0.585243   \n",
       "circularity                           0.827462                   0.925816   \n",
       "distance_circularity                  0.883943                   0.705771   \n",
       "radius_ratio                          0.760257                   0.550774   \n",
       "pr.axis_aspect_ratio                  0.196401                   0.148591   \n",
       "max.length_aspect_ratio               0.463249                   0.397397   \n",
       "scatter_ratio                         0.980447                   0.799875   \n",
       "elongatedness                        -0.948851                  -0.766314   \n",
       "pr.axis_rectangularity                0.973606                   0.796690   \n",
       "max.length_rectangularity             0.789632                   0.866450   \n",
       "scaled_variance                       0.943780                   0.785073   \n",
       "scaled_variance.1                     1.000000                   0.782972   \n",
       "scaled_radius_of_gyration             0.782972                   1.000000   \n",
       "scaled_radius_of_gyration.1           0.009386                   0.215279   \n",
       "skewness_about                        0.065731                   0.162970   \n",
       "skewness_about.1                      0.204941                  -0.055667   \n",
       "skewness_about.2                      0.017557                  -0.224450   \n",
       "hollows_ratio                         0.119642                  -0.118002   \n",
       "\n",
       "                             scaled_radius_of_gyration.1  skewness_about  \\\n",
       "compactness                                    -0.246681        0.197308   \n",
       "circularity                                     0.068745        0.136351   \n",
       "distance_circularity                           -0.229353        0.099107   \n",
       "radius_ratio                                   -0.390459        0.035755   \n",
       "pr.axis_aspect_ratio                           -0.321070       -0.056030   \n",
       "max.length_aspect_ratio                        -0.335444        0.081898   \n",
       "scatter_ratio                                   0.011314        0.064242   \n",
       "elongatedness                                   0.078391       -0.046943   \n",
       "pr.axis_rectangularity                          0.027545        0.073127   \n",
       "max.length_rectangularity                       0.053856        0.130702   \n",
       "scaled_variance                                 0.025828        0.024693   \n",
       "scaled_variance.1                               0.009386        0.065731   \n",
       "scaled_radius_of_gyration                       0.215279        0.162970   \n",
       "scaled_radius_of_gyration.1                     1.000000       -0.057755   \n",
       "skewness_about                                 -0.057755        1.000000   \n",
       "skewness_about.1                               -0.123996       -0.041734   \n",
       "skewness_about.2                               -0.832738        0.086661   \n",
       "hollows_ratio                                  -0.901332        0.062619   \n",
       "\n",
       "                             skewness_about.1  skewness_about.2  hollows_ratio  \n",
       "compactness                          0.156348          0.298537       0.365552  \n",
       "circularity                         -0.009666         -0.104426       0.046351  \n",
       "distance_circularity                 0.262345          0.146098       0.332732  \n",
       "radius_ratio                         0.179601          0.405849       0.491758  \n",
       "pr.axis_aspect_ratio                -0.021088          0.400882       0.415734  \n",
       "max.length_aspect_ratio              0.141664          0.083794       0.413174  \n",
       "scatter_ratio                        0.211647          0.005628       0.118817  \n",
       "elongatedness                       -0.183642         -0.115126      -0.216905  \n",
       "pr.axis_rectangularity               0.213801         -0.018649       0.099286  \n",
       "max.length_rectangularity            0.004129         -0.103948       0.076770  \n",
       "scaled_variance                      0.197122          0.015171       0.086330  \n",
       "scaled_variance.1                    0.204941          0.017557       0.119642  \n",
       "scaled_radius_of_gyration           -0.055667         -0.224450      -0.118002  \n",
       "scaled_radius_of_gyration.1         -0.123996         -0.832738      -0.901332  \n",
       "skewness_about                      -0.041734          0.086661       0.062619  \n",
       "skewness_about.1                     1.000000          0.074473       0.200651  \n",
       "skewness_about.2                     0.074473          1.000000       0.892581  \n",
       "hollows_ratio                        0.200651          0.892581       1.000000  "
      ]
     },
     "execution_count": 527,
     "metadata": {},
     "output_type": "execute_result"
    }
   ],
   "source": [
    "corr = vehicle_df_scaled.corr()\n",
    "corr"
   ]
  },
  {
   "cell_type": "code",
   "execution_count": 528,
   "metadata": {},
   "outputs": [
    {
     "data": {
      "image/png": "[encoded data removed]",
      "text/plain": [
       "<Figure size 432x288 with 2 Axes>"
      ]
     },
     "metadata": {
      "needs_background": "light"
     },
     "output_type": "display_data"
    }
   ],
   "source": [
    "#Checking Mulit-Colinearity\n",
    "import statsmodels.graphics.api as smg\n",
    "smg.plot_corr(corr, xnames=list(corr.columns))\n",
    "plt.show()"
   ]
  },
  {
   "cell_type": "code",
   "execution_count": 529,
   "metadata": {},
   "outputs": [
    {
     "name": "stdout",
     "output_type": "stream",
     "text": [
      "We can see that there are high correlation between different columns\n",
      "We have to drop some of the highly related columns\n"
     ]
    }
   ],
   "source": [
    "print(\"We can see that there are high correlation between different columns\")\n",
    "print(\"We have to drop some of the highly related columns\")"
   ]
  },
  {
   "cell_type": "code",
   "execution_count": 530,
   "metadata": {},
   "outputs": [
    {
     "name": "stdout",
     "output_type": "stream",
     "text": [
      "Let's visualize relationship between one or two columns\n"
     ]
    },
    {
     "data": {
      "text/plain": [
       "<matplotlib.axes._subplots.AxesSubplot at 0x1c207cb1b00>"
      ]
     },
     "execution_count": 530,
     "metadata": {},
     "output_type": "execute_result"
    },
    {
     "data": {
      "image/png": "[encoded data removed]",
      "text/plain": [
       "<Figure size 432x288 with 1 Axes>"
      ]
     },
     "metadata": {
      "needs_background": "light"
     },
     "output_type": "display_data"
    }
   ],
   "source": [
    "print(\"Let's visualize relationship between one or two columns\")\n",
    "sns.scatterplot(vehicle_df_scaled['max.length_rectangularity'], vehicle_df_scaled['circularity'])"
   ]
  },
  {
   "cell_type": "code",
   "execution_count": 531,
   "metadata": {},
   "outputs": [
    {
     "data": {
      "text/plain": [
       "<matplotlib.axes._subplots.AxesSubplot at 0x1c2072ece80>"
      ]
     },
     "execution_count": 531,
     "metadata": {},
     "output_type": "execute_result"
    },
    {
     "data": {
      "image/png": "[encoded data removed]",
      "text/plain": [
       "<Figure size 432x288 with 1 Axes>"
      ]
     },
     "metadata": {
      "needs_background": "light"
     },
     "output_type": "display_data"
    }
   ],
   "source": [
    "sns.scatterplot(vehicle_df_scaled['scaled_radius_of_gyration'], vehicle_df_scaled['circularity'])"
   ]
  },
  {
   "cell_type": "code",
   "execution_count": 532,
   "metadata": {},
   "outputs": [
    {
     "name": "stdout",
     "output_type": "stream",
     "text": [
      "We can see that column 'circularity' has some high correleation with other columns and this feature may not add value to the information.\n",
      "\n",
      "We have to drop some features which are not adding much variance to our model  may be using PCA\n"
     ]
    }
   ],
   "source": [
    "print(\"We can see that column 'circularity' has some high correleation \\\n",
    "with other columns and this feature may not add value to the information.\")\n",
    "print()\n",
    "print(\"We have to drop some features which are not adding much variance to our model  may be using PCA\")"
   ]
  },
  {
   "cell_type": "markdown",
   "metadata": {},
   "source": [
    "### Dimension Reduction"
   ]
  },
  {
   "cell_type": "code",
   "execution_count": 533,
   "metadata": {},
   "outputs": [],
   "source": [
    "X = vehicle_df_scaled.drop('class', axis=1)\n",
    "Y = vehicle_df_scaled[['class']]\n",
    "\n",
    "pca_explained_variance = np.cumsum(pca.explained_variance_ratio_)"
   ]
  },
  {
   "cell_type": "code",
   "execution_count": 534,
   "metadata": {},
   "outputs": [
    {
     "data": {
      "image/png": "[encoded data removed]",
      "text/plain": [
       "<Figure size 720x360 with 1 Axes>"
      ]
     },
     "metadata": {
      "needs_background": "light"
     },
     "output_type": "display_data"
    }
   ],
   "source": [
    "#Fitting the PCA algorithm with our Data\n",
    "pca = PCA().fit(X)\n",
    "#Plotting the Cumulative Summation of the Explained Variance\n",
    "plt.figure(figsize=(10 , 5))\n",
    "plt.plot(pca_explained_variance)\n",
    "plt.xlabel('Number of Components')\n",
    "plt.ylabel('Variance (%)') #for each component\n",
    "plt.title('Pulsar Dataset Explained Variance')\n",
    "plt.vlines(10, 0.6, 1, colors='r')\n",
    "plt.hlines(0.99, 0 , 18, colors='r')\n",
    "plt.show()"
   ]
  },
  {
   "cell_type": "code",
   "execution_count": 535,
   "metadata": {},
   "outputs": [
    {
     "data": {
      "image/png": "[encoded data removed]",
      "text/plain": [
       "<Figure size 720x360 with 1 Axes>"
      ]
     },
     "metadata": {
      "needs_background": "light"
     },
     "output_type": "display_data"
    }
   ],
   "source": [
    "# Ploting \n",
    "plt.figure(figsize=(10 , 5))\n",
    "plt.bar(range(1, len(pca_explained_variance) + 1), pca.explained_variance_ratio_, alpha = 0.5, align = 'center', label = 'Individual explained variance')\n",
    "plt.step(range(1, len(pca_explained_variance) + 1), pca_explained_variance, where='mid', label = 'Cumulative explained variance')\n",
    "plt.ylabel('Explained Variance Ratio')\n",
    "plt.xlabel('Principal Components')\n",
    "plt.legend(loc = 'best')\n",
    "plt.tight_layout()\n",
    "plt.show()"
   ]
  },
  {
   "cell_type": "code",
   "execution_count": 536,
   "metadata": {},
   "outputs": [
    {
     "data": {
      "text/plain": [
       "array([0.57773347, 0.75965739, 0.82954356, 0.88471373, 0.91696281,\n",
       "       0.94664622, 0.96039395, 0.97311241, 0.98008673, 0.98459337,\n",
       "       0.98856437, 0.99161721, 0.99385292, 0.99559602, 0.99720736,\n",
       "       0.99855852, 0.99968044, 1.        ])"
      ]
     },
     "execution_count": 536,
     "metadata": {},
     "output_type": "execute_result"
    }
   ],
   "source": [
    "pca_explained_variance"
   ]
  },
  {
   "cell_type": "code",
   "execution_count": 537,
   "metadata": {},
   "outputs": [
    {
     "data": {
      "text/plain": [
       "(18, 18)"
      ]
     },
     "execution_count": 537,
     "metadata": {},
     "output_type": "execute_result"
    }
   ],
   "source": [
    "pca.components_.shape"
   ]
  },
  {
   "cell_type": "code",
   "execution_count": 538,
   "metadata": {},
   "outputs": [
    {
     "name": "stdout",
     "output_type": "stream",
     "text": [
      "We can see that top 10 features are covering more than 95% of variance.\n",
      "We can drop remaining features\n"
     ]
    }
   ],
   "source": [
    "print(\"We can see that top 10 features are covering more than 95% of variance.\")\n",
    "print(\"We can drop remaining features\")"
   ]
  },
  {
   "cell_type": "code",
   "execution_count": 539,
   "metadata": {},
   "outputs": [
    {
     "data": {
      "text/plain": [
       "(846, 10)"
      ]
     },
     "execution_count": 539,
     "metadata": {},
     "output_type": "execute_result"
    }
   ],
   "source": [
    "pca = PCA(n_components=10)\n",
    "X_pca = pca.fit_transform(X)\n",
    "X_pca.shape"
   ]
  },
  {
   "cell_type": "code",
   "execution_count": 540,
   "metadata": {},
   "outputs": [],
   "source": [
    "X_train, X_test, y_train, y_test = train_test_split(X_pca, Y, random_state=7, test_size=0.3)"
   ]
  },
  {
   "cell_type": "code",
   "execution_count": 541,
   "metadata": {},
   "outputs": [
    {
     "name": "stderr",
     "output_type": "stream",
     "text": [
      "d:\\Profiles\\ankGupta\\AppData\\Local\\Continuum\\anaconda3\\lib\\site-packages\\sklearn\\model_selection\\_split.py:1978: FutureWarning: The default value of cv will change from 3 to 5 in version 0.22. Specify it explicitly to silence this warning.\n",
      "  warnings.warn(CV_WARNING, FutureWarning)\n"
     ]
    },
    {
     "name": "stdout",
     "output_type": "stream",
     "text": [
      "Best Hyper Parameters:\n",
      " {'C': 1, 'kernel': 'rbf'}\n"
     ]
    },
    {
     "name": "stderr",
     "output_type": "stream",
     "text": [
      "d:\\Profiles\\ankGupta\\AppData\\Local\\Continuum\\anaconda3\\lib\\site-packages\\sklearn\\utils\\validation.py:724: DataConversionWarning: A column-vector y was passed when a 1d array was expected. Please change the shape of y to (n_samples, ), for example using ravel().\n",
      "  y = column_or_1d(y, warn=True)\n",
      "d:\\Profiles\\ankGupta\\AppData\\Local\\Continuum\\anaconda3\\lib\\site-packages\\sklearn\\svm\\base.py:193: FutureWarning: The default value of gamma will change from 'auto' to 'scale' in version 0.22 to account better for unscaled features. Set gamma explicitly to 'auto' or 'scale' to avoid this warning.\n",
      "  \"avoid this warning.\", FutureWarning)\n"
     ]
    }
   ],
   "source": [
    "#Build Model using SVM and HyperParameter Tuning using grid search\n",
    "from sklearn.model_selection import GridSearchCV\n",
    "from sklearn import svm\n",
    "#making the instance\n",
    "model=svm.SVC()\n",
    "#Hyper Parameters Set\n",
    "params = {'C': [0.01, 0.05, 0.5, 1],\n",
    "          'kernel': ['linear','rbf']}\n",
    "#Making models with hyper parameters sets\n",
    "model1 = GridSearchCV(model, param_grid=params, n_jobs=-1)\n",
    "#Learning\n",
    "model1.fit(X_train,y_train)\n",
    "#The best hyper parameters set\n",
    "print(\"Best Hyper Parameters:\\n\",model1.best_params_)\n",
    "#Prediction\n",
    "prediction=model1.predict(X_test)"
   ]
  },
  {
   "cell_type": "code",
   "execution_count": 542,
   "metadata": {},
   "outputs": [
    {
     "name": "stdout",
     "output_type": "stream",
     "text": [
      "Accuracy: 0.9724409448818898\n",
      "Confusion Matrix:\n",
      " [[ 65   0   1]\n",
      " [  1 123   1]\n",
      " [  0   4  59]]\n"
     ]
    }
   ],
   "source": [
    "#evaluation(Accuracy)\n",
    "print(\"Accuracy:\",metrics.accuracy_score(prediction,y_test))\n",
    "#evaluation(Confusion Metrix)\n",
    "print(\"Confusion Matrix:\\n\",metrics.confusion_matrix(prediction,y_test))"
   ]
  },
  {
   "cell_type": "code",
   "execution_count": 543,
   "metadata": {},
   "outputs": [
    {
     "name": "stderr",
     "output_type": "stream",
     "text": [
      "d:\\Profiles\\ankGupta\\AppData\\Local\\Continuum\\anaconda3\\lib\\site-packages\\sklearn\\model_selection\\_split.py:1978: FutureWarning: The default value of cv will change from 3 to 5 in version 0.22. Specify it explicitly to silence this warning.\n",
      "  warnings.warn(CV_WARNING, FutureWarning)\n",
      "d:\\Profiles\\ankGupta\\AppData\\Local\\Continuum\\anaconda3\\lib\\site-packages\\sklearn\\utils\\validation.py:724: DataConversionWarning: A column-vector y was passed when a 1d array was expected. Please change the shape of y to (n_samples, ), for example using ravel().\n",
      "  y = column_or_1d(y, warn=True)\n",
      "d:\\Profiles\\ankGupta\\AppData\\Local\\Continuum\\anaconda3\\lib\\site-packages\\sklearn\\svm\\base.py:193: FutureWarning: The default value of gamma will change from 'auto' to 'scale' in version 0.22 to account better for unscaled features. Set gamma explicitly to 'auto' or 'scale' to avoid this warning.\n",
      "  \"avoid this warning.\", FutureWarning)\n",
      "d:\\Profiles\\ankGupta\\AppData\\Local\\Continuum\\anaconda3\\lib\\site-packages\\sklearn\\model_selection\\_split.py:1978: FutureWarning: The default value of cv will change from 3 to 5 in version 0.22. Specify it explicitly to silence this warning.\n",
      "  warnings.warn(CV_WARNING, FutureWarning)\n",
      "d:\\Profiles\\ankGupta\\AppData\\Local\\Continuum\\anaconda3\\lib\\site-packages\\sklearn\\utils\\validation.py:724: DataConversionWarning: A column-vector y was passed when a 1d array was expected. Please change the shape of y to (n_samples, ), for example using ravel().\n",
      "  y = column_or_1d(y, warn=True)\n",
      "d:\\Profiles\\ankGupta\\AppData\\Local\\Continuum\\anaconda3\\lib\\site-packages\\sklearn\\svm\\base.py:193: FutureWarning: The default value of gamma will change from 'auto' to 'scale' in version 0.22 to account better for unscaled features. Set gamma explicitly to 'auto' or 'scale' to avoid this warning.\n",
      "  \"avoid this warning.\", FutureWarning)\n",
      "d:\\Profiles\\ankGupta\\AppData\\Local\\Continuum\\anaconda3\\lib\\site-packages\\sklearn\\model_selection\\_split.py:1978: FutureWarning: The default value of cv will change from 3 to 5 in version 0.22. Specify it explicitly to silence this warning.\n",
      "  warnings.warn(CV_WARNING, FutureWarning)\n",
      "d:\\Profiles\\ankGupta\\AppData\\Local\\Continuum\\anaconda3\\lib\\site-packages\\sklearn\\utils\\validation.py:724: DataConversionWarning: A column-vector y was passed when a 1d array was expected. Please change the shape of y to (n_samples, ), for example using ravel().\n",
      "  y = column_or_1d(y, warn=True)\n",
      "d:\\Profiles\\ankGupta\\AppData\\Local\\Continuum\\anaconda3\\lib\\site-packages\\sklearn\\svm\\base.py:193: FutureWarning: The default value of gamma will change from 'auto' to 'scale' in version 0.22 to account better for unscaled features. Set gamma explicitly to 'auto' or 'scale' to avoid this warning.\n",
      "  \"avoid this warning.\", FutureWarning)\n",
      "d:\\Profiles\\ankGupta\\AppData\\Local\\Continuum\\anaconda3\\lib\\site-packages\\sklearn\\model_selection\\_split.py:1978: FutureWarning: The default value of cv will change from 3 to 5 in version 0.22. Specify it explicitly to silence this warning.\n",
      "  warnings.warn(CV_WARNING, FutureWarning)\n",
      "d:\\Profiles\\ankGupta\\AppData\\Local\\Continuum\\anaconda3\\lib\\site-packages\\sklearn\\utils\\validation.py:724: DataConversionWarning: A column-vector y was passed when a 1d array was expected. Please change the shape of y to (n_samples, ), for example using ravel().\n",
      "  y = column_or_1d(y, warn=True)\n",
      "d:\\Profiles\\ankGupta\\AppData\\Local\\Continuum\\anaconda3\\lib\\site-packages\\sklearn\\svm\\base.py:193: FutureWarning: The default value of gamma will change from 'auto' to 'scale' in version 0.22 to account better for unscaled features. Set gamma explicitly to 'auto' or 'scale' to avoid this warning.\n",
      "  \"avoid this warning.\", FutureWarning)\n",
      "d:\\Profiles\\ankGupta\\AppData\\Local\\Continuum\\anaconda3\\lib\\site-packages\\sklearn\\model_selection\\_split.py:1978: FutureWarning: The default value of cv will change from 3 to 5 in version 0.22. Specify it explicitly to silence this warning.\n",
      "  warnings.warn(CV_WARNING, FutureWarning)\n",
      "d:\\Profiles\\ankGupta\\AppData\\Local\\Continuum\\anaconda3\\lib\\site-packages\\sklearn\\utils\\validation.py:724: DataConversionWarning: A column-vector y was passed when a 1d array was expected. Please change the shape of y to (n_samples, ), for example using ravel().\n",
      "  y = column_or_1d(y, warn=True)\n",
      "d:\\Profiles\\ankGupta\\AppData\\Local\\Continuum\\anaconda3\\lib\\site-packages\\sklearn\\svm\\base.py:193: FutureWarning: The default value of gamma will change from 'auto' to 'scale' in version 0.22 to account better for unscaled features. Set gamma explicitly to 'auto' or 'scale' to avoid this warning.\n",
      "  \"avoid this warning.\", FutureWarning)\n",
      "d:\\Profiles\\ankGupta\\AppData\\Local\\Continuum\\anaconda3\\lib\\site-packages\\sklearn\\model_selection\\_split.py:1978: FutureWarning: The default value of cv will change from 3 to 5 in version 0.22. Specify it explicitly to silence this warning.\n",
      "  warnings.warn(CV_WARNING, FutureWarning)\n",
      "d:\\Profiles\\ankGupta\\AppData\\Local\\Continuum\\anaconda3\\lib\\site-packages\\sklearn\\utils\\validation.py:724: DataConversionWarning: A column-vector y was passed when a 1d array was expected. Please change the shape of y to (n_samples, ), for example using ravel().\n",
      "  y = column_or_1d(y, warn=True)\n",
      "d:\\Profiles\\ankGupta\\AppData\\Local\\Continuum\\anaconda3\\lib\\site-packages\\sklearn\\svm\\base.py:193: FutureWarning: The default value of gamma will change from 'auto' to 'scale' in version 0.22 to account better for unscaled features. Set gamma explicitly to 'auto' or 'scale' to avoid this warning.\n",
      "  \"avoid this warning.\", FutureWarning)\n",
      "d:\\Profiles\\ankGupta\\AppData\\Local\\Continuum\\anaconda3\\lib\\site-packages\\sklearn\\model_selection\\_split.py:1978: FutureWarning: The default value of cv will change from 3 to 5 in version 0.22. Specify it explicitly to silence this warning.\n",
      "  warnings.warn(CV_WARNING, FutureWarning)\n",
      "d:\\Profiles\\ankGupta\\AppData\\Local\\Continuum\\anaconda3\\lib\\site-packages\\sklearn\\utils\\validation.py:724: DataConversionWarning: A column-vector y was passed when a 1d array was expected. Please change the shape of y to (n_samples, ), for example using ravel().\n",
      "  y = column_or_1d(y, warn=True)\n",
      "d:\\Profiles\\ankGupta\\AppData\\Local\\Continuum\\anaconda3\\lib\\site-packages\\sklearn\\svm\\base.py:193: FutureWarning: The default value of gamma will change from 'auto' to 'scale' in version 0.22 to account better for unscaled features. Set gamma explicitly to 'auto' or 'scale' to avoid this warning.\n",
      "  \"avoid this warning.\", FutureWarning)\n",
      "d:\\Profiles\\ankGupta\\AppData\\Local\\Continuum\\anaconda3\\lib\\site-packages\\sklearn\\model_selection\\_split.py:1978: FutureWarning: The default value of cv will change from 3 to 5 in version 0.22. Specify it explicitly to silence this warning.\n",
      "  warnings.warn(CV_WARNING, FutureWarning)\n",
      "d:\\Profiles\\ankGupta\\AppData\\Local\\Continuum\\anaconda3\\lib\\site-packages\\sklearn\\utils\\validation.py:724: DataConversionWarning: A column-vector y was passed when a 1d array was expected. Please change the shape of y to (n_samples, ), for example using ravel().\n",
      "  y = column_or_1d(y, warn=True)\n",
      "d:\\Profiles\\ankGupta\\AppData\\Local\\Continuum\\anaconda3\\lib\\site-packages\\sklearn\\svm\\base.py:193: FutureWarning: The default value of gamma will change from 'auto' to 'scale' in version 0.22 to account better for unscaled features. Set gamma explicitly to 'auto' or 'scale' to avoid this warning.\n",
      "  \"avoid this warning.\", FutureWarning)\n",
      "d:\\Profiles\\ankGupta\\AppData\\Local\\Continuum\\anaconda3\\lib\\site-packages\\sklearn\\model_selection\\_split.py:1978: FutureWarning: The default value of cv will change from 3 to 5 in version 0.22. Specify it explicitly to silence this warning.\n",
      "  warnings.warn(CV_WARNING, FutureWarning)\n",
      "d:\\Profiles\\ankGupta\\AppData\\Local\\Continuum\\anaconda3\\lib\\site-packages\\sklearn\\utils\\validation.py:724: DataConversionWarning: A column-vector y was passed when a 1d array was expected. Please change the shape of y to (n_samples, ), for example using ravel().\n",
      "  y = column_or_1d(y, warn=True)\n",
      "d:\\Profiles\\ankGupta\\AppData\\Local\\Continuum\\anaconda3\\lib\\site-packages\\sklearn\\svm\\base.py:193: FutureWarning: The default value of gamma will change from 'auto' to 'scale' in version 0.22 to account better for unscaled features. Set gamma explicitly to 'auto' or 'scale' to avoid this warning.\n",
      "  \"avoid this warning.\", FutureWarning)\n",
      "d:\\Profiles\\ankGupta\\AppData\\Local\\Continuum\\anaconda3\\lib\\site-packages\\sklearn\\model_selection\\_split.py:1978: FutureWarning: The default value of cv will change from 3 to 5 in version 0.22. Specify it explicitly to silence this warning.\n",
      "  warnings.warn(CV_WARNING, FutureWarning)\n"
     ]
    },
    {
     "name": "stdout",
     "output_type": "stream",
     "text": [
      "[0.92941176 0.96470588 0.95294118 0.97647059 0.95294118 0.96470588\n",
      " 0.97619048 0.94047619 0.95238095 0.96428571]\n",
      "Accuracy: 95.745% (1.416%)\n"
     ]
    },
    {
     "name": "stderr",
     "output_type": "stream",
     "text": [
      "d:\\Profiles\\ankGupta\\AppData\\Local\\Continuum\\anaconda3\\lib\\site-packages\\sklearn\\utils\\validation.py:724: DataConversionWarning: A column-vector y was passed when a 1d array was expected. Please change the shape of y to (n_samples, ), for example using ravel().\n",
      "  y = column_or_1d(y, warn=True)\n",
      "d:\\Profiles\\ankGupta\\AppData\\Local\\Continuum\\anaconda3\\lib\\site-packages\\sklearn\\svm\\base.py:193: FutureWarning: The default value of gamma will change from 'auto' to 'scale' in version 0.22 to account better for unscaled features. Set gamma explicitly to 'auto' or 'scale' to avoid this warning.\n",
      "  \"avoid this warning.\", FutureWarning)\n"
     ]
    }
   ],
   "source": [
    "#Checking Score Using CV Score and KFold\n",
    "num_folds = 10\n",
    "seed = 7\n",
    "\n",
    "kfold = KFold(n_splits=num_folds, random_state=seed)\n",
    "results = cross_val_score(model1, X, Y, cv=kfold)\n",
    "print(results)\n",
    "print(\"Accuracy: %.3f%% (%.3f%%)\" % (results.mean()*100.0, results.std()*100.0))"
   ]
  },
  {
   "cell_type": "code",
   "execution_count": 544,
   "metadata": {},
   "outputs": [
    {
     "data": {
      "image/png": "[encoded data removed]",
      "text/plain": [
       "<Figure size 432x288 with 1 Axes>"
      ]
     },
     "metadata": {
      "needs_background": "light"
     },
     "output_type": "display_data"
    }
   ],
   "source": [
    "# plot scores\n",
    "plt.hist(results)\n",
    "plt.show()"
   ]
  },
  {
   "cell_type": "code",
   "execution_count": null,
   "metadata": {},
   "outputs": [],
   "source": []
  }
 ],
 "metadata": {
  "kernelspec": {
   "display_name": "Python 3",
   "language": "python",
   "name": "python3"
  },
  "language_info": {
   "codemirror_mode": {
    "name": "ipython",
    "version": 3
   },
   "file_extension": ".py",
   "mimetype": "text/x-python",
   "name": "python",
   "nbconvert_exporter": "python",
   "pygments_lexer": "ipython3",
   "version": "3.7.3"
  }
 },
 "nbformat": 4,
 "nbformat_minor": 2
}
