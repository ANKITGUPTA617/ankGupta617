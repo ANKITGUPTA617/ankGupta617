{
  "nbformat": 4,
  "nbformat_minor": 0,
  "metadata": {
    "kernelspec": {
      "display_name": "Python 3",
      "language": "python",
      "name": "python3"
    },
    "language_info": {
      "codemirror_mode": {
        "name": "ipython",
        "version": 3
      },
      "file_extension": ".py",
      "mimetype": "text/x-python",
      "name": "python",
      "nbconvert_exporter": "python",
      "pygments_lexer": "ipython3",
      "version": "3.7.3"
    },
    "colab": {
      "name": "StatisticalNLP_R8_Project1-Copy1.ipynb",
      "provenance": []
    },
    "accelerator": "GPU"
  },
  "cells": [
    {
      "cell_type": "code",
      "metadata": {
        "id": "nJ6L4xAZ_I8v",
        "colab_type": "code",
        "colab": {
          "base_uri": "https://localhost:8080/",
          "height": 122
        },
        "outputId": "52f82a62-babd-46ef-bda9-1d212b6cfeb2"
      },
      "source": [
        "from google.colab import drive\n",
        "drive.mount('/content/drive/')"
      ],
      "execution_count": 5,
      "outputs": [
        {
          "output_type": "stream",
          "text": [
            "Go to this URL in a browser: https://accounts.google.com/o/oauth2/auth?client_id=947318989803-6bn6qk8qdgf4n4g3pfee6491hc0brc4i.apps.googleusercontent.com&redirect_uri=urn%3aietf%3awg%3aoauth%3a2.0%3aoob&response_type=code&scope=email%20https%3a%2f%2fwww.googleapis.com%2fauth%2fdocs.test%20https%3a%2f%2fwww.googleapis.com%2fauth%2fdrive%20https%3a%2f%2fwww.googleapis.com%2fauth%2fdrive.photos.readonly%20https%3a%2f%2fwww.googleapis.com%2fauth%2fpeopleapi.readonly\n",
            "\n",
            "Enter your authorization code:\n",
            "··········\n",
            "Mounted at /content/drive/\n"
          ],
          "name": "stdout"
        }
      ]
    },
    {
      "cell_type": "code",
      "metadata": {
        "id": "a4VaG_NU_Ep-",
        "colab_type": "code",
        "colab": {}
      },
      "source": [
        "# Import important Libraries \n",
        "import numpy as np\n",
        "import pandas as pd\n",
        "import seaborn as sns\n",
        "from matplotlib import pyplot as plt\n",
        "from sklearn.model_selection import train_test_split\n",
        "from sklearn.feature_extraction.text import CountVectorizer\n",
        "from sklearn.preprocessing import MultiLabelBinarizer\n",
        "from sklearn.linear_model import LogisticRegression\n",
        "from sklearn.multiclass import OneVsRestClassifier\n",
        "from sklearn.metrics import accuracy_score,classification_report\n",
        "import warnings as warning"
      ],
      "execution_count": 0,
      "outputs": []
    },
    {
      "cell_type": "code",
      "metadata": {
        "id": "gLMKFazC_EqX",
        "colab_type": "code",
        "colab": {}
      },
      "source": [
        "# Load Blogs Dataset\n",
        "blogs_df = pd.read_csv('/content/drive/My Drive/Colab Notebooks/dataset/blogtext.csv')"
      ],
      "execution_count": 0,
      "outputs": []
    },
    {
      "cell_type": "code",
      "metadata": {
        "id": "6usGsu2L_Eqg",
        "colab_type": "code",
        "colab": {
          "base_uri": "https://localhost:8080/",
          "height": 204
        },
        "outputId": "deb8332f-b2b3-4440-aaea-bea1acffa6db"
      },
      "source": [
        "# Print few lines from Dataset\n",
        "blogs_df.head()"
      ],
      "execution_count": 8,
      "outputs": [
        {
          "output_type": "execute_result",
          "data": {
            "text/html": [
              "<div>\n",
              "<style scoped>\n",
              "    .dataframe tbody tr th:only-of-type {\n",
              "        vertical-align: middle;\n",
              "    }\n",
              "\n",
              "    .dataframe tbody tr th {\n",
              "        vertical-align: top;\n",
              "    }\n",
              "\n",
              "    .dataframe thead th {\n",
              "        text-align: right;\n",
              "    }\n",
              "</style>\n",
              "<table border=\"1\" class=\"dataframe\">\n",
              "  <thead>\n",
              "    <tr style=\"text-align: right;\">\n",
              "      <th></th>\n",
              "      <th>id</th>\n",
              "      <th>gender</th>\n",
              "      <th>age</th>\n",
              "      <th>topic</th>\n",
              "      <th>sign</th>\n",
              "      <th>date</th>\n",
              "      <th>text</th>\n",
              "    </tr>\n",
              "  </thead>\n",
              "  <tbody>\n",
              "    <tr>\n",
              "      <th>0</th>\n",
              "      <td>2059027</td>\n",
              "      <td>male</td>\n",
              "      <td>15</td>\n",
              "      <td>Student</td>\n",
              "      <td>Leo</td>\n",
              "      <td>14,May,2004</td>\n",
              "      <td>Info has been found (+/- 100 pages,...</td>\n",
              "    </tr>\n",
              "    <tr>\n",
              "      <th>1</th>\n",
              "      <td>2059027</td>\n",
              "      <td>male</td>\n",
              "      <td>15</td>\n",
              "      <td>Student</td>\n",
              "      <td>Leo</td>\n",
              "      <td>13,May,2004</td>\n",
              "      <td>These are the team members:   Drewe...</td>\n",
              "    </tr>\n",
              "    <tr>\n",
              "      <th>2</th>\n",
              "      <td>2059027</td>\n",
              "      <td>male</td>\n",
              "      <td>15</td>\n",
              "      <td>Student</td>\n",
              "      <td>Leo</td>\n",
              "      <td>12,May,2004</td>\n",
              "      <td>In het kader van kernfusie op aarde...</td>\n",
              "    </tr>\n",
              "    <tr>\n",
              "      <th>3</th>\n",
              "      <td>2059027</td>\n",
              "      <td>male</td>\n",
              "      <td>15</td>\n",
              "      <td>Student</td>\n",
              "      <td>Leo</td>\n",
              "      <td>12,May,2004</td>\n",
              "      <td>testing!!!  testing!!!</td>\n",
              "    </tr>\n",
              "    <tr>\n",
              "      <th>4</th>\n",
              "      <td>3581210</td>\n",
              "      <td>male</td>\n",
              "      <td>33</td>\n",
              "      <td>InvestmentBanking</td>\n",
              "      <td>Aquarius</td>\n",
              "      <td>11,June,2004</td>\n",
              "      <td>Thanks to Yahoo!'s Toolbar I can ...</td>\n",
              "    </tr>\n",
              "  </tbody>\n",
              "</table>\n",
              "</div>"
            ],
            "text/plain": [
              "        id  ...                                               text\n",
              "0  2059027  ...             Info has been found (+/- 100 pages,...\n",
              "1  2059027  ...             These are the team members:   Drewe...\n",
              "2  2059027  ...             In het kader van kernfusie op aarde...\n",
              "3  2059027  ...                   testing!!!  testing!!!          \n",
              "4  3581210  ...               Thanks to Yahoo!'s Toolbar I can ...\n",
              "\n",
              "[5 rows x 7 columns]"
            ]
          },
          "metadata": {
            "tags": []
          },
          "execution_count": 8
        }
      ]
    },
    {
      "cell_type": "code",
      "metadata": {
        "id": "1hAa4j17_Equ",
        "colab_type": "code",
        "colab": {
          "base_uri": "https://localhost:8080/",
          "height": 255
        },
        "outputId": "11f0d520-bc31-47a3-be63-b34ae10f5d02"
      },
      "source": [
        "# Print some information from Dataset\n",
        "blogs_df.info()"
      ],
      "execution_count": 9,
      "outputs": [
        {
          "output_type": "stream",
          "text": [
            "<class 'pandas.core.frame.DataFrame'>\n",
            "RangeIndex: 681284 entries, 0 to 681283\n",
            "Data columns (total 7 columns):\n",
            " #   Column  Non-Null Count   Dtype \n",
            "---  ------  --------------   ----- \n",
            " 0   id      681284 non-null  int64 \n",
            " 1   gender  681284 non-null  object\n",
            " 2   age     681284 non-null  int64 \n",
            " 3   topic   681284 non-null  object\n",
            " 4   sign    681284 non-null  object\n",
            " 5   date    681284 non-null  object\n",
            " 6   text    681284 non-null  object\n",
            "dtypes: int64(2), object(5)\n",
            "memory usage: 36.4+ MB\n"
          ],
          "name": "stdout"
        }
      ]
    },
    {
      "cell_type": "code",
      "metadata": {
        "id": "2p-mEyoh_Eq5",
        "colab_type": "code",
        "colab": {
          "base_uri": "https://localhost:8080/",
          "height": 68
        },
        "outputId": "cc9be2da-08da-403e-8204-958ec554fa53"
      },
      "source": [
        "# Some insights\n",
        "print(\"1. There are around 681 thousand data points and 7 columns\")\n",
        "print(\"2. There are 4 labels, 'gender', 'age', 'topic', 'sign'\")\n",
        "print(\"3. Data is huge so, we may need to work only on a subset of original dataset\")"
      ],
      "execution_count": 10,
      "outputs": [
        {
          "output_type": "stream",
          "text": [
            "1. There are around 681 thousand data points and 7 columns\n",
            "2. There are 4 labels, 'gender', 'age', 'topic', 'sign'\n",
            "3. Data is huge so, we may need to work only on a subset of original dataset\n"
          ],
          "name": "stdout"
        }
      ]
    },
    {
      "cell_type": "code",
      "metadata": {
        "id": "KcX7atC2_ErC",
        "colab_type": "code",
        "colab": {
          "base_uri": "https://localhost:8080/",
          "height": 153
        },
        "outputId": "03494c5d-57ef-42af-ff70-8127bdf5b9a6"
      },
      "source": [
        "# Let's see if there are any missing values\n",
        "blogs_df.isna().sum()"
      ],
      "execution_count": 11,
      "outputs": [
        {
          "output_type": "execute_result",
          "data": {
            "text/plain": [
              "id        0\n",
              "gender    0\n",
              "age       0\n",
              "topic     0\n",
              "sign      0\n",
              "date      0\n",
              "text      0\n",
              "dtype: int64"
            ]
          },
          "metadata": {
            "tags": []
          },
          "execution_count": 11
        }
      ]
    },
    {
      "cell_type": "code",
      "metadata": {
        "id": "uCx4nMaD_ErM",
        "colab_type": "code",
        "colab": {
          "base_uri": "https://localhost:8080/",
          "height": 34
        },
        "outputId": "5eb674a0-0969-47c0-e55f-6fb259a8c378"
      },
      "source": [
        "print(\"We can see there are no missing values\")"
      ],
      "execution_count": 12,
      "outputs": [
        {
          "output_type": "stream",
          "text": [
            "We can see there are no missing values\n"
          ],
          "name": "stdout"
        }
      ]
    },
    {
      "cell_type": "markdown",
      "metadata": {
        "id": "ULAIcTrM_ErU",
        "colab_type": "text"
      },
      "source": [
        "### Let's do some descriptive analysis on Dataset, 'text' column"
      ]
    },
    {
      "cell_type": "code",
      "metadata": {
        "id": "2n2TjR59_ErV",
        "colab_type": "code",
        "colab": {}
      },
      "source": [
        "# Let's drop duplicate entries from 'text' column\n",
        "blogs_df.drop_duplicates(subset='text', inplace=True)"
      ],
      "execution_count": 0,
      "outputs": []
    },
    {
      "cell_type": "code",
      "metadata": {
        "id": "Pl-IzpnE_Erd",
        "colab_type": "code",
        "colab": {
          "base_uri": "https://localhost:8080/",
          "height": 34
        },
        "outputId": "8042088f-67b5-4951-e493-d6058d5b02d4"
      },
      "source": [
        "# Let's check new shape\n",
        "blogs_df.shape"
      ],
      "execution_count": 14,
      "outputs": [
        {
          "output_type": "execute_result",
          "data": {
            "text/plain": [
              "(611652, 7)"
            ]
          },
          "metadata": {
            "tags": []
          },
          "execution_count": 14
        }
      ]
    },
    {
      "cell_type": "code",
      "metadata": {
        "id": "O8mluvjC_Err",
        "colab_type": "code",
        "colab": {
          "base_uri": "https://localhost:8080/",
          "height": 34
        },
        "outputId": "90b74756-17fd-46ed-fe2d-1f5e2d80ddf0"
      },
      "source": [
        "# Insight\n",
        "print(\"We can see that many duplicate entries have been removed now\")"
      ],
      "execution_count": 15,
      "outputs": [
        {
          "output_type": "stream",
          "text": [
            "We can see that many duplicate entries have been removed now\n"
          ],
          "name": "stdout"
        }
      ]
    },
    {
      "cell_type": "code",
      "metadata": {
        "id": "cppxc1F8_Er1",
        "colab_type": "code",
        "colab": {}
      },
      "source": [
        "# Length of Strings in text Column \n",
        "text_length = blogs_df.text.str.len()"
      ],
      "execution_count": 0,
      "outputs": []
    },
    {
      "cell_type": "code",
      "metadata": {
        "id": "AiEnx8SH_Er-",
        "colab_type": "code",
        "colab": {
          "base_uri": "https://localhost:8080/",
          "height": 170
        },
        "outputId": "b46b9b43-43b4-494b-c854-55f994270ffa"
      },
      "source": [
        "text_length.describe()"
      ],
      "execution_count": 17,
      "outputs": [
        {
          "output_type": "execute_result",
          "data": {
            "text/plain": [
              "count    611652.000000\n",
              "mean       1163.233872\n",
              "std        2419.298950\n",
              "min           4.000000\n",
              "25%         250.000000\n",
              "50%         676.000000\n",
              "75%        1459.000000\n",
              "max      790123.000000\n",
              "Name: text, dtype: float64"
            ]
          },
          "metadata": {
            "tags": []
          },
          "execution_count": 17
        }
      ]
    },
    {
      "cell_type": "code",
      "metadata": {
        "id": "JeZ4ciUE_EsE",
        "colab_type": "code",
        "colab": {
          "base_uri": "https://localhost:8080/",
          "height": 282
        },
        "outputId": "d3f08a3d-2739-4260-d029-92fd31c3bddd"
      },
      "source": [
        "# Let's draw a plot on same to check the distribution of 'text' column\n",
        "text_length.plot()"
      ],
      "execution_count": 18,
      "outputs": [
        {
          "output_type": "execute_result",
          "data": {
            "text/plain": [
              "<matplotlib.axes._subplots.AxesSubplot at 0x7fcad7071ac8>"
            ]
          },
          "metadata": {
            "tags": []
          },
          "execution_count": 18
        },
        {
          "output_type": "display_data",
          "data": {
            "image/png": "[encoded data removed]",
            "text/plain": [
              "<Figure size 432x288 with 1 Axes>"
            ]
          },
          "metadata": {
            "tags": [],
            "needs_background": "light"
          }
        }
      ]
    },
    {
      "cell_type": "code",
      "metadata": {
        "id": "TG5WMvNi_EsL",
        "colab_type": "code",
        "colab": {
          "base_uri": "https://localhost:8080/",
          "height": 51
        },
        "outputId": "0137ab15-d218-4cb6-b4bc-387930084729"
      },
      "source": [
        "# Insights\n",
        "print(\"1. We can see that there are some strings which is of very small length and some are very high\")\n",
        "print(\"2. There is possibility of Outliers in terms of srting length\")"
      ],
      "execution_count": 19,
      "outputs": [
        {
          "output_type": "stream",
          "text": [
            "1. We can see that there are some strings which is of very small length and some are very high\n",
            "2. There is possibility of Outliers in terms of srting length\n"
          ],
          "name": "stdout"
        }
      ]
    },
    {
      "cell_type": "code",
      "metadata": {
        "id": "bpgeF75Z_EsS",
        "colab_type": "code",
        "colab": {}
      },
      "source": [
        "# Let's handle very large and very small length strings in 'text' column\n",
        "blogs_df_temp = blogs_df.loc[(text_length > 10) & (text_length < 15000)]"
      ],
      "execution_count": 0,
      "outputs": []
    },
    {
      "cell_type": "code",
      "metadata": {
        "id": "TF7T-4fn_EsW",
        "colab_type": "code",
        "colab": {
          "base_uri": "https://localhost:8080/",
          "height": 34
        },
        "outputId": "27f3b486-d519-4544-aa85-605a5884f4f6"
      },
      "source": [
        "# Print shape of new dataset\n",
        "blogs_df_temp.shape"
      ],
      "execution_count": 21,
      "outputs": [
        {
          "output_type": "execute_result",
          "data": {
            "text/plain": [
              "(610698, 7)"
            ]
          },
          "metadata": {
            "tags": []
          },
          "execution_count": 21
        }
      ]
    },
    {
      "cell_type": "code",
      "metadata": {
        "id": "HBg1pyAK_Esh",
        "colab_type": "code",
        "colab": {
          "base_uri": "https://localhost:8080/",
          "height": 282
        },
        "outputId": "d678f8e4-d8ba-47c5-9284-4bf1f402b0d9"
      },
      "source": [
        "# Check the distribution of 'text' column in new dataset\n",
        "blogs_df_temp.text.str.len().plot()"
      ],
      "execution_count": 22,
      "outputs": [
        {
          "output_type": "execute_result",
          "data": {
            "text/plain": [
              "<matplotlib.axes._subplots.AxesSubplot at 0x7fcad7d95be0>"
            ]
          },
          "metadata": {
            "tags": []
          },
          "execution_count": 22
        },
        {
          "output_type": "display_data",
          "data": {
            "image/png": "[encoded data removed]",
            "text/plain": [
              "<Figure size 432x288 with 1 Axes>"
            ]
          },
          "metadata": {
            "tags": [],
            "needs_background": "light"
          }
        }
      ]
    },
    {
      "cell_type": "code",
      "metadata": {
        "id": "d6fWD4Zq_Esn",
        "colab_type": "code",
        "colab": {
          "base_uri": "https://localhost:8080/",
          "height": 34
        },
        "outputId": "c1806906-cf6b-4d9b-efa2-b16508a4f024"
      },
      "source": [
        "# Let's filter out bloggers who are very frequent (more than 50 for say) to remove bias from dataset\n",
        "id_count = blogs_df_temp.groupby(\"id\")[\"id\"].transform(\"count\")\n",
        "blogs_df_temp = blogs_df_temp.loc[id_count < 10]\n",
        "blogs_df_temp.shape"
      ],
      "execution_count": 24,
      "outputs": [
        {
          "output_type": "execute_result",
          "data": {
            "text/plain": [
              "(42739, 7)"
            ]
          },
          "metadata": {
            "tags": []
          },
          "execution_count": 24
        }
      ]
    },
    {
      "cell_type": "code",
      "metadata": {
        "id": "IYikNuQh_Esu",
        "colab_type": "code",
        "colab": {
          "base_uri": "https://localhost:8080/",
          "height": 282
        },
        "outputId": "96f2f129-8f1d-4691-de02-256248c9087a"
      },
      "source": [
        "# Check the distribution of 'text' column in new dataset\n",
        "blogs_df_temp.text.str.len().plot()"
      ],
      "execution_count": 25,
      "outputs": [
        {
          "output_type": "execute_result",
          "data": {
            "text/plain": [
              "<matplotlib.axes._subplots.AxesSubplot at 0x7fcad790f550>"
            ]
          },
          "metadata": {
            "tags": []
          },
          "execution_count": 25
        },
        {
          "output_type": "display_data",
          "data": {
            "image/png": "[encoded data removed]",
            "text/plain": [
              "<Figure size 432x288 with 1 Axes>"
            ]
          },
          "metadata": {
            "tags": [],
            "needs_background": "light"
          }
        }
      ]
    },
    {
      "cell_type": "code",
      "metadata": {
        "id": "RfASj8ZY_Es0",
        "colab_type": "code",
        "colab": {}
      },
      "source": [
        "# Let's drop 'id' and 'date' columns as they will not add any value to our model\n",
        "blogs_df_temp.drop(['id', 'date'], axis=1, inplace=True)"
      ],
      "execution_count": 0,
      "outputs": []
    },
    {
      "cell_type": "code",
      "metadata": {
        "id": "HKs1pbQh_Es6",
        "colab_type": "code",
        "colab": {
          "base_uri": "https://localhost:8080/",
          "height": 204
        },
        "outputId": "864538b5-0a53-4d84-bb85-b2ee842a7112"
      },
      "source": [
        "blogs_df_temp.head()"
      ],
      "execution_count": 27,
      "outputs": [
        {
          "output_type": "execute_result",
          "data": {
            "text/html": [
              "<div>\n",
              "<style scoped>\n",
              "    .dataframe tbody tr th:only-of-type {\n",
              "        vertical-align: middle;\n",
              "    }\n",
              "\n",
              "    .dataframe tbody tr th {\n",
              "        vertical-align: top;\n",
              "    }\n",
              "\n",
              "    .dataframe thead th {\n",
              "        text-align: right;\n",
              "    }\n",
              "</style>\n",
              "<table border=\"1\" class=\"dataframe\">\n",
              "  <thead>\n",
              "    <tr style=\"text-align: right;\">\n",
              "      <th></th>\n",
              "      <th>gender</th>\n",
              "      <th>age</th>\n",
              "      <th>topic</th>\n",
              "      <th>sign</th>\n",
              "      <th>text</th>\n",
              "    </tr>\n",
              "  </thead>\n",
              "  <tbody>\n",
              "    <tr>\n",
              "      <th>0</th>\n",
              "      <td>male</td>\n",
              "      <td>15</td>\n",
              "      <td>Student</td>\n",
              "      <td>Leo</td>\n",
              "      <td>Info has been found (+/- 100 pages,...</td>\n",
              "    </tr>\n",
              "    <tr>\n",
              "      <th>1</th>\n",
              "      <td>male</td>\n",
              "      <td>15</td>\n",
              "      <td>Student</td>\n",
              "      <td>Leo</td>\n",
              "      <td>These are the team members:   Drewe...</td>\n",
              "    </tr>\n",
              "    <tr>\n",
              "      <th>3</th>\n",
              "      <td>male</td>\n",
              "      <td>15</td>\n",
              "      <td>Student</td>\n",
              "      <td>Leo</td>\n",
              "      <td>testing!!!  testing!!!</td>\n",
              "    </tr>\n",
              "    <tr>\n",
              "      <th>95</th>\n",
              "      <td>female</td>\n",
              "      <td>25</td>\n",
              "      <td>indUnk</td>\n",
              "      <td>Capricorn</td>\n",
              "      <td>urlLink     im new to this, ...</td>\n",
              "    </tr>\n",
              "    <tr>\n",
              "      <th>96</th>\n",
              "      <td>female</td>\n",
              "      <td>25</td>\n",
              "      <td>indUnk</td>\n",
              "      <td>Capricorn</td>\n",
              "      <td>Election time has rolled aro...</td>\n",
              "    </tr>\n",
              "  </tbody>\n",
              "</table>\n",
              "</div>"
            ],
            "text/plain": [
              "    gender  age  ...       sign                                               text\n",
              "0     male   15  ...        Leo             Info has been found (+/- 100 pages,...\n",
              "1     male   15  ...        Leo             These are the team members:   Drewe...\n",
              "3     male   15  ...        Leo                   testing!!!  testing!!!          \n",
              "95  female   25  ...  Capricorn                    urlLink     im new to this, ...\n",
              "96  female   25  ...  Capricorn                    Election time has rolled aro...\n",
              "\n",
              "[5 rows x 5 columns]"
            ]
          },
          "metadata": {
            "tags": []
          },
          "execution_count": 27
        }
      ]
    },
    {
      "cell_type": "markdown",
      "metadata": {
        "id": "emME6CNK_EtD",
        "colab_type": "text"
      },
      "source": [
        "### Pre-Process the 'text' column"
      ]
    },
    {
      "cell_type": "code",
      "metadata": {
        "id": "gbf93EVF_EtE",
        "colab_type": "code",
        "colab": {}
      },
      "source": [
        "# Remove unwanted characters and keep only aphanumeric characters only along with spaces\n",
        "import re\n",
        "\n",
        "blogs_df_temp['text'] = blogs_df_temp['text'].apply(lambda x: re.sub('[^0-9a-zA-Z\\s]', '', x))"
      ],
      "execution_count": 0,
      "outputs": []
    },
    {
      "cell_type": "code",
      "metadata": {
        "id": "oQqLucnL_EtM",
        "colab_type": "code",
        "colab": {}
      },
      "source": [
        "# Convert text to lowercase\n",
        "blogs_df_temp['text'] = blogs_df_temp['text'].apply(lambda x: x.lower())"
      ],
      "execution_count": 0,
      "outputs": []
    },
    {
      "cell_type": "code",
      "metadata": {
        "id": "wTF1GqIN_EtQ",
        "colab_type": "code",
        "colab": {}
      },
      "source": [
        "# Strip all the text in the dataset to remove any extra spaces\n",
        "blogs_df_temp['text'] = blogs_df_temp['text'].apply(lambda x: x.strip())"
      ],
      "execution_count": 0,
      "outputs": []
    },
    {
      "cell_type": "code",
      "metadata": {
        "id": "-cG_suuY_EtY",
        "colab_type": "code",
        "colab": {
          "base_uri": "https://localhost:8080/",
          "height": 85
        },
        "outputId": "02f3208d-42e9-4817-f41e-436660818a00"
      },
      "source": [
        "# import nltk library to deal with stopwords\n",
        "import nltk\n",
        "nltk.download('stopwords')\n",
        "from nltk.corpus import stopwords\n",
        "nltk.download('punkt')\n",
        "from nltk.tokenize import word_tokenize"
      ],
      "execution_count": 31,
      "outputs": [
        {
          "output_type": "stream",
          "text": [
            "[nltk_data] Downloading package stopwords to /root/nltk_data...\n",
            "[nltk_data]   Unzipping corpora/stopwords.zip.\n",
            "[nltk_data] Downloading package punkt to /root/nltk_data...\n",
            "[nltk_data]   Unzipping tokenizers/punkt.zip.\n"
          ],
          "name": "stdout"
        }
      ]
    },
    {
      "cell_type": "code",
      "metadata": {
        "id": "UDM4Cm9d_Etg",
        "colab_type": "code",
        "colab": {}
      },
      "source": [
        "# Method to remove Stop-words from a dataframe\n",
        "def remove_stopwords(blog_df):\n",
        "    stop_words = stopwords.words('english')\n",
        "    clean_words = []\n",
        "    for text in blog_df:\n",
        "        text_tokens = word_tokenize(text)\n",
        "        tokens_without_sw = [word for word in text_tokens if not word in stop_words]\n",
        "        clean_words.append(' '.join(tokens_without_sw))\n",
        "    return clean_words"
      ],
      "execution_count": 0,
      "outputs": []
    },
    {
      "cell_type": "code",
      "metadata": {
        "id": "YIwVrTIh_Etl",
        "colab_type": "code",
        "colab": {}
      },
      "source": [
        "blogs_df_temp['text'] = remove_stopwords(blogs_df_temp.text)"
      ],
      "execution_count": 0,
      "outputs": []
    },
    {
      "cell_type": "code",
      "metadata": {
        "id": "nf5drjNl_Etq",
        "colab_type": "code",
        "colab": {}
      },
      "source": [
        "# Creating Bag of Words For 'text' column\n",
        "#blogs_df_temp['bag_of_words'] = ''\n",
        "#words = ''\n",
        "#for index, row in blogs_df_temp.iterrows():\n",
        " #   words = words + ' '.join(row['text'])\n",
        "  #  row['bag_of_words'] = words"
      ],
      "execution_count": 0,
      "outputs": []
    },
    {
      "cell_type": "code",
      "metadata": {
        "id": "2dvxUygp_Ety",
        "colab_type": "code",
        "colab": {
          "base_uri": "https://localhost:8080/",
          "height": 204
        },
        "outputId": "83976751-002e-4766-e7d6-0c769aa6bc5e"
      },
      "source": [
        "blogs_df_temp.head(5)"
      ],
      "execution_count": 35,
      "outputs": [
        {
          "output_type": "execute_result",
          "data": {
            "text/html": [
              "<div>\n",
              "<style scoped>\n",
              "    .dataframe tbody tr th:only-of-type {\n",
              "        vertical-align: middle;\n",
              "    }\n",
              "\n",
              "    .dataframe tbody tr th {\n",
              "        vertical-align: top;\n",
              "    }\n",
              "\n",
              "    .dataframe thead th {\n",
              "        text-align: right;\n",
              "    }\n",
              "</style>\n",
              "<table border=\"1\" class=\"dataframe\">\n",
              "  <thead>\n",
              "    <tr style=\"text-align: right;\">\n",
              "      <th></th>\n",
              "      <th>gender</th>\n",
              "      <th>age</th>\n",
              "      <th>topic</th>\n",
              "      <th>sign</th>\n",
              "      <th>text</th>\n",
              "    </tr>\n",
              "  </thead>\n",
              "  <tbody>\n",
              "    <tr>\n",
              "      <th>0</th>\n",
              "      <td>male</td>\n",
              "      <td>15</td>\n",
              "      <td>Student</td>\n",
              "      <td>Leo</td>\n",
              "      <td>info found 100 pages 45 mb pdf files wait unti...</td>\n",
              "    </tr>\n",
              "    <tr>\n",
              "      <th>1</th>\n",
              "      <td>male</td>\n",
              "      <td>15</td>\n",
              "      <td>Student</td>\n",
              "      <td>Leo</td>\n",
              "      <td>team members drewes van der laag urllink mail ...</td>\n",
              "    </tr>\n",
              "    <tr>\n",
              "      <th>3</th>\n",
              "      <td>male</td>\n",
              "      <td>15</td>\n",
              "      <td>Student</td>\n",
              "      <td>Leo</td>\n",
              "      <td>testing testing</td>\n",
              "    </tr>\n",
              "    <tr>\n",
              "      <th>95</th>\n",
              "      <td>female</td>\n",
              "      <td>25</td>\n",
              "      <td>indUnk</td>\n",
              "      <td>Capricorn</td>\n",
              "      <td>urllink im new tell god create links column</td>\n",
              "    </tr>\n",
              "    <tr>\n",
              "      <th>96</th>\n",
              "      <td>female</td>\n",
              "      <td>25</td>\n",
              "      <td>indUnk</td>\n",
              "      <td>Capricorn</td>\n",
              "      <td>election time rolled around everyone spitting ...</td>\n",
              "    </tr>\n",
              "  </tbody>\n",
              "</table>\n",
              "</div>"
            ],
            "text/plain": [
              "    gender  age  ...       sign                                               text\n",
              "0     male   15  ...        Leo  info found 100 pages 45 mb pdf files wait unti...\n",
              "1     male   15  ...        Leo  team members drewes van der laag urllink mail ...\n",
              "3     male   15  ...        Leo                                    testing testing\n",
              "95  female   25  ...  Capricorn        urllink im new tell god create links column\n",
              "96  female   25  ...  Capricorn  election time rolled around everyone spitting ...\n",
              "\n",
              "[5 rows x 5 columns]"
            ]
          },
          "metadata": {
            "tags": []
          },
          "execution_count": 35
        }
      ]
    },
    {
      "cell_type": "code",
      "metadata": {
        "id": "oHSlmGbZ_Et5",
        "colab_type": "code",
        "colab": {
          "base_uri": "https://localhost:8080/",
          "height": 204
        },
        "outputId": "9574551a-ce7a-4518-c7cf-7c295a2dc869"
      },
      "source": [
        "# As we want to make this into a multi-label classification problem, \n",
        "# Let's merge all the label columns together, so that we have all the labels together for a particular sentence\n",
        "# Label columns to merge: “gender”, “age”, “topic”, “sign”\n",
        "blog_df_final = blogs_df_temp[['text']]\n",
        "blog_df_final['lable'] = blogs_df_temp.gender + ',' + blogs_df_temp.age.astype(str) + ',' + blogs_df_temp.topic + ',' + blogs_df_temp.sign\n",
        "blog_df_final.head()"
      ],
      "execution_count": 36,
      "outputs": [
        {
          "output_type": "execute_result",
          "data": {
            "text/html": [
              "<div>\n",
              "<style scoped>\n",
              "    .dataframe tbody tr th:only-of-type {\n",
              "        vertical-align: middle;\n",
              "    }\n",
              "\n",
              "    .dataframe tbody tr th {\n",
              "        vertical-align: top;\n",
              "    }\n",
              "\n",
              "    .dataframe thead th {\n",
              "        text-align: right;\n",
              "    }\n",
              "</style>\n",
              "<table border=\"1\" class=\"dataframe\">\n",
              "  <thead>\n",
              "    <tr style=\"text-align: right;\">\n",
              "      <th></th>\n",
              "      <th>text</th>\n",
              "      <th>lable</th>\n",
              "    </tr>\n",
              "  </thead>\n",
              "  <tbody>\n",
              "    <tr>\n",
              "      <th>0</th>\n",
              "      <td>info found 100 pages 45 mb pdf files wait unti...</td>\n",
              "      <td>male,15,Student,Leo</td>\n",
              "    </tr>\n",
              "    <tr>\n",
              "      <th>1</th>\n",
              "      <td>team members drewes van der laag urllink mail ...</td>\n",
              "      <td>male,15,Student,Leo</td>\n",
              "    </tr>\n",
              "    <tr>\n",
              "      <th>3</th>\n",
              "      <td>testing testing</td>\n",
              "      <td>male,15,Student,Leo</td>\n",
              "    </tr>\n",
              "    <tr>\n",
              "      <th>95</th>\n",
              "      <td>urllink im new tell god create links column</td>\n",
              "      <td>female,25,indUnk,Capricorn</td>\n",
              "    </tr>\n",
              "    <tr>\n",
              "      <th>96</th>\n",
              "      <td>election time rolled around everyone spitting ...</td>\n",
              "      <td>female,25,indUnk,Capricorn</td>\n",
              "    </tr>\n",
              "  </tbody>\n",
              "</table>\n",
              "</div>"
            ],
            "text/plain": [
              "                                                 text                       lable\n",
              "0   info found 100 pages 45 mb pdf files wait unti...         male,15,Student,Leo\n",
              "1   team members drewes van der laag urllink mail ...         male,15,Student,Leo\n",
              "3                                     testing testing         male,15,Student,Leo\n",
              "95        urllink im new tell god create links column  female,25,indUnk,Capricorn\n",
              "96  election time rolled around everyone spitting ...  female,25,indUnk,Capricorn"
            ]
          },
          "metadata": {
            "tags": []
          },
          "execution_count": 36
        }
      ]
    },
    {
      "cell_type": "markdown",
      "metadata": {
        "id": "g41LfrW6_EuG",
        "colab_type": "text"
      },
      "source": [
        "### Separate features and labels, and split the data into training and testing"
      ]
    },
    {
      "cell_type": "code",
      "metadata": {
        "id": "Fj6l_DDG_EuH",
        "colab_type": "code",
        "colab": {}
      },
      "source": [
        "feature = blog_df_final['text']\n",
        "label = blog_df_final['lable']\n",
        "\n",
        "X_train, X_test, y_train, y_test = train_test_split(feature, label, test_size=0.25, random_state=7)"
      ],
      "execution_count": 0,
      "outputs": []
    },
    {
      "cell_type": "code",
      "metadata": {
        "id": "uJp3gdNO_EuO",
        "colab_type": "code",
        "colab": {
          "base_uri": "https://localhost:8080/",
          "height": 85
        },
        "outputId": "c7141701-eb45-4834-e783-076ebda45bf6"
      },
      "source": [
        "print(X_train.shape)\n",
        "print(X_test.shape)\n",
        "print(y_train.shape)\n",
        "print(y_test.shape)"
      ],
      "execution_count": 38,
      "outputs": [
        {
          "output_type": "stream",
          "text": [
            "(32054,)\n",
            "(10685,)\n",
            "(32054,)\n",
            "(10685,)\n"
          ],
          "name": "stdout"
        }
      ]
    },
    {
      "cell_type": "markdown",
      "metadata": {
        "id": "WDvMKucr_EuT",
        "colab_type": "text"
      },
      "source": [
        "### Vectorize the features"
      ]
    },
    {
      "cell_type": "code",
      "metadata": {
        "id": "Y6Yq965S_EuU",
        "colab_type": "code",
        "colab": {}
      },
      "source": [
        "# Vectorization using Count Vectorizer\n",
        "vectorizer = CountVectorizer(ngram_range=(1,2))\n",
        "\n",
        "X_train_dtm = vectorizer.fit_transform(X_train)\n",
        "\n",
        "X_test_dtm = vectorizer.transform(X_test)"
      ],
      "execution_count": 0,
      "outputs": []
    },
    {
      "cell_type": "code",
      "metadata": {
        "id": "bUxc82vS_Eub",
        "colab_type": "code",
        "colab": {
          "base_uri": "https://localhost:8080/",
          "height": 51
        },
        "outputId": "df9f73eb-71b3-473a-bd02-f2dcd93edb8f"
      },
      "source": [
        "# Check the shape of DTM\n",
        "print(X_train_dtm.shape)\n",
        "print(X_test_dtm.shape)"
      ],
      "execution_count": 40,
      "outputs": [
        {
          "output_type": "stream",
          "text": [
            "(32054, 2792999)\n",
            "(10685, 2792999)\n"
          ],
          "name": "stdout"
        }
      ]
    },
    {
      "cell_type": "code",
      "metadata": {
        "id": "beoYBxh9_Euj",
        "colab_type": "code",
        "colab": {
          "base_uri": "https://localhost:8080/",
          "height": 1000
        },
        "outputId": "24a73486-1b42-47d3-db21-0ed76db69713"
      },
      "source": [
        "# Create a dictionary to get the count of every label\n",
        "column_list = ['gender', 'age', 'topic', 'sign']\n",
        "dictionary = dict()\n",
        "for column in column_list:\n",
        "    dictionary.update(dict(blogs_df_temp[column].value_counts()))\n",
        "dictionary"
      ],
      "execution_count": 41,
      "outputs": [
        {
          "output_type": "execute_result",
          "data": {
            "text/plain": [
              "{13: 1988,\n",
              " 14: 3278,\n",
              " 15: 3989,\n",
              " 16: 4774,\n",
              " 17: 5440,\n",
              " 23: 4082,\n",
              " 24: 4163,\n",
              " 25: 3333,\n",
              " 26: 2631,\n",
              " 27: 2661,\n",
              " 33: 918,\n",
              " 34: 845,\n",
              " 35: 736,\n",
              " 36: 519,\n",
              " 37: 512,\n",
              " 38: 385,\n",
              " 39: 288,\n",
              " 40: 328,\n",
              " 41: 346,\n",
              " 42: 342,\n",
              " 43: 225,\n",
              " 44: 284,\n",
              " 45: 212,\n",
              " 46: 151,\n",
              " 47: 143,\n",
              " 48: 166,\n",
              " 'Accounting': 222,\n",
              " 'Advertising': 300,\n",
              " 'Agriculture': 58,\n",
              " 'Aquarius': 3254,\n",
              " 'Architecture': 133,\n",
              " 'Aries': 3333,\n",
              " 'Arts': 1467,\n",
              " 'Automotive': 146,\n",
              " 'Banking': 232,\n",
              " 'Biotech': 109,\n",
              " 'BusinessServices': 353,\n",
              " 'Cancer': 3761,\n",
              " 'Capricorn': 3256,\n",
              " 'Chemicals': 129,\n",
              " 'Communications-Media': 859,\n",
              " 'Construction': 104,\n",
              " 'Consulting': 477,\n",
              " 'Education': 2081,\n",
              " 'Engineering': 567,\n",
              " 'Environment': 65,\n",
              " 'Fashion': 303,\n",
              " 'Gemini': 3478,\n",
              " 'Government': 541,\n",
              " 'HumanResources': 225,\n",
              " 'Internet': 770,\n",
              " 'InvestmentBanking': 80,\n",
              " 'Law': 404,\n",
              " 'LawEnforcement-Security': 92,\n",
              " 'Leo': 3493,\n",
              " 'Libra': 3736,\n",
              " 'Manufacturing': 183,\n",
              " 'Maritime': 34,\n",
              " 'Marketing': 421,\n",
              " 'Military': 255,\n",
              " 'Museums-Libraries': 118,\n",
              " 'Non-Profit': 855,\n",
              " 'Pisces': 3858,\n",
              " 'Publishing': 318,\n",
              " 'RealEstate': 125,\n",
              " 'Religion': 283,\n",
              " 'Sagittarius': 3361,\n",
              " 'Science': 372,\n",
              " 'Scorpio': 3648,\n",
              " 'Sports-Recreation': 212,\n",
              " 'Student': 11809,\n",
              " 'Taurus': 3583,\n",
              " 'Technology': 2005,\n",
              " 'Telecommunications': 276,\n",
              " 'Tourism': 250,\n",
              " 'Transportation': 180,\n",
              " 'Virgo': 3978,\n",
              " 'female': 21711,\n",
              " 'indUnk': 15326,\n",
              " 'male': 21028}"
            ]
          },
          "metadata": {
            "tags": []
          },
          "execution_count": 41
        }
      ]
    },
    {
      "cell_type": "code",
      "metadata": {
        "id": "1Fabtn8k_Eus",
        "colab_type": "code",
        "colab": {}
      },
      "source": [
        "# Transform the labels\n",
        "labelTransformer = MultiLabelBinarizer()\n",
        "y_train_lab = labelTransformer.fit_transform(y_train)\n",
        "y_test_lab = labelTransformer.transform(y_test)"
      ],
      "execution_count": 0,
      "outputs": []
    },
    {
      "cell_type": "code",
      "metadata": {
        "id": "JkDC831Q_Euz",
        "colab_type": "code",
        "colab": {}
      },
      "source": [
        "# Choose a classifier\n",
        "model_log = LogisticRegression(solver='lbfgs', class_weight='balanced')\n",
        "clf = OneVsRestClassifier(model_log)"
      ],
      "execution_count": 0,
      "outputs": []
    },
    {
      "cell_type": "code",
      "metadata": {
        "id": "iPmMaxyl_Eu4",
        "colab_type": "code",
        "colab": {
          "base_uri": "https://localhost:8080/",
          "height": 187
        },
        "outputId": "866b5c8d-17ed-4a7f-9791-67017168f73a"
      },
      "source": [
        "# Training Model\n",
        "clf.fit(X_train_dtm[0:2000], y_train_lab[0:2000])"
      ],
      "execution_count": 52,
      "outputs": [
        {
          "output_type": "execute_result",
          "data": {
            "text/plain": [
              "OneVsRestClassifier(estimator=LogisticRegression(C=1.0, class_weight='balanced',\n",
              "                                                 dual=False, fit_intercept=True,\n",
              "                                                 intercept_scaling=1,\n",
              "                                                 l1_ratio=None, max_iter=100,\n",
              "                                                 multi_class='auto',\n",
              "                                                 n_jobs=None, penalty='l2',\n",
              "                                                 random_state=None,\n",
              "                                                 solver='lbfgs', tol=0.0001,\n",
              "                                                 verbose=0, warm_start=False),\n",
              "                    n_jobs=None)"
            ]
          },
          "metadata": {
            "tags": []
          },
          "execution_count": 52
        }
      ]
    },
    {
      "cell_type": "code",
      "metadata": {
        "id": "pL4f6QR8_Eu_",
        "colab_type": "code",
        "colab": {
          "base_uri": "https://localhost:8080/",
          "height": 1000
        },
        "outputId": "83ee769d-4d9a-4e3c-e466-504739119e4a"
      },
      "source": [
        "# Precited Label\n",
        "y_pred = clf.predict(X_test_dtm[0:2000])\n",
        "\n",
        "# Print Accuracy score and Classification report\n",
        "print(\"Train Accuracy: {0}\".format(accuracy_score(y_train_lab[0:2000],y_pred)))\n",
        "print(\"Test Accuracy: {0}\".format(accuracy_score(y_test_lab[0:2000],y_pred)))\n",
        "print(classification_report(y_test_lab[0:2000],y_pred))"
      ],
      "execution_count": 53,
      "outputs": [
        {
          "output_type": "stream",
          "text": [
            "Train Accuracy: 0.0\n",
            "Test Accuracy: 0.0005\n",
            "              precision    recall  f1-score   support\n",
            "\n",
            "           0       1.00      1.00      1.00      2000\n",
            "           1       0.00      0.00      0.00        93\n",
            "           2       0.00      0.00      0.00        14\n",
            "           3       0.75      0.58      0.66       905\n",
            "           4       0.56      0.37      0.44       821\n",
            "           5       0.20      0.06      0.09       468\n",
            "           6       0.30      0.07      0.12       486\n",
            "           7       0.25      0.05      0.08       399\n",
            "           8       0.22      0.05      0.08       387\n",
            "           9       0.27      0.08      0.12       419\n",
            "          10       0.00      0.00      0.00        26\n",
            "          11       0.00      0.00      0.00        11\n",
            "          12       0.18      0.03      0.05       405\n",
            "          13       0.00      0.00      0.00        32\n",
            "          14       0.26      0.06      0.09       369\n",
            "          15       0.00      0.00      0.00       124\n",
            "          16       0.00      0.00      0.00        16\n",
            "          17       0.33      0.02      0.04       216\n",
            "          18       0.00      0.00      0.00        11\n",
            "          19       0.00      0.00      0.00        43\n",
            "          20       0.14      0.03      0.06       350\n",
            "          21       0.00      0.00      0.00        76\n",
            "          22       0.00      0.00      0.00        41\n",
            "          23       0.07      0.00      0.01       224\n",
            "          24       0.00      0.00      0.00        37\n",
            "          25       0.48      0.28      0.36       854\n",
            "          26       0.24      0.03      0.06       274\n",
            "          27       0.37      0.15      0.21       744\n",
            "          28       0.12      0.01      0.02       179\n",
            "          29       1.00      1.00      1.00      2000\n",
            "          30       0.13      0.02      0.03       194\n",
            "          31       0.47      0.28      0.35       864\n",
            "          32       0.76      0.74      0.75      1441\n",
            "          33       1.00      1.00      1.00      2000\n",
            "          34       0.65      0.48      0.56      1078\n",
            "          35       0.36      0.16      0.22       534\n",
            "          36       0.20      0.02      0.03       121\n",
            "          37       0.90      0.98      0.94      1808\n",
            "          38       0.40      0.17      0.23       775\n",
            "          39       1.00      1.00      1.00      2000\n",
            "          40       1.00      1.00      1.00      2000\n",
            "          41       0.95      0.99      0.97      1894\n",
            "          42       0.49      0.32      0.39       928\n",
            "          43       0.06      0.01      0.01       333\n",
            "          44       0.13      0.01      0.02       170\n",
            "          45       0.78      0.88      0.83      1566\n",
            "          46       0.51      0.32      0.39       967\n",
            "          47       0.55      0.42      0.48      1091\n",
            "          48       0.58      0.45      0.51      1113\n",
            "          49       0.00      0.00      0.00        73\n",
            "          50       0.00      0.00      0.00        21\n",
            "          51       0.00      0.00      0.00        95\n",
            "\n",
            "   micro avg       0.80      0.61      0.69     33090\n",
            "   macro avg       0.34      0.25      0.27     33090\n",
            "weighted avg       0.68      0.61      0.63     33090\n",
            " samples avg       0.82      0.61      0.69     33090\n",
            "\n"
          ],
          "name": "stdout"
        }
      ]
    },
    {
      "cell_type": "code",
      "metadata": {
        "id": "ho7PnmEp_EvH",
        "colab_type": "code",
        "colab": {
          "base_uri": "https://localhost:8080/",
          "height": 357
        },
        "outputId": "0a1050a9-1d69-4f7e-cd3c-30bd81cb442d"
      },
      "source": [
        "# Print true label and predicted label \n",
        "indeces = [20, 40, 80, 120, 160]\n",
        "for index in indeces:\n",
        "    y_pred = clf.predict(X_test_dtm[index])\n",
        "    print(\"True Level: {0}\".format(y_test_lab[index]))\n",
        "    print(\"Predicted Level: {0}\".format(y_pred))"
      ],
      "execution_count": 54,
      "outputs": [
        {
          "output_type": "stream",
          "text": [
            "True Level: [1 0 0 1 0 0 0 1 0 0 0 0 0 0 1 0 0 0 0 0 0 0 0 0 0 0 1 0 0 1 0 1 0 1 0 1 1\n",
            " 1 0 1 1 1 1 1 0 1 0 0 0 0 0 1]\n",
            "Predicted Level: [[1 0 0 1 0 0 0 0 0 0 0 0 0 0 0 0 0 0 0 0 0 0 0 0 0 0 0 0 0 1 0 0 1 1 1 0\n",
            "  0 1 0 1 1 1 0 0 0 1 1 1 1 0 0 0]]\n",
            "True Level: [1 0 0 0 1 0 1 0 0 0 0 0 0 0 0 0 0 0 0 0 0 0 0 0 0 0 0 1 1 1 0 0 1 1 0 1 0\n",
            " 1 1 1 1 1 1 0 0 1 0 0 0 0 0 0]\n",
            "Predicted Level: [[1 0 0 1 0 0 0 0 0 0 0 0 0 0 0 0 0 0 0 0 0 0 0 0 0 0 0 0 0 1 0 0 0 1 0 0\n",
            "  0 1 0 1 1 1 0 0 0 1 0 1 1 0 0 0]]\n",
            "True Level: [1 0 0 0 1 0 0 1 0 0 0 0 1 0 0 0 0 0 0 0 0 0 0 0 0 0 0 0 0 1 0 0 0 1 1 0 0\n",
            " 1 0 1 1 0 0 0 1 1 1 1 1 0 0 0]\n",
            "Predicted Level: [[1 0 0 1 1 0 0 1 1 1 0 0 1 0 1 0 1 1 0 0 1 0 0 0 0 0 0 1 0 1 1 0 1 1 1 0\n",
            "  0 1 1 1 1 0 0 0 1 1 1 1 1 0 0 0]]\n",
            "True Level: [1 0 0 0 0 0 1 0 0 1 0 0 1 0 0 0 0 0 0 0 0 0 0 0 0 1 0 0 0 1 0 0 0 1 1 1 0\n",
            " 1 0 1 1 0 0 0 0 1 1 1 1 0 0 0]\n",
            "Predicted Level: [[1 0 0 0 0 0 0 0 0 0 0 0 0 0 0 0 0 0 0 0 0 0 0 0 0 0 0 0 0 1 0 0 0 1 1 0\n",
            "  0 1 0 1 1 1 0 0 0 1 0 0 0 0 0 0]]\n",
            "True Level: [1 1 0 0 1 1 0 0 0 0 0 0 0 0 1 0 0 0 0 0 0 1 0 0 0 0 0 0 0 1 0 1 1 1 0 0 0\n",
            " 1 0 1 1 1 1 0 0 1 1 1 1 0 0 0]\n",
            "Predicted Level: [[1 0 0 1 0 0 0 0 0 0 0 0 0 0 0 0 0 0 0 0 0 0 0 0 0 1 0 0 0 1 0 0 1 1 1 0\n",
            "  0 1 0 1 1 1 0 0 0 1 1 1 1 0 0 0]]\n"
          ],
          "name": "stdout"
        }
      ]
    },
    {
      "cell_type": "code",
      "metadata": {
        "id": "UUfkk8Uj_EvO",
        "colab_type": "code",
        "colab": {
          "base_uri": "https://localhost:8080/",
          "height": 85
        },
        "outputId": "f4c1cd5e-7967-478c-b1b2-3ad7d1938081"
      },
      "source": [
        "# Insights\n",
        "print(\"1. So, it looks like Model couldn't judge the sentiments very accurately.\")\n",
        "print(\"2. This demonstrates one of the biggest challenges in sentiment analysis - understanding human semantics.\")\n",
        "print(\"3. Although, we tried to deal with biasness in the data but seems it is not enough.\")\n",
        "print(\"4. We need to do more data processing before we feed them to the model to get better accuracy\")"
      ],
      "execution_count": 57,
      "outputs": [
        {
          "output_type": "stream",
          "text": [
            "1. So, it looks like Model couldn't judge the sentiments very accurately.\n",
            "2. This demonstrates one of the biggest challenges in sentiment analysis - understanding human semantics.\n",
            "3. Although, we tried to deal with biasness in the data but seems it is not enough.\n",
            "4. We need to do more data processing before we feed them to the model to get better accuracy\n"
          ],
          "name": "stdout"
        }
      ]
    },
    {
      "cell_type": "code",
      "metadata": {
        "id": "qejYepQYdmk5",
        "colab_type": "code",
        "colab": {}
      },
      "source": [
        ""
      ],
      "execution_count": 0,
      "outputs": []
    }
  ]
}