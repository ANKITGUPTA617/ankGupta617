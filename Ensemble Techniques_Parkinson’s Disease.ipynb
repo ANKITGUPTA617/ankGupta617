{
 "cells": [
  {
   "cell_type": "markdown",
   "metadata": {},
   "source": [
    "### Problem Statement\n",
    "\n",
    "Parkinson’s Disease (PD) is a degenerative neurological disorder marked by decreased dopamine levels in the brain. It manifests itself through a deterioration of movement, including the presence of tremors and stiffness. There is commonly a marked effect on speech, including dysarthria (difficulty articulating sounds), hypophonia (lowered volume), and monotone (reduced pitch range). Additionally, cognitive impairments and changes in mood can occur, and risk of dementia is increased.\n",
    "\n",
    "\n",
    "Traditional diagnosis of Parkinson’s Disease involves a clinician taking a neurological history of the patient and observing motor skills in various situations. Since there is no definitive laboratory test to diagnose PD, diagnosis is often difficult, particularly in the early stages when motor effects are not yet severe. Monitoring progression of the disease over time requires repeated clinic visits by the patient. An effective screening process, particularly one that doesn’t require a clinic visit, would be beneficial. Since PD patients exhibit characteristic vocal features, voice recordings are a useful and non-invasive tool for diagnosis. If machine learning algorithms could be applied to a voice recording dataset to accurately diagnosis PD, this would be an effective screening step prior to an appointment with a clinician."
   ]
  },
  {
   "cell_type": "markdown",
   "metadata": {},
   "source": [
    "### Steps to be followed:\n",
    "\n",
    "\n",
    "1. Load the dataset\n",
    "\n",
    "2. It is always a good practice to eye-ball raw data to get a feel of the data in terms of number of structure of the file, number of attributes, types of attributes and a general idea of likely challenges in the dataset. (2.5 points)\n",
    "\n",
    "3. Using univariate & bivariate analysis to check the individual attributes for their basic statistic such as central values, spread, tails etc. What are your observations? (15 points)\n",
    "\n",
    "4. Split the dataset into training and test set in the ratio of 70:30 (Training:Test).\n",
    "\n",
    "5. Create the model using “entropy” method of reducing the entropy and fit it to training data. (5 points)\n",
    "\n",
    "6. Test the model on test data and what is the accuracy achieved. Capture the predicted values and do a crosstab. (7.5 points)\n",
    "\n",
    "7. Use regularization parameters of max_depth, min_sample_leaf to recreate the model. What is the impact on the model accuracy? How does regularization help? (20 points) \n",
    "\n",
    "8. Next implement the decision tree using Random Forest. What is the optimal number of trees that gives the best result? (10 points)"
   ]
  },
  {
   "cell_type": "code",
   "execution_count": 356,
   "metadata": {},
   "outputs": [],
   "source": [
    "import numpy as np\n",
    "import pandas as pd\n",
    "from matplotlib import pyplot as plt\n",
    "import seaborn as sns\n",
    "from sklearn.preprocessing import StandardScaler\n",
    "from sklearn.model_selection import train_test_split\n",
    "from sklearn.tree import DecisionTreeClassifier\n",
    "from sklearn.ensemble import RandomForestClassifier\n",
    "from sklearn.metrics import precision_recall_curve"
   ]
  },
  {
   "cell_type": "code",
   "execution_count": 107,
   "metadata": {},
   "outputs": [],
   "source": [
    "# Load the data set\n",
    "data = pd.read_csv(\"parkinsons.data\")"
   ]
  },
  {
   "cell_type": "code",
   "execution_count": 108,
   "metadata": {},
   "outputs": [
    {
     "data": {
      "text/html": [
       "<div>\n",
       "<style scoped>\n",
       "    .dataframe tbody tr th:only-of-type {\n",
       "        vertical-align: middle;\n",
       "    }\n",
       "\n",
       "    .dataframe tbody tr th {\n",
       "        vertical-align: top;\n",
       "    }\n",
       "\n",
       "    .dataframe thead th {\n",
       "        text-align: right;\n",
       "    }\n",
       "</style>\n",
       "<table border=\"1\" class=\"dataframe\">\n",
       "  <thead>\n",
       "    <tr style=\"text-align: right;\">\n",
       "      <th></th>\n",
       "      <th>name</th>\n",
       "      <th>MDVP:Fo(Hz)</th>\n",
       "      <th>MDVP:Fhi(Hz)</th>\n",
       "      <th>MDVP:Flo(Hz)</th>\n",
       "      <th>MDVP:Jitter(%)</th>\n",
       "      <th>MDVP:Jitter(Abs)</th>\n",
       "      <th>MDVP:RAP</th>\n",
       "      <th>MDVP:PPQ</th>\n",
       "      <th>Jitter:DDP</th>\n",
       "      <th>MDVP:Shimmer</th>\n",
       "      <th>...</th>\n",
       "      <th>Shimmer:DDA</th>\n",
       "      <th>NHR</th>\n",
       "      <th>HNR</th>\n",
       "      <th>status</th>\n",
       "      <th>RPDE</th>\n",
       "      <th>DFA</th>\n",
       "      <th>spread1</th>\n",
       "      <th>spread2</th>\n",
       "      <th>D2</th>\n",
       "      <th>PPE</th>\n",
       "    </tr>\n",
       "  </thead>\n",
       "  <tbody>\n",
       "    <tr>\n",
       "      <td>0</td>\n",
       "      <td>phon_R01_S01_1</td>\n",
       "      <td>119.992</td>\n",
       "      <td>157.302</td>\n",
       "      <td>74.997</td>\n",
       "      <td>0.00784</td>\n",
       "      <td>0.00007</td>\n",
       "      <td>0.00370</td>\n",
       "      <td>0.00554</td>\n",
       "      <td>0.01109</td>\n",
       "      <td>0.04374</td>\n",
       "      <td>...</td>\n",
       "      <td>0.06545</td>\n",
       "      <td>0.02211</td>\n",
       "      <td>21.033</td>\n",
       "      <td>1</td>\n",
       "      <td>0.414783</td>\n",
       "      <td>0.815285</td>\n",
       "      <td>-4.813031</td>\n",
       "      <td>0.266482</td>\n",
       "      <td>2.301442</td>\n",
       "      <td>0.284654</td>\n",
       "    </tr>\n",
       "    <tr>\n",
       "      <td>1</td>\n",
       "      <td>phon_R01_S01_2</td>\n",
       "      <td>122.400</td>\n",
       "      <td>148.650</td>\n",
       "      <td>113.819</td>\n",
       "      <td>0.00968</td>\n",
       "      <td>0.00008</td>\n",
       "      <td>0.00465</td>\n",
       "      <td>0.00696</td>\n",
       "      <td>0.01394</td>\n",
       "      <td>0.06134</td>\n",
       "      <td>...</td>\n",
       "      <td>0.09403</td>\n",
       "      <td>0.01929</td>\n",
       "      <td>19.085</td>\n",
       "      <td>1</td>\n",
       "      <td>0.458359</td>\n",
       "      <td>0.819521</td>\n",
       "      <td>-4.075192</td>\n",
       "      <td>0.335590</td>\n",
       "      <td>2.486855</td>\n",
       "      <td>0.368674</td>\n",
       "    </tr>\n",
       "    <tr>\n",
       "      <td>2</td>\n",
       "      <td>phon_R01_S01_3</td>\n",
       "      <td>116.682</td>\n",
       "      <td>131.111</td>\n",
       "      <td>111.555</td>\n",
       "      <td>0.01050</td>\n",
       "      <td>0.00009</td>\n",
       "      <td>0.00544</td>\n",
       "      <td>0.00781</td>\n",
       "      <td>0.01633</td>\n",
       "      <td>0.05233</td>\n",
       "      <td>...</td>\n",
       "      <td>0.08270</td>\n",
       "      <td>0.01309</td>\n",
       "      <td>20.651</td>\n",
       "      <td>1</td>\n",
       "      <td>0.429895</td>\n",
       "      <td>0.825288</td>\n",
       "      <td>-4.443179</td>\n",
       "      <td>0.311173</td>\n",
       "      <td>2.342259</td>\n",
       "      <td>0.332634</td>\n",
       "    </tr>\n",
       "    <tr>\n",
       "      <td>3</td>\n",
       "      <td>phon_R01_S01_4</td>\n",
       "      <td>116.676</td>\n",
       "      <td>137.871</td>\n",
       "      <td>111.366</td>\n",
       "      <td>0.00997</td>\n",
       "      <td>0.00009</td>\n",
       "      <td>0.00502</td>\n",
       "      <td>0.00698</td>\n",
       "      <td>0.01505</td>\n",
       "      <td>0.05492</td>\n",
       "      <td>...</td>\n",
       "      <td>0.08771</td>\n",
       "      <td>0.01353</td>\n",
       "      <td>20.644</td>\n",
       "      <td>1</td>\n",
       "      <td>0.434969</td>\n",
       "      <td>0.819235</td>\n",
       "      <td>-4.117501</td>\n",
       "      <td>0.334147</td>\n",
       "      <td>2.405554</td>\n",
       "      <td>0.368975</td>\n",
       "    </tr>\n",
       "    <tr>\n",
       "      <td>4</td>\n",
       "      <td>phon_R01_S01_5</td>\n",
       "      <td>116.014</td>\n",
       "      <td>141.781</td>\n",
       "      <td>110.655</td>\n",
       "      <td>0.01284</td>\n",
       "      <td>0.00011</td>\n",
       "      <td>0.00655</td>\n",
       "      <td>0.00908</td>\n",
       "      <td>0.01966</td>\n",
       "      <td>0.06425</td>\n",
       "      <td>...</td>\n",
       "      <td>0.10470</td>\n",
       "      <td>0.01767</td>\n",
       "      <td>19.649</td>\n",
       "      <td>1</td>\n",
       "      <td>0.417356</td>\n",
       "      <td>0.823484</td>\n",
       "      <td>-3.747787</td>\n",
       "      <td>0.234513</td>\n",
       "      <td>2.332180</td>\n",
       "      <td>0.410335</td>\n",
       "    </tr>\n",
       "  </tbody>\n",
       "</table>\n",
       "<p>5 rows × 24 columns</p>\n",
       "</div>"
      ],
      "text/plain": [
       "             name  MDVP:Fo(Hz)  MDVP:Fhi(Hz)  MDVP:Flo(Hz)  MDVP:Jitter(%)  \\\n",
       "0  phon_R01_S01_1      119.992       157.302        74.997         0.00784   \n",
       "1  phon_R01_S01_2      122.400       148.650       113.819         0.00968   \n",
       "2  phon_R01_S01_3      116.682       131.111       111.555         0.01050   \n",
       "3  phon_R01_S01_4      116.676       137.871       111.366         0.00997   \n",
       "4  phon_R01_S01_5      116.014       141.781       110.655         0.01284   \n",
       "\n",
       "   MDVP:Jitter(Abs)  MDVP:RAP  MDVP:PPQ  Jitter:DDP  MDVP:Shimmer  ...  \\\n",
       "0           0.00007   0.00370   0.00554     0.01109       0.04374  ...   \n",
       "1           0.00008   0.00465   0.00696     0.01394       0.06134  ...   \n",
       "2           0.00009   0.00544   0.00781     0.01633       0.05233  ...   \n",
       "3           0.00009   0.00502   0.00698     0.01505       0.05492  ...   \n",
       "4           0.00011   0.00655   0.00908     0.01966       0.06425  ...   \n",
       "\n",
       "   Shimmer:DDA      NHR     HNR  status      RPDE       DFA   spread1  \\\n",
       "0      0.06545  0.02211  21.033       1  0.414783  0.815285 -4.813031   \n",
       "1      0.09403  0.01929  19.085       1  0.458359  0.819521 -4.075192   \n",
       "2      0.08270  0.01309  20.651       1  0.429895  0.825288 -4.443179   \n",
       "3      0.08771  0.01353  20.644       1  0.434969  0.819235 -4.117501   \n",
       "4      0.10470  0.01767  19.649       1  0.417356  0.823484 -3.747787   \n",
       "\n",
       "    spread2        D2       PPE  \n",
       "0  0.266482  2.301442  0.284654  \n",
       "1  0.335590  2.486855  0.368674  \n",
       "2  0.311173  2.342259  0.332634  \n",
       "3  0.334147  2.405554  0.368975  \n",
       "4  0.234513  2.332180  0.410335  \n",
       "\n",
       "[5 rows x 24 columns]"
      ]
     },
     "execution_count": 108,
     "metadata": {},
     "output_type": "execute_result"
    }
   ],
   "source": [
    "data.head(5)"
   ]
  },
  {
   "cell_type": "code",
   "execution_count": 109,
   "metadata": {},
   "outputs": [
    {
     "name": "stdout",
     "output_type": "stream",
     "text": [
      "<class 'pandas.core.frame.DataFrame'>\n",
      "RangeIndex: 195 entries, 0 to 194\n",
      "Data columns (total 24 columns):\n",
      "name                195 non-null object\n",
      "MDVP:Fo(Hz)         195 non-null float64\n",
      "MDVP:Fhi(Hz)        195 non-null float64\n",
      "MDVP:Flo(Hz)        195 non-null float64\n",
      "MDVP:Jitter(%)      195 non-null float64\n",
      "MDVP:Jitter(Abs)    195 non-null float64\n",
      "MDVP:RAP            195 non-null float64\n",
      "MDVP:PPQ            195 non-null float64\n",
      "Jitter:DDP          195 non-null float64\n",
      "MDVP:Shimmer        195 non-null float64\n",
      "MDVP:Shimmer(dB)    195 non-null float64\n",
      "Shimmer:APQ3        195 non-null float64\n",
      "Shimmer:APQ5        195 non-null float64\n",
      "MDVP:APQ            195 non-null float64\n",
      "Shimmer:DDA         195 non-null float64\n",
      "NHR                 195 non-null float64\n",
      "HNR                 195 non-null float64\n",
      "status              195 non-null int64\n",
      "RPDE                195 non-null float64\n",
      "DFA                 195 non-null float64\n",
      "spread1             195 non-null float64\n",
      "spread2             195 non-null float64\n",
      "D2                  195 non-null float64\n",
      "PPE                 195 non-null float64\n",
      "dtypes: float64(22), int64(1), object(1)\n",
      "memory usage: 36.7+ KB\n"
     ]
    }
   ],
   "source": [
    "data.info()"
   ]
  },
  {
   "cell_type": "code",
   "execution_count": 386,
   "metadata": {},
   "outputs": [
    {
     "name": "stdout",
     "output_type": "stream",
     "text": [
      "There are total 24 attributes\n",
      "There are 195 etries\n",
      "'status' is the target column\n",
      "There seems to be no missing values.\n"
     ]
    }
   ],
   "source": [
    "print(\"There are total 24 attributes\")\n",
    "print(\"There are 195 etries\")\n",
    "print(\"'status' is the target column\")\n",
    "print(\"There seems to be no missing values.\")"
   ]
  },
  {
   "cell_type": "code",
   "execution_count": 111,
   "metadata": {},
   "outputs": [
    {
     "name": "stdout",
     "output_type": "stream",
     "text": [
      "Column 'name' will not be used in modeling. So, let's drop it\n"
     ]
    }
   ],
   "source": [
    "print(\"Column 'name' will not be used in modeling. So, let's drop it\")\n",
    "data = data.drop('name', axis=1)"
   ]
  },
  {
   "cell_type": "code",
   "execution_count": 112,
   "metadata": {},
   "outputs": [
    {
     "data": {
      "text/plain": [
       "MDVP:Fo(Hz)         0\n",
       "MDVP:Fhi(Hz)        0\n",
       "MDVP:Flo(Hz)        0\n",
       "MDVP:Jitter(%)      0\n",
       "MDVP:Jitter(Abs)    0\n",
       "MDVP:RAP            0\n",
       "MDVP:PPQ            0\n",
       "Jitter:DDP          0\n",
       "MDVP:Shimmer        0\n",
       "MDVP:Shimmer(dB)    0\n",
       "Shimmer:APQ3        0\n",
       "Shimmer:APQ5        0\n",
       "MDVP:APQ            0\n",
       "Shimmer:DDA         0\n",
       "NHR                 0\n",
       "HNR                 0\n",
       "status              0\n",
       "RPDE                0\n",
       "DFA                 0\n",
       "spread1             0\n",
       "spread2             0\n",
       "D2                  0\n",
       "PPE                 0\n",
       "dtype: int64"
      ]
     },
     "execution_count": 112,
     "metadata": {},
     "output_type": "execute_result"
    }
   ],
   "source": [
    "# Checking missing values\n",
    "data.isna().sum()"
   ]
  },
  {
   "cell_type": "code",
   "execution_count": 113,
   "metadata": {},
   "outputs": [
    {
     "name": "stdout",
     "output_type": "stream",
     "text": [
      "There are no missing values\n"
     ]
    }
   ],
   "source": [
    "print(\"There are no missing values\")"
   ]
  },
  {
   "cell_type": "code",
   "execution_count": 114,
   "metadata": {},
   "outputs": [
    {
     "data": {
      "text/html": [
       "<div>\n",
       "<style scoped>\n",
       "    .dataframe tbody tr th:only-of-type {\n",
       "        vertical-align: middle;\n",
       "    }\n",
       "\n",
       "    .dataframe tbody tr th {\n",
       "        vertical-align: top;\n",
       "    }\n",
       "\n",
       "    .dataframe thead th {\n",
       "        text-align: right;\n",
       "    }\n",
       "</style>\n",
       "<table border=\"1\" class=\"dataframe\">\n",
       "  <thead>\n",
       "    <tr style=\"text-align: right;\">\n",
       "      <th></th>\n",
       "      <th>count</th>\n",
       "      <th>mean</th>\n",
       "      <th>std</th>\n",
       "      <th>min</th>\n",
       "      <th>25%</th>\n",
       "      <th>50%</th>\n",
       "      <th>75%</th>\n",
       "      <th>max</th>\n",
       "    </tr>\n",
       "  </thead>\n",
       "  <tbody>\n",
       "    <tr>\n",
       "      <td>MDVP:Fo(Hz)</td>\n",
       "      <td>195.0</td>\n",
       "      <td>154.228641</td>\n",
       "      <td>41.390065</td>\n",
       "      <td>88.333000</td>\n",
       "      <td>117.572000</td>\n",
       "      <td>148.790000</td>\n",
       "      <td>182.769000</td>\n",
       "      <td>260.105000</td>\n",
       "    </tr>\n",
       "    <tr>\n",
       "      <td>MDVP:Fhi(Hz)</td>\n",
       "      <td>195.0</td>\n",
       "      <td>197.104918</td>\n",
       "      <td>91.491548</td>\n",
       "      <td>102.145000</td>\n",
       "      <td>134.862500</td>\n",
       "      <td>175.829000</td>\n",
       "      <td>224.205500</td>\n",
       "      <td>592.030000</td>\n",
       "    </tr>\n",
       "    <tr>\n",
       "      <td>MDVP:Flo(Hz)</td>\n",
       "      <td>195.0</td>\n",
       "      <td>116.324631</td>\n",
       "      <td>43.521413</td>\n",
       "      <td>65.476000</td>\n",
       "      <td>84.291000</td>\n",
       "      <td>104.315000</td>\n",
       "      <td>140.018500</td>\n",
       "      <td>239.170000</td>\n",
       "    </tr>\n",
       "    <tr>\n",
       "      <td>MDVP:Jitter(%)</td>\n",
       "      <td>195.0</td>\n",
       "      <td>0.006220</td>\n",
       "      <td>0.004848</td>\n",
       "      <td>0.001680</td>\n",
       "      <td>0.003460</td>\n",
       "      <td>0.004940</td>\n",
       "      <td>0.007365</td>\n",
       "      <td>0.033160</td>\n",
       "    </tr>\n",
       "    <tr>\n",
       "      <td>MDVP:Jitter(Abs)</td>\n",
       "      <td>195.0</td>\n",
       "      <td>0.000044</td>\n",
       "      <td>0.000035</td>\n",
       "      <td>0.000007</td>\n",
       "      <td>0.000020</td>\n",
       "      <td>0.000030</td>\n",
       "      <td>0.000060</td>\n",
       "      <td>0.000260</td>\n",
       "    </tr>\n",
       "    <tr>\n",
       "      <td>MDVP:RAP</td>\n",
       "      <td>195.0</td>\n",
       "      <td>0.003306</td>\n",
       "      <td>0.002968</td>\n",
       "      <td>0.000680</td>\n",
       "      <td>0.001660</td>\n",
       "      <td>0.002500</td>\n",
       "      <td>0.003835</td>\n",
       "      <td>0.021440</td>\n",
       "    </tr>\n",
       "    <tr>\n",
       "      <td>MDVP:PPQ</td>\n",
       "      <td>195.0</td>\n",
       "      <td>0.003446</td>\n",
       "      <td>0.002759</td>\n",
       "      <td>0.000920</td>\n",
       "      <td>0.001860</td>\n",
       "      <td>0.002690</td>\n",
       "      <td>0.003955</td>\n",
       "      <td>0.019580</td>\n",
       "    </tr>\n",
       "    <tr>\n",
       "      <td>Jitter:DDP</td>\n",
       "      <td>195.0</td>\n",
       "      <td>0.009920</td>\n",
       "      <td>0.008903</td>\n",
       "      <td>0.002040</td>\n",
       "      <td>0.004985</td>\n",
       "      <td>0.007490</td>\n",
       "      <td>0.011505</td>\n",
       "      <td>0.064330</td>\n",
       "    </tr>\n",
       "    <tr>\n",
       "      <td>MDVP:Shimmer</td>\n",
       "      <td>195.0</td>\n",
       "      <td>0.029709</td>\n",
       "      <td>0.018857</td>\n",
       "      <td>0.009540</td>\n",
       "      <td>0.016505</td>\n",
       "      <td>0.022970</td>\n",
       "      <td>0.037885</td>\n",
       "      <td>0.119080</td>\n",
       "    </tr>\n",
       "    <tr>\n",
       "      <td>MDVP:Shimmer(dB)</td>\n",
       "      <td>195.0</td>\n",
       "      <td>0.282251</td>\n",
       "      <td>0.194877</td>\n",
       "      <td>0.085000</td>\n",
       "      <td>0.148500</td>\n",
       "      <td>0.221000</td>\n",
       "      <td>0.350000</td>\n",
       "      <td>1.302000</td>\n",
       "    </tr>\n",
       "    <tr>\n",
       "      <td>Shimmer:APQ3</td>\n",
       "      <td>195.0</td>\n",
       "      <td>0.015664</td>\n",
       "      <td>0.010153</td>\n",
       "      <td>0.004550</td>\n",
       "      <td>0.008245</td>\n",
       "      <td>0.012790</td>\n",
       "      <td>0.020265</td>\n",
       "      <td>0.056470</td>\n",
       "    </tr>\n",
       "    <tr>\n",
       "      <td>Shimmer:APQ5</td>\n",
       "      <td>195.0</td>\n",
       "      <td>0.017878</td>\n",
       "      <td>0.012024</td>\n",
       "      <td>0.005700</td>\n",
       "      <td>0.009580</td>\n",
       "      <td>0.013470</td>\n",
       "      <td>0.022380</td>\n",
       "      <td>0.079400</td>\n",
       "    </tr>\n",
       "    <tr>\n",
       "      <td>MDVP:APQ</td>\n",
       "      <td>195.0</td>\n",
       "      <td>0.024081</td>\n",
       "      <td>0.016947</td>\n",
       "      <td>0.007190</td>\n",
       "      <td>0.013080</td>\n",
       "      <td>0.018260</td>\n",
       "      <td>0.029400</td>\n",
       "      <td>0.137780</td>\n",
       "    </tr>\n",
       "    <tr>\n",
       "      <td>Shimmer:DDA</td>\n",
       "      <td>195.0</td>\n",
       "      <td>0.046993</td>\n",
       "      <td>0.030459</td>\n",
       "      <td>0.013640</td>\n",
       "      <td>0.024735</td>\n",
       "      <td>0.038360</td>\n",
       "      <td>0.060795</td>\n",
       "      <td>0.169420</td>\n",
       "    </tr>\n",
       "    <tr>\n",
       "      <td>NHR</td>\n",
       "      <td>195.0</td>\n",
       "      <td>0.024847</td>\n",
       "      <td>0.040418</td>\n",
       "      <td>0.000650</td>\n",
       "      <td>0.005925</td>\n",
       "      <td>0.011660</td>\n",
       "      <td>0.025640</td>\n",
       "      <td>0.314820</td>\n",
       "    </tr>\n",
       "    <tr>\n",
       "      <td>HNR</td>\n",
       "      <td>195.0</td>\n",
       "      <td>21.885974</td>\n",
       "      <td>4.425764</td>\n",
       "      <td>8.441000</td>\n",
       "      <td>19.198000</td>\n",
       "      <td>22.085000</td>\n",
       "      <td>25.075500</td>\n",
       "      <td>33.047000</td>\n",
       "    </tr>\n",
       "    <tr>\n",
       "      <td>status</td>\n",
       "      <td>195.0</td>\n",
       "      <td>0.753846</td>\n",
       "      <td>0.431878</td>\n",
       "      <td>0.000000</td>\n",
       "      <td>1.000000</td>\n",
       "      <td>1.000000</td>\n",
       "      <td>1.000000</td>\n",
       "      <td>1.000000</td>\n",
       "    </tr>\n",
       "    <tr>\n",
       "      <td>RPDE</td>\n",
       "      <td>195.0</td>\n",
       "      <td>0.498536</td>\n",
       "      <td>0.103942</td>\n",
       "      <td>0.256570</td>\n",
       "      <td>0.421306</td>\n",
       "      <td>0.495954</td>\n",
       "      <td>0.587562</td>\n",
       "      <td>0.685151</td>\n",
       "    </tr>\n",
       "    <tr>\n",
       "      <td>DFA</td>\n",
       "      <td>195.0</td>\n",
       "      <td>0.718099</td>\n",
       "      <td>0.055336</td>\n",
       "      <td>0.574282</td>\n",
       "      <td>0.674758</td>\n",
       "      <td>0.722254</td>\n",
       "      <td>0.761881</td>\n",
       "      <td>0.825288</td>\n",
       "    </tr>\n",
       "    <tr>\n",
       "      <td>spread1</td>\n",
       "      <td>195.0</td>\n",
       "      <td>-5.684397</td>\n",
       "      <td>1.090208</td>\n",
       "      <td>-7.964984</td>\n",
       "      <td>-6.450096</td>\n",
       "      <td>-5.720868</td>\n",
       "      <td>-5.046192</td>\n",
       "      <td>-2.434031</td>\n",
       "    </tr>\n",
       "    <tr>\n",
       "      <td>spread2</td>\n",
       "      <td>195.0</td>\n",
       "      <td>0.226510</td>\n",
       "      <td>0.083406</td>\n",
       "      <td>0.006274</td>\n",
       "      <td>0.174351</td>\n",
       "      <td>0.218885</td>\n",
       "      <td>0.279234</td>\n",
       "      <td>0.450493</td>\n",
       "    </tr>\n",
       "    <tr>\n",
       "      <td>D2</td>\n",
       "      <td>195.0</td>\n",
       "      <td>2.381826</td>\n",
       "      <td>0.382799</td>\n",
       "      <td>1.423287</td>\n",
       "      <td>2.099125</td>\n",
       "      <td>2.361532</td>\n",
       "      <td>2.636456</td>\n",
       "      <td>3.671155</td>\n",
       "    </tr>\n",
       "    <tr>\n",
       "      <td>PPE</td>\n",
       "      <td>195.0</td>\n",
       "      <td>0.206552</td>\n",
       "      <td>0.090119</td>\n",
       "      <td>0.044539</td>\n",
       "      <td>0.137451</td>\n",
       "      <td>0.194052</td>\n",
       "      <td>0.252980</td>\n",
       "      <td>0.527367</td>\n",
       "    </tr>\n",
       "  </tbody>\n",
       "</table>\n",
       "</div>"
      ],
      "text/plain": [
       "                  count        mean        std         min         25%  \\\n",
       "MDVP:Fo(Hz)       195.0  154.228641  41.390065   88.333000  117.572000   \n",
       "MDVP:Fhi(Hz)      195.0  197.104918  91.491548  102.145000  134.862500   \n",
       "MDVP:Flo(Hz)      195.0  116.324631  43.521413   65.476000   84.291000   \n",
       "MDVP:Jitter(%)    195.0    0.006220   0.004848    0.001680    0.003460   \n",
       "MDVP:Jitter(Abs)  195.0    0.000044   0.000035    0.000007    0.000020   \n",
       "MDVP:RAP          195.0    0.003306   0.002968    0.000680    0.001660   \n",
       "MDVP:PPQ          195.0    0.003446   0.002759    0.000920    0.001860   \n",
       "Jitter:DDP        195.0    0.009920   0.008903    0.002040    0.004985   \n",
       "MDVP:Shimmer      195.0    0.029709   0.018857    0.009540    0.016505   \n",
       "MDVP:Shimmer(dB)  195.0    0.282251   0.194877    0.085000    0.148500   \n",
       "Shimmer:APQ3      195.0    0.015664   0.010153    0.004550    0.008245   \n",
       "Shimmer:APQ5      195.0    0.017878   0.012024    0.005700    0.009580   \n",
       "MDVP:APQ          195.0    0.024081   0.016947    0.007190    0.013080   \n",
       "Shimmer:DDA       195.0    0.046993   0.030459    0.013640    0.024735   \n",
       "NHR               195.0    0.024847   0.040418    0.000650    0.005925   \n",
       "HNR               195.0   21.885974   4.425764    8.441000   19.198000   \n",
       "status            195.0    0.753846   0.431878    0.000000    1.000000   \n",
       "RPDE              195.0    0.498536   0.103942    0.256570    0.421306   \n",
       "DFA               195.0    0.718099   0.055336    0.574282    0.674758   \n",
       "spread1           195.0   -5.684397   1.090208   -7.964984   -6.450096   \n",
       "spread2           195.0    0.226510   0.083406    0.006274    0.174351   \n",
       "D2                195.0    2.381826   0.382799    1.423287    2.099125   \n",
       "PPE               195.0    0.206552   0.090119    0.044539    0.137451   \n",
       "\n",
       "                         50%         75%         max  \n",
       "MDVP:Fo(Hz)       148.790000  182.769000  260.105000  \n",
       "MDVP:Fhi(Hz)      175.829000  224.205500  592.030000  \n",
       "MDVP:Flo(Hz)      104.315000  140.018500  239.170000  \n",
       "MDVP:Jitter(%)      0.004940    0.007365    0.033160  \n",
       "MDVP:Jitter(Abs)    0.000030    0.000060    0.000260  \n",
       "MDVP:RAP            0.002500    0.003835    0.021440  \n",
       "MDVP:PPQ            0.002690    0.003955    0.019580  \n",
       "Jitter:DDP          0.007490    0.011505    0.064330  \n",
       "MDVP:Shimmer        0.022970    0.037885    0.119080  \n",
       "MDVP:Shimmer(dB)    0.221000    0.350000    1.302000  \n",
       "Shimmer:APQ3        0.012790    0.020265    0.056470  \n",
       "Shimmer:APQ5        0.013470    0.022380    0.079400  \n",
       "MDVP:APQ            0.018260    0.029400    0.137780  \n",
       "Shimmer:DDA         0.038360    0.060795    0.169420  \n",
       "NHR                 0.011660    0.025640    0.314820  \n",
       "HNR                22.085000   25.075500   33.047000  \n",
       "status              1.000000    1.000000    1.000000  \n",
       "RPDE                0.495954    0.587562    0.685151  \n",
       "DFA                 0.722254    0.761881    0.825288  \n",
       "spread1            -5.720868   -5.046192   -2.434031  \n",
       "spread2             0.218885    0.279234    0.450493  \n",
       "D2                  2.361532    2.636456    3.671155  \n",
       "PPE                 0.194052    0.252980    0.527367  "
      ]
     },
     "execution_count": 114,
     "metadata": {},
     "output_type": "execute_result"
    }
   ],
   "source": [
    "data.describe().T"
   ]
  },
  {
   "cell_type": "code",
   "execution_count": 115,
   "metadata": {},
   "outputs": [
    {
     "name": "stdout",
     "output_type": "stream",
     "text": [
      "It seems that some columns has skweness. Data is not normalized\n",
      "Some of the columns like 'MDVP:Flo(Hz)', 'MDVP:Flo(Hz)' seems to have long tails\n"
     ]
    }
   ],
   "source": [
    "print(\"It seems that some columns has skweness. Data is not normalized\")\n",
    "print(\"Some of the columns like 'MDVP:Flo(Hz)', 'MDVP:Flo(Hz)' seems to have long tails\")"
   ]
  },
  {
   "cell_type": "code",
   "execution_count": 116,
   "metadata": {},
   "outputs": [
    {
     "data": {
      "text/plain": [
       "MDVP:Fo(Hz)         0.591737\n",
       "MDVP:Fhi(Hz)        2.542146\n",
       "MDVP:Flo(Hz)        1.217350\n",
       "MDVP:Jitter(%)      3.084946\n",
       "MDVP:Jitter(Abs)    2.649071\n",
       "MDVP:RAP            3.360708\n",
       "MDVP:PPQ            3.073892\n",
       "Jitter:DDP          3.362058\n",
       "MDVP:Shimmer        1.666480\n",
       "MDVP:Shimmer(dB)    1.999389\n",
       "Shimmer:APQ3        1.580576\n",
       "Shimmer:APQ5        1.798697\n",
       "MDVP:APQ            2.618047\n",
       "Shimmer:DDA         1.580618\n",
       "NHR                 4.220709\n",
       "HNR                -0.514317\n",
       "status             -1.187727\n",
       "RPDE               -0.143402\n",
       "DFA                -0.033214\n",
       "spread1             0.432139\n",
       "spread2             0.144430\n",
       "D2                  0.430384\n",
       "PPE                 0.797491\n",
       "dtype: float64"
      ]
     },
     "execution_count": 116,
     "metadata": {},
     "output_type": "execute_result"
    }
   ],
   "source": [
    "skewness = data.skew()\n",
    "skewness"
   ]
  },
  {
   "cell_type": "code",
   "execution_count": 387,
   "metadata": {},
   "outputs": [
    {
     "name": "stdout",
     "output_type": "stream",
     "text": [
      "We can see that some columns are highly skewed. It means they have lots of ouliers on the tails\n",
      "e.g. 'MDVP:Jitter(%)', 'MDVP:RAP', 'MDVP:PPQ', 'Jitter:DDP' and 'NHR'\n"
     ]
    }
   ],
   "source": [
    "print(\"We can see that some columns are highly skewed. It means they have lots of ouliers on the tails\")\n",
    "print(\"e.g. 'MDVP:Jitter(%)', 'MDVP:RAP', 'MDVP:PPQ', 'Jitter:DDP' and 'NHR'\")"
   ]
  },
  {
   "cell_type": "code",
   "execution_count": 118,
   "metadata": {},
   "outputs": [
    {
     "data": {
      "text/plain": [
       "<matplotlib.axes._subplots.AxesSubplot at 0x1b8d489b6a0>"
      ]
     },
     "execution_count": 118,
     "metadata": {},
     "output_type": "execute_result"
    },
    {
     "data": {
      "image/png": "[encoded data removed]",
      "text/plain": [
       "<Figure size 432x288 with 1 Axes>"
      ]
     },
     "metadata": {
      "needs_background": "light"
     },
     "output_type": "display_data"
    }
   ],
   "source": [
    "sns.distplot(data['MDVP:Jitter(%)'], hist=False)"
   ]
  },
  {
   "cell_type": "code",
   "execution_count": 119,
   "metadata": {},
   "outputs": [
    {
     "data": {
      "text/plain": [
       "<matplotlib.axes._subplots.AxesSubplot at 0x1b8d1e98898>"
      ]
     },
     "execution_count": 119,
     "metadata": {},
     "output_type": "execute_result"
    },
    {
     "data": {
      "image/png": "[encoded data removed]",
      "text/plain": [
       "<Figure size 432x288 with 1 Axes>"
      ]
     },
     "metadata": {
      "needs_background": "light"
     },
     "output_type": "display_data"
    }
   ],
   "source": [
    "sns.distplot(data['NHR'], hist=False)"
   ]
  },
  {
   "cell_type": "code",
   "execution_count": 120,
   "metadata": {},
   "outputs": [
    {
     "data": {
      "text/plain": [
       "<matplotlib.axes._subplots.AxesSubplot at 0x1b8d240b9e8>"
      ]
     },
     "execution_count": 120,
     "metadata": {},
     "output_type": "execute_result"
    },
    {
     "data": {
      "image/png": "[encoded data removed]",
      "text/plain": [
       "<Figure size 432x288 with 1 Axes>"
      ]
     },
     "metadata": {
      "needs_background": "light"
     },
     "output_type": "display_data"
    }
   ],
   "source": [
    "sns.distplot(data['MDVP:RAP'], hist=False)"
   ]
  },
  {
   "cell_type": "code",
   "execution_count": 121,
   "metadata": {},
   "outputs": [
    {
     "data": {
      "text/plain": [
       "<matplotlib.axes._subplots.AxesSubplot at 0x1b8d1d53e48>"
      ]
     },
     "execution_count": 121,
     "metadata": {},
     "output_type": "execute_result"
    },
    {
     "data": {
      "image/png": "[encoded data removed]",
      "text/plain": [
       "<Figure size 432x288 with 1 Axes>"
      ]
     },
     "metadata": {
      "needs_background": "light"
     },
     "output_type": "display_data"
    }
   ],
   "source": [
    "sns.distplot(data['MDVP:PPQ'], hist=False)"
   ]
  },
  {
   "cell_type": "code",
   "execution_count": 122,
   "metadata": {},
   "outputs": [
    {
     "data": {
      "text/plain": [
       "<matplotlib.axes._subplots.AxesSubplot at 0x1b8d2223198>"
      ]
     },
     "execution_count": 122,
     "metadata": {},
     "output_type": "execute_result"
    },
    {
     "data": {
      "image/png": "[encoded data removed]",
      "text/plain": [
       "<Figure size 432x288 with 1 Axes>"
      ]
     },
     "metadata": {
      "needs_background": "light"
     },
     "output_type": "display_data"
    }
   ],
   "source": [
    "sns.distplot(data['Jitter:DDP'], hist=False)"
   ]
  },
  {
   "cell_type": "code",
   "execution_count": 123,
   "metadata": {},
   "outputs": [
    {
     "name": "stdout",
     "output_type": "stream",
     "text": [
      "We can see long tails in few columns as shown in above graphs\n",
      "Data points are already very small. Scaling might not help in reducing the skewness.\n",
      "It's possible that we have high number of outliers.\n"
     ]
    }
   ],
   "source": [
    "print(\"We can see long tails in few columns as shown in above graphs\")\n",
    "print(\"Data points are already very small. Scaling might not help in reducing the skewness.\")\n",
    "print(\"It's possible that we have high number of outliers.\")"
   ]
  },
  {
   "cell_type": "code",
   "execution_count": 236,
   "metadata": {},
   "outputs": [],
   "source": [
    "#Scaling the Data\n",
    "scalar = StandardScaler()\n",
    "X = data.drop('status', axis=1)\n",
    "X_scaled = pd.DataFrame(scalar.fit_transform(X), columns=X.columns)\n",
    "y = data['status']"
   ]
  },
  {
   "cell_type": "code",
   "execution_count": 238,
   "metadata": {},
   "outputs": [
    {
     "data": {
      "text/plain": [
       "<matplotlib.axes._subplots.AxesSubplot at 0x1b8e1948c18>"
      ]
     },
     "execution_count": 238,
     "metadata": {},
     "output_type": "execute_result"
    },
    {
     "data": {
      "image/png": "[encoded data removed]",
      "text/plain": [
       "<Figure size 1800x1440 with 1 Axes>"
      ]
     },
     "metadata": {
      "needs_background": "light"
     },
     "output_type": "display_data"
    }
   ],
   "source": [
    "#Checking for Outliers\n",
    "X_scaled.boxplot(figsize=(25,20))"
   ]
  },
  {
   "cell_type": "code",
   "execution_count": 239,
   "metadata": {},
   "outputs": [
    {
     "name": "stdout",
     "output_type": "stream",
     "text": [
      "We can see that many columns have large number of Outliers. Let's count them\n"
     ]
    }
   ],
   "source": [
    "print(\"We can see that many columns have large number of Outliers. Let's count them\")"
   ]
  },
  {
   "cell_type": "code",
   "execution_count": 240,
   "metadata": {},
   "outputs": [],
   "source": [
    "# Initialize the lists\n",
    "list_count_outlier_above = list()\n",
    "list_count_outlier_below = list()\n",
    "list_column = list()\n",
    "\n",
    "    \n",
    "#Identifying columns with outlier   \n",
    "def identifyAndTreatOutliers(column, data):\n",
    "    Q3 = np.quantile(data, 0.75)\n",
    "    Q1 = np.quantile(data, 0.25)\n",
    "    IQR = Q3 -Q1\n",
    "    above = Q3 + 1.5*IQR\n",
    "    below = Q1 - 1.5*IQR\n",
    "    \n",
    "    count_outlier_above = data.loc[data > above].count()\n",
    "    count_outlier_below = data.loc[data < below].count()\n",
    "    \n",
    "    # If there are no outliers then do nothing\n",
    "    if ((count_outlier_above == 0) & (count_outlier_below == 0)) :\n",
    "        return 0\n",
    "    \n",
    "    print(\"Column: '{0}' has outliers\".format(column))\n",
    "    list_count_outlier_above.append(count_outlier_above)\n",
    "    list_count_outlier_below.append(count_outlier_below)\n",
    "    list_column.append(column)"
   ]
  },
  {
   "cell_type": "code",
   "execution_count": 241,
   "metadata": {},
   "outputs": [
    {
     "name": "stdout",
     "output_type": "stream",
     "text": [
      "Column: 'MDVP:Fhi(Hz)' has outliers\n",
      "Column: 'MDVP:Flo(Hz)' has outliers\n",
      "Column: 'MDVP:Jitter(%)' has outliers\n",
      "Column: 'MDVP:Jitter(Abs)' has outliers\n",
      "Column: 'MDVP:RAP' has outliers\n",
      "Column: 'MDVP:PPQ' has outliers\n",
      "Column: 'Jitter:DDP' has outliers\n",
      "Column: 'MDVP:Shimmer' has outliers\n",
      "Column: 'MDVP:Shimmer(dB)' has outliers\n",
      "Column: 'Shimmer:APQ3' has outliers\n",
      "Column: 'Shimmer:APQ5' has outliers\n",
      "Column: 'MDVP:APQ' has outliers\n",
      "Column: 'Shimmer:DDA' has outliers\n",
      "Column: 'NHR' has outliers\n",
      "Column: 'HNR' has outliers\n",
      "Column: 'spread1' has outliers\n",
      "Column: 'spread2' has outliers\n",
      "Column: 'D2' has outliers\n",
      "Column: 'PPE' has outliers\n"
     ]
    }
   ],
   "source": [
    "for column in X.columns:\n",
    "    identifyAndTreatOutliers(column, X_scaled[column])"
   ]
  },
  {
   "cell_type": "code",
   "execution_count": 242,
   "metadata": {},
   "outputs": [
    {
     "data": {
      "text/html": [
       "<div>\n",
       "<style scoped>\n",
       "    .dataframe tbody tr th:only-of-type {\n",
       "        vertical-align: middle;\n",
       "    }\n",
       "\n",
       "    .dataframe tbody tr th {\n",
       "        vertical-align: top;\n",
       "    }\n",
       "\n",
       "    .dataframe thead th {\n",
       "        text-align: right;\n",
       "    }\n",
       "</style>\n",
       "<table border=\"1\" class=\"dataframe\">\n",
       "  <thead>\n",
       "    <tr style=\"text-align: right;\">\n",
       "      <th></th>\n",
       "      <th>Column</th>\n",
       "      <th>Count_outlier_above</th>\n",
       "      <th>Count_outlier_below</th>\n",
       "    </tr>\n",
       "  </thead>\n",
       "  <tbody>\n",
       "    <tr>\n",
       "      <td>0</td>\n",
       "      <td>MDVP:Fhi(Hz)</td>\n",
       "      <td>11</td>\n",
       "      <td>0</td>\n",
       "    </tr>\n",
       "    <tr>\n",
       "      <td>1</td>\n",
       "      <td>MDVP:Flo(Hz)</td>\n",
       "      <td>9</td>\n",
       "      <td>0</td>\n",
       "    </tr>\n",
       "    <tr>\n",
       "      <td>2</td>\n",
       "      <td>MDVP:Jitter(%)</td>\n",
       "      <td>14</td>\n",
       "      <td>0</td>\n",
       "    </tr>\n",
       "    <tr>\n",
       "      <td>3</td>\n",
       "      <td>MDVP:Jitter(Abs)</td>\n",
       "      <td>6</td>\n",
       "      <td>0</td>\n",
       "    </tr>\n",
       "    <tr>\n",
       "      <td>4</td>\n",
       "      <td>MDVP:RAP</td>\n",
       "      <td>14</td>\n",
       "      <td>0</td>\n",
       "    </tr>\n",
       "    <tr>\n",
       "      <td>5</td>\n",
       "      <td>MDVP:PPQ</td>\n",
       "      <td>15</td>\n",
       "      <td>0</td>\n",
       "    </tr>\n",
       "    <tr>\n",
       "      <td>6</td>\n",
       "      <td>Jitter:DDP</td>\n",
       "      <td>14</td>\n",
       "      <td>0</td>\n",
       "    </tr>\n",
       "    <tr>\n",
       "      <td>7</td>\n",
       "      <td>MDVP:Shimmer</td>\n",
       "      <td>8</td>\n",
       "      <td>0</td>\n",
       "    </tr>\n",
       "    <tr>\n",
       "      <td>8</td>\n",
       "      <td>MDVP:Shimmer(dB)</td>\n",
       "      <td>10</td>\n",
       "      <td>0</td>\n",
       "    </tr>\n",
       "    <tr>\n",
       "      <td>9</td>\n",
       "      <td>Shimmer:APQ3</td>\n",
       "      <td>6</td>\n",
       "      <td>0</td>\n",
       "    </tr>\n",
       "    <tr>\n",
       "      <td>10</td>\n",
       "      <td>Shimmer:APQ5</td>\n",
       "      <td>13</td>\n",
       "      <td>0</td>\n",
       "    </tr>\n",
       "    <tr>\n",
       "      <td>11</td>\n",
       "      <td>MDVP:APQ</td>\n",
       "      <td>12</td>\n",
       "      <td>0</td>\n",
       "    </tr>\n",
       "    <tr>\n",
       "      <td>12</td>\n",
       "      <td>Shimmer:DDA</td>\n",
       "      <td>6</td>\n",
       "      <td>0</td>\n",
       "    </tr>\n",
       "    <tr>\n",
       "      <td>13</td>\n",
       "      <td>NHR</td>\n",
       "      <td>19</td>\n",
       "      <td>0</td>\n",
       "    </tr>\n",
       "    <tr>\n",
       "      <td>14</td>\n",
       "      <td>HNR</td>\n",
       "      <td>0</td>\n",
       "      <td>3</td>\n",
       "    </tr>\n",
       "    <tr>\n",
       "      <td>15</td>\n",
       "      <td>spread1</td>\n",
       "      <td>4</td>\n",
       "      <td>0</td>\n",
       "    </tr>\n",
       "    <tr>\n",
       "      <td>16</td>\n",
       "      <td>spread2</td>\n",
       "      <td>1</td>\n",
       "      <td>1</td>\n",
       "    </tr>\n",
       "    <tr>\n",
       "      <td>17</td>\n",
       "      <td>D2</td>\n",
       "      <td>1</td>\n",
       "      <td>0</td>\n",
       "    </tr>\n",
       "    <tr>\n",
       "      <td>18</td>\n",
       "      <td>PPE</td>\n",
       "      <td>5</td>\n",
       "      <td>0</td>\n",
       "    </tr>\n",
       "  </tbody>\n",
       "</table>\n",
       "</div>"
      ],
      "text/plain": [
       "              Column  Count_outlier_above  Count_outlier_below\n",
       "0       MDVP:Fhi(Hz)                   11                    0\n",
       "1       MDVP:Flo(Hz)                    9                    0\n",
       "2     MDVP:Jitter(%)                   14                    0\n",
       "3   MDVP:Jitter(Abs)                    6                    0\n",
       "4           MDVP:RAP                   14                    0\n",
       "5           MDVP:PPQ                   15                    0\n",
       "6         Jitter:DDP                   14                    0\n",
       "7       MDVP:Shimmer                    8                    0\n",
       "8   MDVP:Shimmer(dB)                   10                    0\n",
       "9       Shimmer:APQ3                    6                    0\n",
       "10      Shimmer:APQ5                   13                    0\n",
       "11          MDVP:APQ                   12                    0\n",
       "12       Shimmer:DDA                    6                    0\n",
       "13               NHR                   19                    0\n",
       "14               HNR                    0                    3\n",
       "15           spread1                    4                    0\n",
       "16           spread2                    1                    1\n",
       "17                D2                    1                    0\n",
       "18               PPE                    5                    0"
      ]
     },
     "execution_count": 242,
     "metadata": {},
     "output_type": "execute_result"
    }
   ],
   "source": [
    "# Outlier DataFrame\n",
    "outlier_df = pd.DataFrame()\n",
    "outlier_df['Column'] = list_column\n",
    "outlier_df['Count_outlier_above'] = list_count_outlier_above\n",
    "outlier_df['Count_outlier_below'] = list_count_outlier_below\n",
    "outlier_df"
   ]
  },
  {
   "cell_type": "code",
   "execution_count": 252,
   "metadata": {},
   "outputs": [
    {
     "name": "stdout",
     "output_type": "stream",
     "text": [
      "There are huge number of outliers and replacing all by there median might add bias to the model. So, let's keep it just like that\n",
      "\n",
      "We gonna use 'entropy' reducing based 'Decsion Tree Classifier'. It will not be impacted by presence of potential Outliers.\n"
     ]
    }
   ],
   "source": [
    "print(\"There are huge number of outliers and replacing all \\\n",
    "by there median might add bias to the model. So, let's keep it just like that\")\n",
    "print()\n",
    "print(\"We gonna use 'entropy' reducing based 'Decsion Tree Classifier'. It will not be impacted by presence of potential Outliers.\")"
   ]
  },
  {
   "cell_type": "code",
   "execution_count": 277,
   "metadata": {},
   "outputs": [],
   "source": [
    "# Splitting dataset into training and test data in 70:30 ratio\n",
    "test_size = 0.3\n",
    "random_state = 7\n",
    "X_train, X_test, y_train, y_test = train_test_split(X_scaled, y, test_size=test_size, random_state=random_state)"
   ]
  },
  {
   "cell_type": "code",
   "execution_count": 288,
   "metadata": {},
   "outputs": [],
   "source": [
    "def applyModel(criterion='entropy', max_depth=None, min_samples_leaf=1, random_state=7):\n",
    "    \n",
    "    # Creating Model\n",
    "    model = DecisionTreeClassifier(criterion=criterion, max_depth=max_depth, min_samples_leaf=min_samples_leaf, random_state=random_state)\n",
    "    model.fit(X_train, y_train)\n",
    "    \n",
    "    # Train and test score\n",
    "    train_score = model.score(X_train, y_train)\n",
    "    print(\"Train score: {0}\".format(train_score))\n",
    "    test_score = model.score(X_test, y_test)\n",
    "    print(\"Test score: {0}\".format(test_score))\n",
    "    \n",
    "    # Prediction\n",
    "    y_pred = model.predict(X_test)\n",
    "    \n",
    "    # Crosstab to build a confusion matrix\n",
    "    cross_tab = pd.crosstab(y_test, y_pred, rownames=['ACTUAL'], colnames=['PREDICTED'])\n",
    "    print()\n",
    "    print(\"CROSSTAB\")\n",
    "    print(cross_tab)\n",
    "    \n",
    "    # Check count of 0 and 1 original test dataset for the crosstab analysis\n",
    "    print()\n",
    "    print(\"Actual Label Counts:\")\n",
    "    print(y_test.value_counts())"
   ]
  },
  {
   "cell_type": "code",
   "execution_count": 290,
   "metadata": {},
   "outputs": [
    {
     "name": "stdout",
     "output_type": "stream",
     "text": [
      "Train score: 1.0\n",
      "Test score: 0.8813559322033898\n",
      "\n",
      "CROSSTAB\n",
      "PREDICTED  0   1\n",
      "ACTUAL          \n",
      "0          9   3\n",
      "1          4  43\n",
      "\n",
      "Actual Label Counts:\n",
      "1    47\n",
      "0    12\n",
      "Name: status, dtype: int64\n"
     ]
    }
   ],
   "source": [
    "# Creating Model using 'entropy' method with default hyper parameters\n",
    "applyModel(criterion='entropy', random_state=7)"
   ]
  },
  {
   "cell_type": "code",
   "execution_count": 292,
   "metadata": {},
   "outputs": [
    {
     "name": "stdout",
     "output_type": "stream",
     "text": [
      "We can observe following things from crosstab analysis for the model:\n",
      "1. It has predicted status '1' correctly 43 times out of total 47\n",
      "2. It has predicted status '0' correclty 9 times out of total 12\n",
      "3. This is an overfitted model as it doesn't generalized because training score is 100% but it performed poorly with test data\n"
     ]
    }
   ],
   "source": [
    "print(\"We can observe following things from crosstab analysis for the model:\")\n",
    "print(\"1. It has predicted status '1' correctly 43 times out of total 47\")\n",
    "print(\"2. It has predicted status '0' correclty 9 times out of total 12\")\n",
    "print(\"3. This is an overfitted model as it doesn't generalized because training score is 100% but it performed poorly with test data\")"
   ]
  },
  {
   "cell_type": "code",
   "execution_count": 293,
   "metadata": {},
   "outputs": [
    {
     "name": "stdout",
     "output_type": "stream",
     "text": [
      "Train score: 0.9411764705882353\n",
      "Test score: 0.9152542372881356\n",
      "\n",
      "CROSSTAB\n",
      "PREDICTED  0   1\n",
      "ACTUAL          \n",
      "0          9   3\n",
      "1          2  45\n",
      "\n",
      "Actual Label Counts:\n",
      "1    47\n",
      "0    12\n",
      "Name: status, dtype: int64\n"
     ]
    }
   ],
   "source": [
    "# Creating Model using 'entropy' method with 'max_depth=3' hyper parameter\n",
    "applyModel(criterion='entropy', max_depth=3, random_state=7)"
   ]
  },
  {
   "cell_type": "code",
   "execution_count": 309,
   "metadata": {},
   "outputs": [
    {
     "name": "stdout",
     "output_type": "stream",
     "text": [
      "We can observe following things from crosstab analysis for the model:\n",
      "1. Both test and train score is more than 90%\n",
      "2. It has predicted status '1' correctly 45 times out of total 47 whihc is more than model1\n",
      "3. It has predicted status '0' correclty 9 times out of total 12\n",
      "4. Performance Improved because with max_depth parameter we controlled the depth of the decision tree to which it will expand and model is not overfitted\n"
     ]
    }
   ],
   "source": [
    "print(\"We can observe following things from crosstab analysis for the model:\")\n",
    "print(\"1. Both test and train score is more than 90%\")\n",
    "print(\"2. It has predicted status '1' correctly 45 times out of total 47 whihc is more than model1\")\n",
    "print(\"3. It has predicted status '0' correclty 9 times out of total 12\")\n",
    "print(\"4. Performance Improved because with max_depth parameter we controlled the depth of the decision tree to which it will expand and model is not overfitted\")"
   ]
  },
  {
   "cell_type": "code",
   "execution_count": 317,
   "metadata": {},
   "outputs": [
    {
     "name": "stdout",
     "output_type": "stream",
     "text": [
      "Train score: 0.9852941176470589\n",
      "Test score: 0.864406779661017\n",
      "\n",
      "CROSSTAB\n",
      "PREDICTED  0   1\n",
      "ACTUAL          \n",
      "0          9   3\n",
      "1          5  42\n",
      "\n",
      "Actual Label Counts:\n",
      "1    47\n",
      "0    12\n",
      "Name: status, dtype: int64\n"
     ]
    }
   ],
   "source": [
    "# Creating Model using 'entropy' method with 'max_depth=4' hyper parameter\n",
    "applyModel(criterion='entropy', max_depth=4, random_state=7)"
   ]
  },
  {
   "cell_type": "code",
   "execution_count": 388,
   "metadata": {},
   "outputs": [
    {
     "name": "stdout",
     "output_type": "stream",
     "text": [
      "We can see that with higher values of max_depth model is again becoming an overfitting model\n"
     ]
    }
   ],
   "source": [
    "print(\"We can see that with higher values of max_depth model is again becoming an overfitting model\")"
   ]
  },
  {
   "cell_type": "code",
   "execution_count": 316,
   "metadata": {},
   "outputs": [
    {
     "name": "stdout",
     "output_type": "stream",
     "text": [
      "Train score: 0.9779411764705882\n",
      "Test score: 0.8813559322033898\n",
      "\n",
      "CROSSTAB\n",
      "PREDICTED   0   1\n",
      "ACTUAL           \n",
      "0          10   2\n",
      "1           5  42\n",
      "\n",
      "Actual Label Counts:\n",
      "1    47\n",
      "0    12\n",
      "Name: status, dtype: int64\n"
     ]
    }
   ],
   "source": [
    "# Creating Model using 'entropy' method with 'min_samples_leaf' hyper parameter\n",
    "applyModel(criterion='entropy', min_samples_leaf=2, random_state=7)"
   ]
  },
  {
   "cell_type": "code",
   "execution_count": 308,
   "metadata": {},
   "outputs": [
    {
     "name": "stdout",
     "output_type": "stream",
     "text": [
      "We can observe following things from crosstab analysis for the model:\n",
      "1. Train score is improved but test score is much less. It means the model has not generalized.\n",
      "2. It has predicted status '1' correctly 42 times out of total 47 whihc is less than previous models\n",
      "3. It has predicted status '0' correclty 10 times out of total 12 whihc is more than previous models\n",
      "4. Performance is poor than previous model because we didn't control max_depth hyper parameter and hence model is not generalized.\n"
     ]
    }
   ],
   "source": [
    "print(\"We can observe following things from crosstab analysis for the model:\")\n",
    "print(\"1. Train score is improved but test score is much less. It means the model has not generalized.\")\n",
    "print(\"2. It has predicted status '1' correctly 42 times out of total 47 whihc is less than previous models\")\n",
    "print(\"3. It has predicted status '0' correclty 10 times out of total 12 whihc is more than previous models\")\n",
    "print(\"4. Performance is poor than previous model because we didn't control max_depth hyper parameter and hence model is not generalized.\")"
   ]
  },
  {
   "cell_type": "code",
   "execution_count": 305,
   "metadata": {},
   "outputs": [
    {
     "name": "stdout",
     "output_type": "stream",
     "text": [
      "Train score: 0.9411764705882353\n",
      "Test score: 0.9152542372881356\n",
      "\n",
      "CROSSTAB\n",
      "PREDICTED  0   1\n",
      "ACTUAL          \n",
      "0          9   3\n",
      "1          2  45\n",
      "\n",
      "Actual Label Counts:\n",
      "1    47\n",
      "0    12\n",
      "Name: status, dtype: int64\n"
     ]
    }
   ],
   "source": [
    "# Creating Model using 'entropy' method with 'min_samples_leaf=2' and 'max_depth=3' hyper parameter\n",
    "applyModel(criterion='entropy', max_depth=3, min_samples_leaf=2, random_state=7)"
   ]
  },
  {
   "cell_type": "code",
   "execution_count": 310,
   "metadata": {},
   "outputs": [
    {
     "name": "stdout",
     "output_type": "stream",
     "text": [
      "Train score: 0.9411764705882353\n",
      "Test score: 0.9152542372881356\n",
      "\n",
      "CROSSTAB\n",
      "PREDICTED  0   1\n",
      "ACTUAL          \n",
      "0          9   3\n",
      "1          2  45\n",
      "\n",
      "Actual Label Counts:\n",
      "1    47\n",
      "0    12\n",
      "Name: status, dtype: int64\n"
     ]
    }
   ],
   "source": [
    "# Creating Model using 'entropy' method with 'min_samples_leaf=3' and 'max_depth=3' hyper parameter\n",
    "applyModel(criterion='entropy', max_depth=3, min_samples_leaf=3, random_state=7)"
   ]
  },
  {
   "cell_type": "code",
   "execution_count": 311,
   "metadata": {},
   "outputs": [
    {
     "name": "stdout",
     "output_type": "stream",
     "text": [
      "Train score: 0.9411764705882353\n",
      "Test score: 0.9152542372881356\n",
      "\n",
      "CROSSTAB\n",
      "PREDICTED  0   1\n",
      "ACTUAL          \n",
      "0          9   3\n",
      "1          2  45\n",
      "\n",
      "Actual Label Counts:\n",
      "1    47\n",
      "0    12\n",
      "Name: status, dtype: int64\n"
     ]
    }
   ],
   "source": [
    "# Creating Model using 'entropy' method with 'min_samples_leaf=4' and 'max_depth=3' hyper parameter\n",
    "applyModel(criterion='entropy', max_depth=3, min_samples_leaf=4, random_state=7)"
   ]
  },
  {
   "cell_type": "code",
   "execution_count": 389,
   "metadata": {},
   "outputs": [
    {
     "name": "stdout",
     "output_type": "stream",
     "text": [
      "We tried 3 models with different values of 'min_samples_leaf' and 'max_depth=3' hyperparameter but it is not making any difference in the performance of the model\n"
     ]
    }
   ],
   "source": [
    "print(\"We tried 3 models with different values of 'min_samples_leaf' and 'max_depth=3' hyperparameter but it is not making any difference in the performance of the model\")"
   ]
  },
  {
   "cell_type": "code",
   "execution_count": 370,
   "metadata": {},
   "outputs": [
    {
     "name": "stdout",
     "output_type": "stream",
     "text": [
      "No. of Trees used is 10 which is default\n",
      "Train score: 0.9558823529411765\n",
      "Test score: 0.8983050847457628\n",
      "Threshold: [0 1]\n",
      "Precision: [0.79661017 0.875      1.        ]\n",
      "Recall: [1.         0.89361702 0.        ]\n",
      "\n",
      "CROSSTAB\n",
      "PREDICTED  0   1\n",
      "ACTUAL          \n",
      "0          8   4\n",
      "1          2  45\n",
      "\n",
      "Actual Label Counts:\n",
      "1    47\n",
      "0    12\n",
      "Name: status, dtype: int64\n"
     ]
    },
    {
     "name": "stderr",
     "output_type": "stream",
     "text": [
      "d:\\Profiles\\ankGupta\\AppData\\Local\\Continuum\\anaconda3\\lib\\site-packages\\sklearn\\ensemble\\forest.py:245: FutureWarning: The default value of n_estimators will change from 10 in version 0.20 to 100 in 0.22.\n",
      "  \"10 in version 0.20 to 100 in 0.22.\", FutureWarning)\n"
     ]
    }
   ],
   "source": [
    "# Let's Create base RandmForest model first\n",
    "rf = RandomForestClassifier(max_depth=3)\n",
    "rf.fit(X_train, y_train)\n",
    "\n",
    "print(\"No. of Trees used is 10 which is default\")\n",
    "\n",
    "# Train and test score\n",
    "train_score = rf.score(X_train, y_train)\n",
    "print(\"Train score: {0}\".format(train_score))\n",
    "test_score = rf.score(X_test, y_test)\n",
    "print(\"Test score: {0}\".format(test_score))\n",
    "# Precision and Recall along with used thresholds\n",
    "precision, recall, thresholds = precision_recall_curve(y_test, y_pred)\n",
    "print(\"Threshold: {0}\".format(thresholds))\n",
    "print(\"Precision: {0}\".format(precision))\n",
    "print(\"Recall: {0}\".format(recall))\n",
    "\n",
    "# Crosstab to build a confusion matrix\n",
    "y_pred = rf.predict(X_test)\n",
    "cross_tab = pd.crosstab(y_test, y_pred, rownames=['ACTUAL'], colnames=['PREDICTED'])\n",
    "print()\n",
    "print(\"CROSSTAB\")\n",
    "print(cross_tab)\n",
    "    \n",
    "# Check count of 0 and 1 original test dataset for the crosstab analysis\n",
    "print()\n",
    "print(\"Actual Label Counts:\")\n",
    "print(y_test.value_counts())"
   ]
  },
  {
   "cell_type": "code",
   "execution_count": 391,
   "metadata": {},
   "outputs": [
    {
     "name": "stdout",
     "output_type": "stream",
     "text": [
      "We can observe following things from crosstab analysis for the Base RandomForest Model:\n",
      "1. We have good Train and test score but low precision and recall comparatively.\n",
      "2. It has predicted status '1' correctly 45 times out of total 47\n",
      "3. It has predicted status '0' correclty 8 times out of total 12\n",
      "Let's improve the score by searching for opitmal no. of trees used with same 'max_depth' and 'min_samples_leaf' than best Descision Tree model created above.\n"
     ]
    }
   ],
   "source": [
    "print(\"We can observe following things from crosstab analysis for the Base RandomForest Model:\")\n",
    "print(\"1. We have good Train and test score but low precision and recall comparatively.\")\n",
    "print(\"2. It has predicted status '1' correctly 45 times out of total 47\")\n",
    "print(\"3. It has predicted status '0' correclty 8 times out of total 12\")\n",
    "print(\"Let's improve the score by searching for opitmal no. of trees used with same 'max_depth' and 'min_samples_leaf' than best Descision Tree model created above.\")"
   ]
  },
  {
   "cell_type": "code",
   "execution_count": 384,
   "metadata": {},
   "outputs": [
    {
     "name": "stdout",
     "output_type": "stream",
     "text": [
      "{'n_estimators': [1, 2, 3, 4, 5, 6, 7, 8, 9, 10, 11, 12, 13, 14, 15, 16, 17, 18, 19, 20, 21, 22, 23, 24, 25, 26, 27, 28, 29, 30, 31, 32, 33, 34, 35, 36, 37, 38, 39, 40, 41, 42, 43, 44, 45, 46, 47, 48, 49], 'max_depth': [3], 'min_samples_leaf': [1]}\n"
     ]
    }
   ],
   "source": [
    "from sklearn.model_selection import RandomizedSearchCV\n",
    "# Number of trees in random forest\n",
    "n_estimators = [int(x) for x in range(1, 50)]\n",
    "\n",
    "# Maximum number of levels in tree (Same as optimal decision tree found from above)\n",
    "max_depth = [3]\n",
    "\n",
    "# Minimum number of samples required at each leaf node (Same as optimal decision tree found from above)\n",
    "min_samples_leaf = [1]\n",
    "\n",
    "# Create the random grid\n",
    "random_grid = {'n_estimators': n_estimators,\n",
    "               'max_depth': max_depth,\n",
    "               'min_samples_leaf': min_samples_leaf}\n",
    "print(random_grid)"
   ]
  },
  {
   "cell_type": "code",
   "execution_count": 379,
   "metadata": {},
   "outputs": [
    {
     "name": "stderr",
     "output_type": "stream",
     "text": [
      "d:\\Profiles\\ankGupta\\AppData\\Local\\Continuum\\anaconda3\\lib\\site-packages\\sklearn\\model_selection\\_search.py:266: UserWarning: The total space of parameters 49 is smaller than n_iter=100. Running 49 iterations. For exhaustive searches, use GridSearchCV.\n",
      "  % (grid_size, self.n_iter, grid_size), UserWarning)\n",
      "[Parallel(n_jobs=-1)]: Using backend LokyBackend with 4 concurrent workers.\n"
     ]
    },
    {
     "name": "stdout",
     "output_type": "stream",
     "text": [
      "Fitting 3 folds for each of 49 candidates, totalling 147 fits\n"
     ]
    },
    {
     "name": "stderr",
     "output_type": "stream",
     "text": [
      "[Parallel(n_jobs=-1)]: Done 147 out of 147 | elapsed:    2.6s finished\n"
     ]
    },
    {
     "data": {
      "text/plain": [
       "RandomizedSearchCV(cv=3, error_score='raise-deprecating',\n",
       "                   estimator=RandomForestClassifier(bootstrap=True,\n",
       "                                                    class_weight=None,\n",
       "                                                    criterion='gini',\n",
       "                                                    max_depth=None,\n",
       "                                                    max_features='auto',\n",
       "                                                    max_leaf_nodes=None,\n",
       "                                                    min_impurity_decrease=0.0,\n",
       "                                                    min_impurity_split=None,\n",
       "                                                    min_samples_leaf=1,\n",
       "                                                    min_samples_split=2,\n",
       "                                                    min_weight_fraction_leaf=0.0,\n",
       "                                                    n_estimators='warn',\n",
       "                                                    n_jobs=None,\n",
       "                                                    oob_score=False,\n",
       "                                                    random_state=None,\n",
       "                                                    verbose=0,\n",
       "                                                    warm_start=False),\n",
       "                   iid='warn', n_iter=100, n_jobs=-1,\n",
       "                   param_distributions={'max_depth': [3],\n",
       "                                        'min_samples_leaf': [1],\n",
       "                                        'n_estimators': [1, 2, 3, 4, 5, 6, 7, 8,\n",
       "                                                         9, 10, 11, 12, 13, 14,\n",
       "                                                         15, 16, 17, 18, 19, 20,\n",
       "                                                         21, 22, 23, 24, 25, 26,\n",
       "                                                         27, 28, 29, 30, ...]},\n",
       "                   pre_dispatch='2*n_jobs', random_state=42, refit=True,\n",
       "                   return_train_score=False, scoring=None, verbose=2)"
      ]
     },
     "execution_count": 379,
     "metadata": {},
     "output_type": "execute_result"
    }
   ],
   "source": [
    "# Use the random grid to search for best hyperparameters\n",
    "# First create the base model to tune\n",
    "rf = RandomForestClassifier()\n",
    "# Random search of parameters, using 3 fold cross validation, \n",
    "# search across 100 different combinations, and use all available cores\n",
    "rf_randomcv = RandomizedSearchCV(estimator = rf, param_distributions = random_grid, n_iter = 100, cv = 3, verbose=2, random_state=42, n_jobs = -1)\n",
    "# Fit the random search model\n",
    "rf_randomcv.fit(X_train, y_train)"
   ]
  },
  {
   "cell_type": "code",
   "execution_count": 380,
   "metadata": {},
   "outputs": [
    {
     "name": "stdout",
     "output_type": "stream",
     "text": [
      "Best Parameters: {'n_estimators': 6, 'min_samples_leaf': 1, 'max_depth': 3}\n"
     ]
    }
   ],
   "source": [
    "print(\"Best Parameters: {0}\".format(rf_randomcv.best_params_))"
   ]
  },
  {
   "cell_type": "code",
   "execution_count": 381,
   "metadata": {},
   "outputs": [
    {
     "name": "stdout",
     "output_type": "stream",
     "text": [
      "Train score: 0.9338235294117647\n",
      "Test score: 0.8813559322033898\n",
      "Threshold: [0 1]\n",
      "Precision: [0.79661017 0.9        1.        ]\n",
      "Recall: [1.         0.95744681 0.        ]\n",
      "\n",
      "CROSSTAB\n",
      "PREDICTED  0   1\n",
      "ACTUAL          \n",
      "0          7   5\n",
      "1          2  45\n",
      "\n",
      "Actual Label Counts:\n",
      "1    47\n",
      "0    12\n",
      "Name: status, dtype: int64\n"
     ]
    }
   ],
   "source": [
    "# Creating model with best hyper parameters found\n",
    "rfc_model = RandomForestClassifier(n_estimators=6, max_depth=3, min_samples_leaf=1, random_state=42)\n",
    "rfc_model.fit(X_train, y_train)\n",
    "\n",
    "# Train and test score\n",
    "train_score = rfc_model.score(X_train, y_train)\n",
    "print(\"Train score: {0}\".format(train_score))\n",
    "test_score = rfc_model.score(X_test, y_test)\n",
    "print(\"Test score: {0}\".format(test_score))\n",
    "\n",
    "# Precision and Recall\n",
    "y_pred = rfc_model.predict(X_test)\n",
    "precision, recall, thresholds = precision_recall_curve(y_test, y_pred)\n",
    "print(\"Threshold: {0}\".format(thresholds))\n",
    "print(\"Precision: {0}\".format(precision))\n",
    "print(\"Recall: {0}\".format(recall))\n",
    "\n",
    "# Crosstab to build a confusion matrix\n",
    "cross_tab = pd.crosstab(y_test, y_pred, rownames=['ACTUAL'], colnames=['PREDICTED'])\n",
    "print()\n",
    "print(\"CROSSTAB\")\n",
    "print(cross_tab)\n",
    "    \n",
    "# Check count of 0 and 1 original test dataset for the crosstab analysis\n",
    "print()\n",
    "print(\"Actual Label Counts:\")\n",
    "print(y_test.value_counts())"
   ]
  },
  {
   "cell_type": "code",
   "execution_count": 385,
   "metadata": {},
   "outputs": [
    {
     "name": "stdout",
     "output_type": "stream",
     "text": [
      "We can observe following things from crosstab analysis for the model:\n",
      "1. Train, Test score are little less than the base model.\n",
      "2. Precision and recall have improved\n",
      "2. It has predicted status '1' correctly 45 times out of total 47 whihc is more than the base model\n",
      "3. It has predicted status '0' correclty 7 times out of total 12 whihc is less than the base model\n",
      "4. Optimal no. of tress which gave the best result is 6\n"
     ]
    }
   ],
   "source": [
    "print(\"We can observe following things from crosstab analysis for the model:\")\n",
    "print(\"1. Train, Test score are little less than the base model.\")\n",
    "print(\"2. Precision and recall have improved\")\n",
    "print(\"2. It has predicted status '1' correctly 45 times out of total 47 whihc is more than the base model\")\n",
    "print(\"3. It has predicted status '0' correclty 7 times out of total 12 whihc is less than the base model\")\n",
    "print(\"4. Optimal no. of tress which gave the best result is {0}\".format(rfc_model.n_estimators))"
   ]
  },
  {
   "cell_type": "code",
   "execution_count": null,
   "metadata": {},
   "outputs": [],
   "source": []
  }
 ],
 "metadata": {
  "kernelspec": {
   "display_name": "Python 3",
   "language": "python",
   "name": "python3"
  },
  "language_info": {
   "codemirror_mode": {
    "name": "ipython",
    "version": 3
   },
   "file_extension": ".py",
   "mimetype": "text/x-python",
   "name": "python",
   "nbconvert_exporter": "python",
   "pygments_lexer": "ipython3",
   "version": "3.7.3"
  }
 },
 "nbformat": 4,
 "nbformat_minor": 2
}
